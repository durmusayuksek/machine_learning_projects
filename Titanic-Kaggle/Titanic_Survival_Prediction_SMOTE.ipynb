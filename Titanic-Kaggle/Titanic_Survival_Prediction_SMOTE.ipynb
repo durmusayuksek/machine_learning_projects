{
 "cells": [
  {
   "cell_type": "markdown",
   "id": "31edf589",
   "metadata": {},
   "source": [
    "<div class=\"alert alert-block alert-info\">  \n",
    "    <h2><center>Titanic Survival Prediction</center></h2></div>"
   ]
  },
  {
   "cell_type": "markdown",
   "id": "5b0166d8",
   "metadata": {},
   "source": [
    "<div class=\"alert alert-block alert-danger\">  \n",
    "<h2>1. Importing the Relevant Libraries</h2></div>"
   ]
  },
  {
   "cell_type": "code",
   "execution_count": 1,
   "id": "cf09638f",
   "metadata": {},
   "outputs": [],
   "source": [
    "import numpy as np\n",
    "import pandas as pd\n",
    "import seaborn as sns\n",
    "import matplotlib.pyplot as plt\n",
    "%matplotlib inline\n",
    "\n",
    "from sklearn.linear_model import LogisticRegression\n",
    "from sklearn.linear_model import LogisticRegression, LinearRegression, Ridge, RidgeCV, Lasso, LassoCV, ElasticNet, \\\n",
    "ElasticNetCV\n",
    "from sklearn.svm import SVC, SVR\n",
    "from sklearn.neighbors import KNeighborsClassifier, KNeighborsRegressor\n",
    "from sklearn.tree import DecisionTreeClassifier, DecisionTreeRegressor\n",
    "from sklearn.ensemble import RandomForestClassifier, GradientBoostingClassifier, AdaBoostClassifier, \\\n",
    "RandomForestRegressor,GradientBoostingRegressor\n",
    "from xgboost import XGBClassifier, XGBRegressor\n",
    "\n",
    "from sklearn.model_selection import train_test_split, cross_val_score, cross_validate, GridSearchCV\n",
    "from sklearn.preprocessing import MinMaxScaler, StandardScaler, RobustScaler, OrdinalEncoder\n",
    "from sklearn.pipeline import Pipeline\n",
    "from sklearn.metrics import mean_absolute_error, mean_squared_error, r2_score, confusion_matrix, \\\n",
    "classification_report, plot_roc_curve, plot_precision_recall_curve, roc_auc_score, auc, roc_curve, \\\n",
    "average_precision_score, precision_recall_curve, SCORERS, accuracy_score, recall_score, precision_score, f1_score\n",
    "from sklearn.metrics import SCORERS\n",
    "\n",
    "# Libraries for Style\n",
    "from colorama import Fore\n",
    "from colorama import Style\n",
    "\n",
    "import warnings\n",
    "warnings.filterwarnings('ignore')\n",
    "\n",
    "plt.rcParams[\"figure.figsize\"] = (10,6)\n",
    "pd.set_option('display.max_columns', 100)\n",
    "pd.set_option('display.max_rows', 500)\n",
    "pd.set_option('display.float_format', lambda x: '%.3f' % x)"
   ]
  },
  {
   "cell_type": "markdown",
   "id": "973a4da1",
   "metadata": {},
   "source": [
    "<div class=\"alert alert-block alert-danger\">  \n",
    "<h2>2. Reading the Data</h2></div>"
   ]
  },
  {
   "cell_type": "code",
   "execution_count": 2,
   "id": "54ddbebf",
   "metadata": {},
   "outputs": [],
   "source": [
    "df = pd.read_csv('train.csv')"
   ]
  },
  {
   "cell_type": "code",
   "execution_count": 3,
   "id": "5f68ab26",
   "metadata": {},
   "outputs": [
    {
     "data": {
      "text/html": [
       "<div>\n",
       "<style scoped>\n",
       "    .dataframe tbody tr th:only-of-type {\n",
       "        vertical-align: middle;\n",
       "    }\n",
       "\n",
       "    .dataframe tbody tr th {\n",
       "        vertical-align: top;\n",
       "    }\n",
       "\n",
       "    .dataframe thead th {\n",
       "        text-align: right;\n",
       "    }\n",
       "</style>\n",
       "<table border=\"1\" class=\"dataframe\">\n",
       "  <thead>\n",
       "    <tr style=\"text-align: right;\">\n",
       "      <th></th>\n",
       "      <th>PassengerId</th>\n",
       "      <th>Survived</th>\n",
       "      <th>Pclass</th>\n",
       "      <th>Name</th>\n",
       "      <th>Sex</th>\n",
       "      <th>Age</th>\n",
       "      <th>SibSp</th>\n",
       "      <th>Parch</th>\n",
       "      <th>Ticket</th>\n",
       "      <th>Fare</th>\n",
       "      <th>Cabin</th>\n",
       "      <th>Embarked</th>\n",
       "    </tr>\n",
       "  </thead>\n",
       "  <tbody>\n",
       "    <tr>\n",
       "      <th>0</th>\n",
       "      <td>1</td>\n",
       "      <td>0</td>\n",
       "      <td>3</td>\n",
       "      <td>Braund, Mr. Owen Harris</td>\n",
       "      <td>male</td>\n",
       "      <td>22.000</td>\n",
       "      <td>1</td>\n",
       "      <td>0</td>\n",
       "      <td>A/5 21171</td>\n",
       "      <td>7.250</td>\n",
       "      <td>NaN</td>\n",
       "      <td>S</td>\n",
       "    </tr>\n",
       "    <tr>\n",
       "      <th>1</th>\n",
       "      <td>2</td>\n",
       "      <td>1</td>\n",
       "      <td>1</td>\n",
       "      <td>Cumings, Mrs. John Bradley (Florence Briggs Th...</td>\n",
       "      <td>female</td>\n",
       "      <td>38.000</td>\n",
       "      <td>1</td>\n",
       "      <td>0</td>\n",
       "      <td>PC 17599</td>\n",
       "      <td>71.283</td>\n",
       "      <td>C85</td>\n",
       "      <td>C</td>\n",
       "    </tr>\n",
       "    <tr>\n",
       "      <th>2</th>\n",
       "      <td>3</td>\n",
       "      <td>1</td>\n",
       "      <td>3</td>\n",
       "      <td>Heikkinen, Miss. Laina</td>\n",
       "      <td>female</td>\n",
       "      <td>26.000</td>\n",
       "      <td>0</td>\n",
       "      <td>0</td>\n",
       "      <td>STON/O2. 3101282</td>\n",
       "      <td>7.925</td>\n",
       "      <td>NaN</td>\n",
       "      <td>S</td>\n",
       "    </tr>\n",
       "    <tr>\n",
       "      <th>3</th>\n",
       "      <td>4</td>\n",
       "      <td>1</td>\n",
       "      <td>1</td>\n",
       "      <td>Futrelle, Mrs. Jacques Heath (Lily May Peel)</td>\n",
       "      <td>female</td>\n",
       "      <td>35.000</td>\n",
       "      <td>1</td>\n",
       "      <td>0</td>\n",
       "      <td>113803</td>\n",
       "      <td>53.100</td>\n",
       "      <td>C123</td>\n",
       "      <td>S</td>\n",
       "    </tr>\n",
       "    <tr>\n",
       "      <th>4</th>\n",
       "      <td>5</td>\n",
       "      <td>0</td>\n",
       "      <td>3</td>\n",
       "      <td>Allen, Mr. William Henry</td>\n",
       "      <td>male</td>\n",
       "      <td>35.000</td>\n",
       "      <td>0</td>\n",
       "      <td>0</td>\n",
       "      <td>373450</td>\n",
       "      <td>8.050</td>\n",
       "      <td>NaN</td>\n",
       "      <td>S</td>\n",
       "    </tr>\n",
       "  </tbody>\n",
       "</table>\n",
       "</div>"
      ],
      "text/plain": [
       "   PassengerId  Survived  Pclass  \\\n",
       "0            1         0       3   \n",
       "1            2         1       1   \n",
       "2            3         1       3   \n",
       "3            4         1       1   \n",
       "4            5         0       3   \n",
       "\n",
       "                                                Name     Sex    Age  SibSp  \\\n",
       "0                            Braund, Mr. Owen Harris    male 22.000      1   \n",
       "1  Cumings, Mrs. John Bradley (Florence Briggs Th...  female 38.000      1   \n",
       "2                             Heikkinen, Miss. Laina  female 26.000      0   \n",
       "3       Futrelle, Mrs. Jacques Heath (Lily May Peel)  female 35.000      1   \n",
       "4                           Allen, Mr. William Henry    male 35.000      0   \n",
       "\n",
       "   Parch            Ticket   Fare Cabin Embarked  \n",
       "0      0         A/5 21171  7.250   NaN        S  \n",
       "1      0          PC 17599 71.283   C85        C  \n",
       "2      0  STON/O2. 3101282  7.925   NaN        S  \n",
       "3      0            113803 53.100  C123        S  \n",
       "4      0            373450  8.050   NaN        S  "
      ]
     },
     "execution_count": 3,
     "metadata": {},
     "output_type": "execute_result"
    }
   ],
   "source": [
    "df.head()"
   ]
  },
  {
   "cell_type": "code",
   "execution_count": 4,
   "id": "57b48f29",
   "metadata": {},
   "outputs": [
    {
     "data": {
      "text/plain": [
       "(891, 12)"
      ]
     },
     "execution_count": 4,
     "metadata": {},
     "output_type": "execute_result"
    }
   ],
   "source": [
    "df.shape"
   ]
  },
  {
   "cell_type": "code",
   "execution_count": 5,
   "id": "a06d61b4",
   "metadata": {},
   "outputs": [
    {
     "name": "stdout",
     "output_type": "stream",
     "text": [
      "<class 'pandas.core.frame.DataFrame'>\n",
      "RangeIndex: 891 entries, 0 to 890\n",
      "Data columns (total 12 columns):\n",
      " #   Column       Non-Null Count  Dtype  \n",
      "---  ------       --------------  -----  \n",
      " 0   PassengerId  891 non-null    int64  \n",
      " 1   Survived     891 non-null    int64  \n",
      " 2   Pclass       891 non-null    int64  \n",
      " 3   Name         891 non-null    object \n",
      " 4   Sex          891 non-null    object \n",
      " 5   Age          714 non-null    float64\n",
      " 6   SibSp        891 non-null    int64  \n",
      " 7   Parch        891 non-null    int64  \n",
      " 8   Ticket       891 non-null    object \n",
      " 9   Fare         891 non-null    float64\n",
      " 10  Cabin        204 non-null    object \n",
      " 11  Embarked     889 non-null    object \n",
      "dtypes: float64(2), int64(5), object(5)\n",
      "memory usage: 83.7+ KB\n"
     ]
    }
   ],
   "source": [
    "df.info()"
   ]
  },
  {
   "cell_type": "code",
   "execution_count": 6,
   "id": "7d3a1b45",
   "metadata": {},
   "outputs": [],
   "source": [
    "df2 = df.iloc[:, [1,2,4,5,6,7,9,10,11]]"
   ]
  },
  {
   "cell_type": "code",
   "execution_count": 7,
   "id": "b4bce66e",
   "metadata": {},
   "outputs": [
    {
     "data": {
      "text/html": [
       "<div>\n",
       "<style scoped>\n",
       "    .dataframe tbody tr th:only-of-type {\n",
       "        vertical-align: middle;\n",
       "    }\n",
       "\n",
       "    .dataframe tbody tr th {\n",
       "        vertical-align: top;\n",
       "    }\n",
       "\n",
       "    .dataframe thead th {\n",
       "        text-align: right;\n",
       "    }\n",
       "</style>\n",
       "<table border=\"1\" class=\"dataframe\">\n",
       "  <thead>\n",
       "    <tr style=\"text-align: right;\">\n",
       "      <th></th>\n",
       "      <th>Survived</th>\n",
       "      <th>Pclass</th>\n",
       "      <th>Sex</th>\n",
       "      <th>Age</th>\n",
       "      <th>SibSp</th>\n",
       "      <th>Parch</th>\n",
       "      <th>Fare</th>\n",
       "      <th>Cabin</th>\n",
       "      <th>Embarked</th>\n",
       "    </tr>\n",
       "  </thead>\n",
       "  <tbody>\n",
       "    <tr>\n",
       "      <th>0</th>\n",
       "      <td>0</td>\n",
       "      <td>3</td>\n",
       "      <td>male</td>\n",
       "      <td>22.000</td>\n",
       "      <td>1</td>\n",
       "      <td>0</td>\n",
       "      <td>7.250</td>\n",
       "      <td>NaN</td>\n",
       "      <td>S</td>\n",
       "    </tr>\n",
       "    <tr>\n",
       "      <th>1</th>\n",
       "      <td>1</td>\n",
       "      <td>1</td>\n",
       "      <td>female</td>\n",
       "      <td>38.000</td>\n",
       "      <td>1</td>\n",
       "      <td>0</td>\n",
       "      <td>71.283</td>\n",
       "      <td>C85</td>\n",
       "      <td>C</td>\n",
       "    </tr>\n",
       "    <tr>\n",
       "      <th>2</th>\n",
       "      <td>1</td>\n",
       "      <td>3</td>\n",
       "      <td>female</td>\n",
       "      <td>26.000</td>\n",
       "      <td>0</td>\n",
       "      <td>0</td>\n",
       "      <td>7.925</td>\n",
       "      <td>NaN</td>\n",
       "      <td>S</td>\n",
       "    </tr>\n",
       "    <tr>\n",
       "      <th>3</th>\n",
       "      <td>1</td>\n",
       "      <td>1</td>\n",
       "      <td>female</td>\n",
       "      <td>35.000</td>\n",
       "      <td>1</td>\n",
       "      <td>0</td>\n",
       "      <td>53.100</td>\n",
       "      <td>C123</td>\n",
       "      <td>S</td>\n",
       "    </tr>\n",
       "    <tr>\n",
       "      <th>4</th>\n",
       "      <td>0</td>\n",
       "      <td>3</td>\n",
       "      <td>male</td>\n",
       "      <td>35.000</td>\n",
       "      <td>0</td>\n",
       "      <td>0</td>\n",
       "      <td>8.050</td>\n",
       "      <td>NaN</td>\n",
       "      <td>S</td>\n",
       "    </tr>\n",
       "  </tbody>\n",
       "</table>\n",
       "</div>"
      ],
      "text/plain": [
       "   Survived  Pclass     Sex    Age  SibSp  Parch   Fare Cabin Embarked\n",
       "0         0       3    male 22.000      1      0  7.250   NaN        S\n",
       "1         1       1  female 38.000      1      0 71.283   C85        C\n",
       "2         1       3  female 26.000      0      0  7.925   NaN        S\n",
       "3         1       1  female 35.000      1      0 53.100  C123        S\n",
       "4         0       3    male 35.000      0      0  8.050   NaN        S"
      ]
     },
     "execution_count": 7,
     "metadata": {},
     "output_type": "execute_result"
    }
   ],
   "source": [
    "df2.head()"
   ]
  },
  {
   "cell_type": "markdown",
   "id": "83f197b4",
   "metadata": {},
   "source": [
    "<div class=\"alert alert-block alert-danger\">  \n",
    "<h2>3. Descriptive Statistics</h2></div>"
   ]
  },
  {
   "cell_type": "code",
   "execution_count": 8,
   "id": "867c4a18",
   "metadata": {},
   "outputs": [
    {
     "data": {
      "text/plain": [
       "(891, 9)"
      ]
     },
     "execution_count": 8,
     "metadata": {},
     "output_type": "execute_result"
    }
   ],
   "source": [
    "df2.shape"
   ]
  },
  {
   "cell_type": "code",
   "execution_count": 9,
   "id": "b0d36167",
   "metadata": {},
   "outputs": [
    {
     "name": "stdout",
     "output_type": "stream",
     "text": [
      "<class 'pandas.core.frame.DataFrame'>\n",
      "RangeIndex: 891 entries, 0 to 890\n",
      "Data columns (total 9 columns):\n",
      " #   Column    Non-Null Count  Dtype  \n",
      "---  ------    --------------  -----  \n",
      " 0   Survived  891 non-null    int64  \n",
      " 1   Pclass    891 non-null    int64  \n",
      " 2   Sex       891 non-null    object \n",
      " 3   Age       714 non-null    float64\n",
      " 4   SibSp     891 non-null    int64  \n",
      " 5   Parch     891 non-null    int64  \n",
      " 6   Fare      891 non-null    float64\n",
      " 7   Cabin     204 non-null    object \n",
      " 8   Embarked  889 non-null    object \n",
      "dtypes: float64(2), int64(4), object(3)\n",
      "memory usage: 62.8+ KB\n"
     ]
    }
   ],
   "source": [
    "df2.info()"
   ]
  },
  {
   "cell_type": "code",
   "execution_count": 10,
   "id": "838f4be6",
   "metadata": {},
   "outputs": [
    {
     "data": {
      "text/plain": [
       "Survived      0\n",
       "Pclass        0\n",
       "Sex           0\n",
       "Age         177\n",
       "SibSp         0\n",
       "Parch         0\n",
       "Fare          0\n",
       "Cabin       687\n",
       "Embarked      2\n",
       "dtype: int64"
      ]
     },
     "execution_count": 10,
     "metadata": {},
     "output_type": "execute_result"
    }
   ],
   "source": [
    "df2.isnull().sum()"
   ]
  },
  {
   "cell_type": "code",
   "execution_count": 11,
   "id": "c2647eb5",
   "metadata": {},
   "outputs": [
    {
     "data": {
      "text/html": [
       "<div>\n",
       "<style scoped>\n",
       "    .dataframe tbody tr th:only-of-type {\n",
       "        vertical-align: middle;\n",
       "    }\n",
       "\n",
       "    .dataframe tbody tr th {\n",
       "        vertical-align: top;\n",
       "    }\n",
       "\n",
       "    .dataframe thead th {\n",
       "        text-align: right;\n",
       "    }\n",
       "</style>\n",
       "<table border=\"1\" class=\"dataframe\">\n",
       "  <thead>\n",
       "    <tr style=\"text-align: right;\">\n",
       "      <th></th>\n",
       "      <th>Survived</th>\n",
       "      <th>Pclass</th>\n",
       "      <th>Age</th>\n",
       "      <th>SibSp</th>\n",
       "      <th>Parch</th>\n",
       "      <th>Fare</th>\n",
       "    </tr>\n",
       "  </thead>\n",
       "  <tbody>\n",
       "    <tr>\n",
       "      <th>count</th>\n",
       "      <td>891.000</td>\n",
       "      <td>891.000</td>\n",
       "      <td>714.000</td>\n",
       "      <td>891.000</td>\n",
       "      <td>891.000</td>\n",
       "      <td>891.000</td>\n",
       "    </tr>\n",
       "    <tr>\n",
       "      <th>mean</th>\n",
       "      <td>0.384</td>\n",
       "      <td>2.309</td>\n",
       "      <td>29.699</td>\n",
       "      <td>0.523</td>\n",
       "      <td>0.382</td>\n",
       "      <td>32.204</td>\n",
       "    </tr>\n",
       "    <tr>\n",
       "      <th>std</th>\n",
       "      <td>0.487</td>\n",
       "      <td>0.836</td>\n",
       "      <td>14.526</td>\n",
       "      <td>1.103</td>\n",
       "      <td>0.806</td>\n",
       "      <td>49.693</td>\n",
       "    </tr>\n",
       "    <tr>\n",
       "      <th>min</th>\n",
       "      <td>0.000</td>\n",
       "      <td>1.000</td>\n",
       "      <td>0.420</td>\n",
       "      <td>0.000</td>\n",
       "      <td>0.000</td>\n",
       "      <td>0.000</td>\n",
       "    </tr>\n",
       "    <tr>\n",
       "      <th>25%</th>\n",
       "      <td>0.000</td>\n",
       "      <td>2.000</td>\n",
       "      <td>20.125</td>\n",
       "      <td>0.000</td>\n",
       "      <td>0.000</td>\n",
       "      <td>7.910</td>\n",
       "    </tr>\n",
       "    <tr>\n",
       "      <th>50%</th>\n",
       "      <td>0.000</td>\n",
       "      <td>3.000</td>\n",
       "      <td>28.000</td>\n",
       "      <td>0.000</td>\n",
       "      <td>0.000</td>\n",
       "      <td>14.454</td>\n",
       "    </tr>\n",
       "    <tr>\n",
       "      <th>75%</th>\n",
       "      <td>1.000</td>\n",
       "      <td>3.000</td>\n",
       "      <td>38.000</td>\n",
       "      <td>1.000</td>\n",
       "      <td>0.000</td>\n",
       "      <td>31.000</td>\n",
       "    </tr>\n",
       "    <tr>\n",
       "      <th>max</th>\n",
       "      <td>1.000</td>\n",
       "      <td>3.000</td>\n",
       "      <td>80.000</td>\n",
       "      <td>8.000</td>\n",
       "      <td>6.000</td>\n",
       "      <td>512.329</td>\n",
       "    </tr>\n",
       "  </tbody>\n",
       "</table>\n",
       "</div>"
      ],
      "text/plain": [
       "       Survived  Pclass     Age   SibSp   Parch    Fare\n",
       "count   891.000 891.000 714.000 891.000 891.000 891.000\n",
       "mean      0.384   2.309  29.699   0.523   0.382  32.204\n",
       "std       0.487   0.836  14.526   1.103   0.806  49.693\n",
       "min       0.000   1.000   0.420   0.000   0.000   0.000\n",
       "25%       0.000   2.000  20.125   0.000   0.000   7.910\n",
       "50%       0.000   3.000  28.000   0.000   0.000  14.454\n",
       "75%       1.000   3.000  38.000   1.000   0.000  31.000\n",
       "max       1.000   3.000  80.000   8.000   6.000 512.329"
      ]
     },
     "execution_count": 11,
     "metadata": {},
     "output_type": "execute_result"
    }
   ],
   "source": [
    "df2.describe()"
   ]
  },
  {
   "cell_type": "code",
   "execution_count": 12,
   "id": "b9bcf15c",
   "metadata": {},
   "outputs": [
    {
     "data": {
      "image/png": "[encoded data removed]",
      "text/plain": [
       "<Figure size 720x432 with 2 Axes>"
      ]
     },
     "metadata": {
      "needs_background": "light"
     },
     "output_type": "display_data"
    }
   ],
   "source": [
    "sns.heatmap(df2.corr(), annot=True, cmap='RdBu');"
   ]
  },
  {
   "cell_type": "markdown",
   "id": "2cdc1dff",
   "metadata": {},
   "source": [
    "<div class=\"alert alert-block alert-danger\">  \n",
    "<h2>4. Exploratory Data Analysis</h2></div>"
   ]
  },
  {
   "cell_type": "code",
   "execution_count": 13,
   "id": "04c82e86",
   "metadata": {},
   "outputs": [
    {
     "data": {
      "text/html": [
       "<div>\n",
       "<style scoped>\n",
       "    .dataframe tbody tr th:only-of-type {\n",
       "        vertical-align: middle;\n",
       "    }\n",
       "\n",
       "    .dataframe tbody tr th {\n",
       "        vertical-align: top;\n",
       "    }\n",
       "\n",
       "    .dataframe thead th {\n",
       "        text-align: right;\n",
       "    }\n",
       "</style>\n",
       "<table border=\"1\" class=\"dataframe\">\n",
       "  <thead>\n",
       "    <tr style=\"text-align: right;\">\n",
       "      <th></th>\n",
       "      <th>Survived</th>\n",
       "      <th>Pclass</th>\n",
       "      <th>Sex</th>\n",
       "      <th>Age</th>\n",
       "      <th>SibSp</th>\n",
       "      <th>Parch</th>\n",
       "      <th>Fare</th>\n",
       "      <th>Cabin</th>\n",
       "      <th>Embarked</th>\n",
       "    </tr>\n",
       "  </thead>\n",
       "  <tbody>\n",
       "    <tr>\n",
       "      <th>0</th>\n",
       "      <td>0</td>\n",
       "      <td>3</td>\n",
       "      <td>male</td>\n",
       "      <td>22.000</td>\n",
       "      <td>1</td>\n",
       "      <td>0</td>\n",
       "      <td>7.250</td>\n",
       "      <td>NaN</td>\n",
       "      <td>S</td>\n",
       "    </tr>\n",
       "    <tr>\n",
       "      <th>1</th>\n",
       "      <td>1</td>\n",
       "      <td>1</td>\n",
       "      <td>female</td>\n",
       "      <td>38.000</td>\n",
       "      <td>1</td>\n",
       "      <td>0</td>\n",
       "      <td>71.283</td>\n",
       "      <td>C85</td>\n",
       "      <td>C</td>\n",
       "    </tr>\n",
       "    <tr>\n",
       "      <th>2</th>\n",
       "      <td>1</td>\n",
       "      <td>3</td>\n",
       "      <td>female</td>\n",
       "      <td>26.000</td>\n",
       "      <td>0</td>\n",
       "      <td>0</td>\n",
       "      <td>7.925</td>\n",
       "      <td>NaN</td>\n",
       "      <td>S</td>\n",
       "    </tr>\n",
       "    <tr>\n",
       "      <th>3</th>\n",
       "      <td>1</td>\n",
       "      <td>1</td>\n",
       "      <td>female</td>\n",
       "      <td>35.000</td>\n",
       "      <td>1</td>\n",
       "      <td>0</td>\n",
       "      <td>53.100</td>\n",
       "      <td>C123</td>\n",
       "      <td>S</td>\n",
       "    </tr>\n",
       "    <tr>\n",
       "      <th>4</th>\n",
       "      <td>0</td>\n",
       "      <td>3</td>\n",
       "      <td>male</td>\n",
       "      <td>35.000</td>\n",
       "      <td>0</td>\n",
       "      <td>0</td>\n",
       "      <td>8.050</td>\n",
       "      <td>NaN</td>\n",
       "      <td>S</td>\n",
       "    </tr>\n",
       "  </tbody>\n",
       "</table>\n",
       "</div>"
      ],
      "text/plain": [
       "   Survived  Pclass     Sex    Age  SibSp  Parch   Fare Cabin Embarked\n",
       "0         0       3    male 22.000      1      0  7.250   NaN        S\n",
       "1         1       1  female 38.000      1      0 71.283   C85        C\n",
       "2         1       3  female 26.000      0      0  7.925   NaN        S\n",
       "3         1       1  female 35.000      1      0 53.100  C123        S\n",
       "4         0       3    male 35.000      0      0  8.050   NaN        S"
      ]
     },
     "execution_count": 13,
     "metadata": {},
     "output_type": "execute_result"
    }
   ],
   "source": [
    "df2.head()"
   ]
  },
  {
   "cell_type": "markdown",
   "id": "8e13ddda",
   "metadata": {},
   "source": [
    "#### Target Label"
   ]
  },
  {
   "cell_type": "code",
   "execution_count": 14,
   "id": "8673a554",
   "metadata": {},
   "outputs": [
    {
     "data": {
      "image/png": "[encoded data removed]",
      "text/plain": [
       "<Figure size 720x432 with 1 Axes>"
      ]
     },
     "metadata": {
      "needs_background": "light"
     },
     "output_type": "display_data"
    }
   ],
   "source": [
    "ax = sns.countplot(df2.Survived)\n",
    "ax.bar_label(ax.containers[0]);"
   ]
  },
  {
   "cell_type": "markdown",
   "id": "3cbc3d35",
   "metadata": {},
   "source": [
    "#### Pclass"
   ]
  },
  {
   "cell_type": "code",
   "execution_count": 15,
   "id": "fea1744d",
   "metadata": {},
   "outputs": [
    {
     "data": {
      "image/png": "[encoded data removed]",
      "text/plain": [
       "<Figure size 720x432 with 1 Axes>"
      ]
     },
     "metadata": {
      "needs_background": "light"
     },
     "output_type": "display_data"
    }
   ],
   "source": [
    "ax = sns.countplot(df2.Pclass)\n",
    "ax.bar_label(ax.containers[0]);"
   ]
  },
  {
   "cell_type": "markdown",
   "id": "a61c0424",
   "metadata": {},
   "source": [
    "#### Sex"
   ]
  },
  {
   "cell_type": "code",
   "execution_count": 16,
   "id": "bf1d35de",
   "metadata": {},
   "outputs": [
    {
     "data": {
      "image/png": "[encoded data removed]",
      "text/plain": [
       "<Figure size 720x432 with 1 Axes>"
      ]
     },
     "metadata": {
      "needs_background": "light"
     },
     "output_type": "display_data"
    }
   ],
   "source": [
    "ax = sns.countplot(df2.Sex)\n",
    "ax.bar_label(ax.containers[0]);"
   ]
  },
  {
   "cell_type": "markdown",
   "id": "c829042a",
   "metadata": {},
   "source": [
    "#### Age"
   ]
  },
  {
   "cell_type": "code",
   "execution_count": 17,
   "id": "9b98ff2a",
   "metadata": {},
   "outputs": [
    {
     "data": {
      "image/png": "[encoded data removed]",
      "text/plain": [
       "<Figure size 720x432 with 1 Axes>"
      ]
     },
     "metadata": {
      "needs_background": "light"
     },
     "output_type": "display_data"
    }
   ],
   "source": [
    "sns.boxplot(df2.Age);"
   ]
  },
  {
   "cell_type": "code",
   "execution_count": 18,
   "id": "f40188ee",
   "metadata": {},
   "outputs": [],
   "source": [
    "for group1 in list(df2['Sex'].unique()):\n",
    "    for group2 in list(df2['Pclass'].unique()):\n",
    "        for group3 in list(df2['SibSp'].unique()):\n",
    "            for group4 in list(df2['Parch'].unique()):\n",
    "                cond1 = df2['Sex']==group1\n",
    "                cond2 = (df2['Sex']==group1) & (df2['Pclass']==group2)\n",
    "                cond3 = (df2['Sex']==group1) & (df2['Pclass']==group2) & (df2['SibSp']==group3)\n",
    "                cond4 = (df2['Sex']==group1) & (df2['Pclass']==group2) & (df2['SibSp']==group3) & \\\n",
    "                (df2['Parch']==group4)                                \n",
    "                mode1 = list(df2[cond1]['Age'].mode())\n",
    "                mode2 = list(df2[cond2]['Age'].mode())\n",
    "                mode3 = list(df2[cond3]['Age'].mode())\n",
    "                mode4 = list(df2[cond4]['Age'].mode())\n",
    "                if mode4 != []:\n",
    "                    df2.loc[cond4, 'Age'] = df2.loc[cond4, 'Age'].fillna(df2[cond4]['Age'].mode()[0])\n",
    "                elif mode3 != []:\n",
    "                    df2.loc[cond3, 'Age'] = df2.loc[cond3, 'Age'].fillna(df2[cond3]['Age'].mode()[0])\n",
    "                elif mode2 != []:\n",
    "                    df2.loc[cond2, 'Age'] = df2.loc[cond2, 'Age'].fillna(df2[cond2]['Age'].mode()[0])"
   ]
  },
  {
   "cell_type": "code",
   "execution_count": 19,
   "id": "c85cc0a2",
   "metadata": {},
   "outputs": [
    {
     "data": {
      "text/plain": [
       "0"
      ]
     },
     "execution_count": 19,
     "metadata": {},
     "output_type": "execute_result"
    }
   ],
   "source": [
    "df2.Age.isnull().sum()"
   ]
  },
  {
   "cell_type": "code",
   "execution_count": 20,
   "id": "5bf89e6f",
   "metadata": {},
   "outputs": [],
   "source": [
    "# Rounding the floating point numbers to the ceiling number."
   ]
  },
  {
   "cell_type": "code",
   "execution_count": 21,
   "id": "64ba4d42",
   "metadata": {},
   "outputs": [],
   "source": [
    "df2.Age = df2.Age.apply(lambda x: np.ceil(x))"
   ]
  },
  {
   "cell_type": "code",
   "execution_count": 22,
   "id": "b6708601",
   "metadata": {},
   "outputs": [
    {
     "data": {
      "image/png": "[encoded data removed]",
      "text/plain": [
       "<Figure size 720x432 with 1 Axes>"
      ]
     },
     "metadata": {
      "needs_background": "light"
     },
     "output_type": "display_data"
    }
   ],
   "source": [
    "sns.boxplot(df2.Age);"
   ]
  },
  {
   "cell_type": "code",
   "execution_count": 23,
   "id": "98597bd1",
   "metadata": {},
   "outputs": [],
   "source": [
    "# I keep these outliers"
   ]
  },
  {
   "cell_type": "code",
   "execution_count": 24,
   "id": "5a7e66ba",
   "metadata": {},
   "outputs": [
    {
     "data": {
      "text/plain": [
       "22"
      ]
     },
     "execution_count": 24,
     "metadata": {},
     "output_type": "execute_result"
    }
   ],
   "source": [
    "len(df2[df2.Age > 60])"
   ]
  },
  {
   "cell_type": "markdown",
   "id": "b62c37df",
   "metadata": {},
   "source": [
    "#### SibSp"
   ]
  },
  {
   "cell_type": "code",
   "execution_count": 25,
   "id": "fc94bd9c",
   "metadata": {},
   "outputs": [
    {
     "data": {
      "image/png": "[encoded data removed]",
      "text/plain": [
       "<Figure size 720x432 with 1 Axes>"
      ]
     },
     "metadata": {
      "needs_background": "light"
     },
     "output_type": "display_data"
    }
   ],
   "source": [
    "ax = sns.countplot(df2.SibSp)\n",
    "ax.bar_label(ax.containers[0]);"
   ]
  },
  {
   "cell_type": "markdown",
   "id": "0cfb7c86",
   "metadata": {},
   "source": [
    "#### Parch"
   ]
  },
  {
   "cell_type": "code",
   "execution_count": 26,
   "id": "776cbfe6",
   "metadata": {},
   "outputs": [
    {
     "data": {
      "image/png": "[encoded data removed]",
      "text/plain": [
       "<Figure size 720x432 with 1 Axes>"
      ]
     },
     "metadata": {
      "needs_background": "light"
     },
     "output_type": "display_data"
    }
   ],
   "source": [
    "ax = sns.countplot(df2.Parch)\n",
    "ax.bar_label(ax.containers[0]);"
   ]
  },
  {
   "cell_type": "markdown",
   "id": "62f00840",
   "metadata": {},
   "source": [
    "#### Fare"
   ]
  },
  {
   "cell_type": "code",
   "execution_count": 27,
   "id": "99549144",
   "metadata": {},
   "outputs": [
    {
     "data": {
      "image/png": "[encoded data removed]",
      "text/plain": [
       "<Figure size 720x432 with 1 Axes>"
      ]
     },
     "metadata": {
      "needs_background": "light"
     },
     "output_type": "display_data"
    }
   ],
   "source": [
    "sns.boxplot(df2.Fare);"
   ]
  },
  {
   "cell_type": "code",
   "execution_count": 28,
   "id": "7bb11723",
   "metadata": {},
   "outputs": [
    {
     "data": {
      "text/html": [
       "<div>\n",
       "<style scoped>\n",
       "    .dataframe tbody tr th:only-of-type {\n",
       "        vertical-align: middle;\n",
       "    }\n",
       "\n",
       "    .dataframe tbody tr th {\n",
       "        vertical-align: top;\n",
       "    }\n",
       "\n",
       "    .dataframe thead th {\n",
       "        text-align: right;\n",
       "    }\n",
       "</style>\n",
       "<table border=\"1\" class=\"dataframe\">\n",
       "  <thead>\n",
       "    <tr style=\"text-align: right;\">\n",
       "      <th></th>\n",
       "      <th>Survived</th>\n",
       "      <th>Pclass</th>\n",
       "      <th>Sex</th>\n",
       "      <th>Age</th>\n",
       "      <th>SibSp</th>\n",
       "      <th>Parch</th>\n",
       "      <th>Fare</th>\n",
       "      <th>Cabin</th>\n",
       "      <th>Embarked</th>\n",
       "    </tr>\n",
       "  </thead>\n",
       "  <tbody>\n",
       "    <tr>\n",
       "      <th>258</th>\n",
       "      <td>1</td>\n",
       "      <td>1</td>\n",
       "      <td>female</td>\n",
       "      <td>35.000</td>\n",
       "      <td>0</td>\n",
       "      <td>0</td>\n",
       "      <td>512.329</td>\n",
       "      <td>NaN</td>\n",
       "      <td>C</td>\n",
       "    </tr>\n",
       "    <tr>\n",
       "      <th>679</th>\n",
       "      <td>1</td>\n",
       "      <td>1</td>\n",
       "      <td>male</td>\n",
       "      <td>36.000</td>\n",
       "      <td>0</td>\n",
       "      <td>1</td>\n",
       "      <td>512.329</td>\n",
       "      <td>B51 B53 B55</td>\n",
       "      <td>C</td>\n",
       "    </tr>\n",
       "    <tr>\n",
       "      <th>737</th>\n",
       "      <td>1</td>\n",
       "      <td>1</td>\n",
       "      <td>male</td>\n",
       "      <td>35.000</td>\n",
       "      <td>0</td>\n",
       "      <td>0</td>\n",
       "      <td>512.329</td>\n",
       "      <td>B101</td>\n",
       "      <td>C</td>\n",
       "    </tr>\n",
       "  </tbody>\n",
       "</table>\n",
       "</div>"
      ],
      "text/plain": [
       "     Survived  Pclass     Sex    Age  SibSp  Parch    Fare        Cabin  \\\n",
       "258         1       1  female 35.000      0      0 512.329          NaN   \n",
       "679         1       1    male 36.000      0      1 512.329  B51 B53 B55   \n",
       "737         1       1    male 35.000      0      0 512.329         B101   \n",
       "\n",
       "    Embarked  \n",
       "258        C  \n",
       "679        C  \n",
       "737        C  "
      ]
     },
     "execution_count": 28,
     "metadata": {},
     "output_type": "execute_result"
    }
   ],
   "source": [
    "df2[df2.Fare > 300]"
   ]
  },
  {
   "cell_type": "code",
   "execution_count": 29,
   "id": "bcbfd0a9",
   "metadata": {},
   "outputs": [],
   "source": [
    "# I keep these extreme outliers since these cabins were the most expensive in Titanic"
   ]
  },
  {
   "cell_type": "markdown",
   "id": "a6fe5faa",
   "metadata": {},
   "source": [
    "#### Embarked"
   ]
  },
  {
   "cell_type": "code",
   "execution_count": 30,
   "id": "6352963e",
   "metadata": {},
   "outputs": [
    {
     "data": {
      "text/plain": [
       "S    644\n",
       "C    168\n",
       "Q     77\n",
       "Name: Embarked, dtype: int64"
      ]
     },
     "execution_count": 30,
     "metadata": {},
     "output_type": "execute_result"
    }
   ],
   "source": [
    "df2.Embarked.value_counts()"
   ]
  },
  {
   "cell_type": "code",
   "execution_count": 31,
   "id": "b846e6f2",
   "metadata": {},
   "outputs": [
    {
     "data": {
      "image/png": "[encoded data removed]",
      "text/plain": [
       "<Figure size 720x432 with 1 Axes>"
      ]
     },
     "metadata": {
      "needs_background": "light"
     },
     "output_type": "display_data"
    }
   ],
   "source": [
    "ax = sns.countplot(df2.Embarked)\n",
    "ax.bar_label(ax.containers[0]);"
   ]
  },
  {
   "cell_type": "code",
   "execution_count": 32,
   "id": "45f96715",
   "metadata": {},
   "outputs": [
    {
     "data": {
      "text/html": [
       "<div>\n",
       "<style scoped>\n",
       "    .dataframe tbody tr th:only-of-type {\n",
       "        vertical-align: middle;\n",
       "    }\n",
       "\n",
       "    .dataframe tbody tr th {\n",
       "        vertical-align: top;\n",
       "    }\n",
       "\n",
       "    .dataframe thead th {\n",
       "        text-align: right;\n",
       "    }\n",
       "</style>\n",
       "<table border=\"1\" class=\"dataframe\">\n",
       "  <thead>\n",
       "    <tr style=\"text-align: right;\">\n",
       "      <th></th>\n",
       "      <th>Survived</th>\n",
       "      <th>Pclass</th>\n",
       "      <th>Sex</th>\n",
       "      <th>Age</th>\n",
       "      <th>SibSp</th>\n",
       "      <th>Parch</th>\n",
       "      <th>Fare</th>\n",
       "      <th>Cabin</th>\n",
       "      <th>Embarked</th>\n",
       "    </tr>\n",
       "  </thead>\n",
       "  <tbody>\n",
       "    <tr>\n",
       "      <th>61</th>\n",
       "      <td>1</td>\n",
       "      <td>1</td>\n",
       "      <td>female</td>\n",
       "      <td>38.000</td>\n",
       "      <td>0</td>\n",
       "      <td>0</td>\n",
       "      <td>80.000</td>\n",
       "      <td>B28</td>\n",
       "      <td>NaN</td>\n",
       "    </tr>\n",
       "    <tr>\n",
       "      <th>829</th>\n",
       "      <td>1</td>\n",
       "      <td>1</td>\n",
       "      <td>female</td>\n",
       "      <td>62.000</td>\n",
       "      <td>0</td>\n",
       "      <td>0</td>\n",
       "      <td>80.000</td>\n",
       "      <td>B28</td>\n",
       "      <td>NaN</td>\n",
       "    </tr>\n",
       "  </tbody>\n",
       "</table>\n",
       "</div>"
      ],
      "text/plain": [
       "     Survived  Pclass     Sex    Age  SibSp  Parch   Fare Cabin Embarked\n",
       "61          1       1  female 38.000      0      0 80.000   B28      NaN\n",
       "829         1       1  female 62.000      0      0 80.000   B28      NaN"
      ]
     },
     "execution_count": 32,
     "metadata": {},
     "output_type": "execute_result"
    }
   ],
   "source": [
    "df2[df2.Embarked.isna()]"
   ]
  },
  {
   "cell_type": "code",
   "execution_count": 33,
   "id": "0616d67d",
   "metadata": {},
   "outputs": [],
   "source": [
    "df2.loc[61, 'Embarked'] = 'S'"
   ]
  },
  {
   "cell_type": "code",
   "execution_count": 34,
   "id": "3042b210",
   "metadata": {},
   "outputs": [],
   "source": [
    "df2.loc[829, 'Embarked'] = 'C'"
   ]
  },
  {
   "cell_type": "code",
   "execution_count": 35,
   "id": "f9e769da",
   "metadata": {},
   "outputs": [
    {
     "data": {
      "text/plain": [
       "Survived      0\n",
       "Pclass        0\n",
       "Sex           0\n",
       "Age           0\n",
       "SibSp         0\n",
       "Parch         0\n",
       "Fare          0\n",
       "Cabin       687\n",
       "Embarked      0\n",
       "dtype: int64"
      ]
     },
     "execution_count": 35,
     "metadata": {},
     "output_type": "execute_result"
    }
   ],
   "source": [
    "df2.isnull().sum()"
   ]
  },
  {
   "cell_type": "code",
   "execution_count": 36,
   "id": "849b465d",
   "metadata": {},
   "outputs": [
    {
     "data": {
      "text/html": [
       "<div>\n",
       "<style scoped>\n",
       "    .dataframe tbody tr th:only-of-type {\n",
       "        vertical-align: middle;\n",
       "    }\n",
       "\n",
       "    .dataframe tbody tr th {\n",
       "        vertical-align: top;\n",
       "    }\n",
       "\n",
       "    .dataframe thead th {\n",
       "        text-align: right;\n",
       "    }\n",
       "</style>\n",
       "<table border=\"1\" class=\"dataframe\">\n",
       "  <thead>\n",
       "    <tr style=\"text-align: right;\">\n",
       "      <th></th>\n",
       "      <th>Survived</th>\n",
       "      <th>Pclass</th>\n",
       "      <th>Sex</th>\n",
       "      <th>Age</th>\n",
       "      <th>SibSp</th>\n",
       "      <th>Parch</th>\n",
       "      <th>Fare</th>\n",
       "      <th>Cabin</th>\n",
       "      <th>Embarked</th>\n",
       "    </tr>\n",
       "  </thead>\n",
       "  <tbody>\n",
       "    <tr>\n",
       "      <th>0</th>\n",
       "      <td>0</td>\n",
       "      <td>3</td>\n",
       "      <td>male</td>\n",
       "      <td>22.000</td>\n",
       "      <td>1</td>\n",
       "      <td>0</td>\n",
       "      <td>7.250</td>\n",
       "      <td>NaN</td>\n",
       "      <td>S</td>\n",
       "    </tr>\n",
       "    <tr>\n",
       "      <th>1</th>\n",
       "      <td>1</td>\n",
       "      <td>1</td>\n",
       "      <td>female</td>\n",
       "      <td>38.000</td>\n",
       "      <td>1</td>\n",
       "      <td>0</td>\n",
       "      <td>71.283</td>\n",
       "      <td>C85</td>\n",
       "      <td>C</td>\n",
       "    </tr>\n",
       "    <tr>\n",
       "      <th>2</th>\n",
       "      <td>1</td>\n",
       "      <td>3</td>\n",
       "      <td>female</td>\n",
       "      <td>26.000</td>\n",
       "      <td>0</td>\n",
       "      <td>0</td>\n",
       "      <td>7.925</td>\n",
       "      <td>NaN</td>\n",
       "      <td>S</td>\n",
       "    </tr>\n",
       "    <tr>\n",
       "      <th>3</th>\n",
       "      <td>1</td>\n",
       "      <td>1</td>\n",
       "      <td>female</td>\n",
       "      <td>35.000</td>\n",
       "      <td>1</td>\n",
       "      <td>0</td>\n",
       "      <td>53.100</td>\n",
       "      <td>C123</td>\n",
       "      <td>S</td>\n",
       "    </tr>\n",
       "    <tr>\n",
       "      <th>4</th>\n",
       "      <td>0</td>\n",
       "      <td>3</td>\n",
       "      <td>male</td>\n",
       "      <td>35.000</td>\n",
       "      <td>0</td>\n",
       "      <td>0</td>\n",
       "      <td>8.050</td>\n",
       "      <td>NaN</td>\n",
       "      <td>S</td>\n",
       "    </tr>\n",
       "  </tbody>\n",
       "</table>\n",
       "</div>"
      ],
      "text/plain": [
       "   Survived  Pclass     Sex    Age  SibSp  Parch   Fare Cabin Embarked\n",
       "0         0       3    male 22.000      1      0  7.250   NaN        S\n",
       "1         1       1  female 38.000      1      0 71.283   C85        C\n",
       "2         1       3  female 26.000      0      0  7.925   NaN        S\n",
       "3         1       1  female 35.000      1      0 53.100  C123        S\n",
       "4         0       3    male 35.000      0      0  8.050   NaN        S"
      ]
     },
     "execution_count": 36,
     "metadata": {},
     "output_type": "execute_result"
    }
   ],
   "source": [
    "df2.head()"
   ]
  },
  {
   "cell_type": "code",
   "execution_count": 37,
   "id": "7570e381",
   "metadata": {},
   "outputs": [
    {
     "name": "stdout",
     "output_type": "stream",
     "text": [
      "<class 'pandas.core.frame.DataFrame'>\n",
      "RangeIndex: 891 entries, 0 to 890\n",
      "Data columns (total 9 columns):\n",
      " #   Column    Non-Null Count  Dtype  \n",
      "---  ------    --------------  -----  \n",
      " 0   Survived  891 non-null    int64  \n",
      " 1   Pclass    891 non-null    int64  \n",
      " 2   Sex       891 non-null    object \n",
      " 3   Age       891 non-null    float64\n",
      " 4   SibSp     891 non-null    int64  \n",
      " 5   Parch     891 non-null    int64  \n",
      " 6   Fare      891 non-null    float64\n",
      " 7   Cabin     204 non-null    object \n",
      " 8   Embarked  891 non-null    object \n",
      "dtypes: float64(2), int64(4), object(3)\n",
      "memory usage: 62.8+ KB\n"
     ]
    }
   ],
   "source": [
    "df2.info()"
   ]
  },
  {
   "cell_type": "code",
   "execution_count": 38,
   "id": "70002140",
   "metadata": {},
   "outputs": [
    {
     "data": {
      "image/png": "[encoded data removed]",
      "text/plain": [
       "<Figure size 720x432 with 1 Axes>"
      ]
     },
     "metadata": {
      "needs_background": "light"
     },
     "output_type": "display_data"
    }
   ],
   "source": [
    "df2.corr()['Survived'].drop('Survived').sort_values().plot.barh();"
   ]
  },
  {
   "cell_type": "code",
   "execution_count": 39,
   "id": "fa72ab6e",
   "metadata": {},
   "outputs": [],
   "source": [
    "df2 = df2.drop('Cabin', axis=1)"
   ]
  },
  {
   "cell_type": "code",
   "execution_count": 40,
   "id": "b0ec35ed",
   "metadata": {},
   "outputs": [
    {
     "data": {
      "text/html": [
       "<div>\n",
       "<style scoped>\n",
       "    .dataframe tbody tr th:only-of-type {\n",
       "        vertical-align: middle;\n",
       "    }\n",
       "\n",
       "    .dataframe tbody tr th {\n",
       "        vertical-align: top;\n",
       "    }\n",
       "\n",
       "    .dataframe thead th {\n",
       "        text-align: right;\n",
       "    }\n",
       "</style>\n",
       "<table border=\"1\" class=\"dataframe\">\n",
       "  <thead>\n",
       "    <tr style=\"text-align: right;\">\n",
       "      <th></th>\n",
       "      <th>Survived</th>\n",
       "      <th>Pclass</th>\n",
       "      <th>Sex</th>\n",
       "      <th>Age</th>\n",
       "      <th>SibSp</th>\n",
       "      <th>Parch</th>\n",
       "      <th>Fare</th>\n",
       "      <th>Embarked</th>\n",
       "    </tr>\n",
       "  </thead>\n",
       "  <tbody>\n",
       "    <tr>\n",
       "      <th>0</th>\n",
       "      <td>0</td>\n",
       "      <td>3</td>\n",
       "      <td>male</td>\n",
       "      <td>22.000</td>\n",
       "      <td>1</td>\n",
       "      <td>0</td>\n",
       "      <td>7.250</td>\n",
       "      <td>S</td>\n",
       "    </tr>\n",
       "    <tr>\n",
       "      <th>1</th>\n",
       "      <td>1</td>\n",
       "      <td>1</td>\n",
       "      <td>female</td>\n",
       "      <td>38.000</td>\n",
       "      <td>1</td>\n",
       "      <td>0</td>\n",
       "      <td>71.283</td>\n",
       "      <td>C</td>\n",
       "    </tr>\n",
       "    <tr>\n",
       "      <th>2</th>\n",
       "      <td>1</td>\n",
       "      <td>3</td>\n",
       "      <td>female</td>\n",
       "      <td>26.000</td>\n",
       "      <td>0</td>\n",
       "      <td>0</td>\n",
       "      <td>7.925</td>\n",
       "      <td>S</td>\n",
       "    </tr>\n",
       "    <tr>\n",
       "      <th>3</th>\n",
       "      <td>1</td>\n",
       "      <td>1</td>\n",
       "      <td>female</td>\n",
       "      <td>35.000</td>\n",
       "      <td>1</td>\n",
       "      <td>0</td>\n",
       "      <td>53.100</td>\n",
       "      <td>S</td>\n",
       "    </tr>\n",
       "    <tr>\n",
       "      <th>4</th>\n",
       "      <td>0</td>\n",
       "      <td>3</td>\n",
       "      <td>male</td>\n",
       "      <td>35.000</td>\n",
       "      <td>0</td>\n",
       "      <td>0</td>\n",
       "      <td>8.050</td>\n",
       "      <td>S</td>\n",
       "    </tr>\n",
       "  </tbody>\n",
       "</table>\n",
       "</div>"
      ],
      "text/plain": [
       "   Survived  Pclass     Sex    Age  SibSp  Parch   Fare Embarked\n",
       "0         0       3    male 22.000      1      0  7.250        S\n",
       "1         1       1  female 38.000      1      0 71.283        C\n",
       "2         1       3  female 26.000      0      0  7.925        S\n",
       "3         1       1  female 35.000      1      0 53.100        S\n",
       "4         0       3    male 35.000      0      0  8.050        S"
      ]
     },
     "execution_count": 40,
     "metadata": {},
     "output_type": "execute_result"
    }
   ],
   "source": [
    "df2.head()"
   ]
  },
  {
   "cell_type": "code",
   "execution_count": 41,
   "id": "244ab5b6",
   "metadata": {},
   "outputs": [
    {
     "data": {
      "text/plain": [
       "(891, 8)"
      ]
     },
     "execution_count": 41,
     "metadata": {},
     "output_type": "execute_result"
    }
   ],
   "source": [
    "df2.shape"
   ]
  },
  {
   "cell_type": "markdown",
   "id": "fbc9eadf",
   "metadata": {},
   "source": [
    "<div class=\"alert alert-block alert-danger\">  \n",
    "<h2>5. The Training Phase of the ML Procedure</h2></div>"
   ]
  },
  {
   "cell_type": "markdown",
   "id": "663e85da",
   "metadata": {},
   "source": [
    "<div class=\"alert alert-block alert-success\">  \n",
    "<h3>5.1. Data Preprocessing</h3></div>"
   ]
  },
  {
   "cell_type": "code",
   "execution_count": 42,
   "id": "3ecc30fd",
   "metadata": {},
   "outputs": [],
   "source": [
    "X = pd.get_dummies(df2.drop('Survived', axis=1), drop_first=True)\n",
    "y = df2['Survived']"
   ]
  },
  {
   "cell_type": "code",
   "execution_count": 43,
   "id": "df438d48",
   "metadata": {},
   "outputs": [
    {
     "data": {
      "text/html": [
       "<div>\n",
       "<style scoped>\n",
       "    .dataframe tbody tr th:only-of-type {\n",
       "        vertical-align: middle;\n",
       "    }\n",
       "\n",
       "    .dataframe tbody tr th {\n",
       "        vertical-align: top;\n",
       "    }\n",
       "\n",
       "    .dataframe thead th {\n",
       "        text-align: right;\n",
       "    }\n",
       "</style>\n",
       "<table border=\"1\" class=\"dataframe\">\n",
       "  <thead>\n",
       "    <tr style=\"text-align: right;\">\n",
       "      <th></th>\n",
       "      <th>Pclass</th>\n",
       "      <th>Age</th>\n",
       "      <th>SibSp</th>\n",
       "      <th>Parch</th>\n",
       "      <th>Fare</th>\n",
       "      <th>Sex_male</th>\n",
       "      <th>Embarked_Q</th>\n",
       "      <th>Embarked_S</th>\n",
       "    </tr>\n",
       "  </thead>\n",
       "  <tbody>\n",
       "    <tr>\n",
       "      <th>0</th>\n",
       "      <td>3</td>\n",
       "      <td>22.000</td>\n",
       "      <td>1</td>\n",
       "      <td>0</td>\n",
       "      <td>7.250</td>\n",
       "      <td>1</td>\n",
       "      <td>0</td>\n",
       "      <td>1</td>\n",
       "    </tr>\n",
       "    <tr>\n",
       "      <th>1</th>\n",
       "      <td>1</td>\n",
       "      <td>38.000</td>\n",
       "      <td>1</td>\n",
       "      <td>0</td>\n",
       "      <td>71.283</td>\n",
       "      <td>0</td>\n",
       "      <td>0</td>\n",
       "      <td>0</td>\n",
       "    </tr>\n",
       "    <tr>\n",
       "      <th>2</th>\n",
       "      <td>3</td>\n",
       "      <td>26.000</td>\n",
       "      <td>0</td>\n",
       "      <td>0</td>\n",
       "      <td>7.925</td>\n",
       "      <td>0</td>\n",
       "      <td>0</td>\n",
       "      <td>1</td>\n",
       "    </tr>\n",
       "    <tr>\n",
       "      <th>3</th>\n",
       "      <td>1</td>\n",
       "      <td>35.000</td>\n",
       "      <td>1</td>\n",
       "      <td>0</td>\n",
       "      <td>53.100</td>\n",
       "      <td>0</td>\n",
       "      <td>0</td>\n",
       "      <td>1</td>\n",
       "    </tr>\n",
       "    <tr>\n",
       "      <th>4</th>\n",
       "      <td>3</td>\n",
       "      <td>35.000</td>\n",
       "      <td>0</td>\n",
       "      <td>0</td>\n",
       "      <td>8.050</td>\n",
       "      <td>1</td>\n",
       "      <td>0</td>\n",
       "      <td>1</td>\n",
       "    </tr>\n",
       "  </tbody>\n",
       "</table>\n",
       "</div>"
      ],
      "text/plain": [
       "   Pclass    Age  SibSp  Parch   Fare  Sex_male  Embarked_Q  Embarked_S\n",
       "0       3 22.000      1      0  7.250         1           0           1\n",
       "1       1 38.000      1      0 71.283         0           0           0\n",
       "2       3 26.000      0      0  7.925         0           0           1\n",
       "3       1 35.000      1      0 53.100         0           0           1\n",
       "4       3 35.000      0      0  8.050         1           0           1"
      ]
     },
     "execution_count": 43,
     "metadata": {},
     "output_type": "execute_result"
    }
   ],
   "source": [
    "X.head()"
   ]
  },
  {
   "cell_type": "code",
   "execution_count": 44,
   "id": "5fed068b",
   "metadata": {},
   "outputs": [],
   "source": [
    "X_train, X_test, y_train, y_test = train_test_split(X, y, test_size=0.20, stratify=y, random_state=42)"
   ]
  },
  {
   "cell_type": "code",
   "execution_count": 45,
   "id": "8d51d312",
   "metadata": {},
   "outputs": [
    {
     "name": "stdout",
     "output_type": "stream",
     "text": [
      "Train features shape :  (712, 8)\n",
      "Train target shape   :  (712,)\n",
      "Test features shape  :  (179, 8)\n",
      "Test target shape    :  (179,)\n"
     ]
    }
   ],
   "source": [
    "print(\"Train features shape : \", X_train.shape)\n",
    "print(\"Train target shape   : \", y_train.shape)\n",
    "print(\"Test features shape  : \", X_test.shape)\n",
    "print(\"Test target shape    : \", y_test.shape)"
   ]
  },
  {
   "cell_type": "code",
   "execution_count": 46,
   "id": "fb4cc9d7",
   "metadata": {},
   "outputs": [],
   "source": [
    "def eval_metric(model, X_train, y_train, X_test, y_test):\n",
    "    \n",
    "    y_train_pred = model.predict(X_train)\n",
    "    y_pred = model.predict(X_test)\n",
    "    \n",
    "    print(\"Test_Set\")\n",
    "    print(confusion_matrix(y_test, y_pred))\n",
    "    print(classification_report(y_test, y_pred))\n",
    "    print()\n",
    "    print(\"Train_Set\")\n",
    "    print(confusion_matrix(y_train, y_train_pred))\n",
    "    print(classification_report(y_train, y_train_pred))"
   ]
  },
  {
   "cell_type": "markdown",
   "id": "ae57158d",
   "metadata": {},
   "source": [
    "<div class=\"alert alert-block alert-success\">  \n",
    "<h3>5.2. Logistic Regression</h3></div>"
   ]
  },
  {
   "cell_type": "code",
   "execution_count": 47,
   "id": "23fe8a02",
   "metadata": {},
   "outputs": [
    {
     "data": {
      "text/plain": [
       "Pipeline(steps=[('scaler', MinMaxScaler()),\n",
       "                ('log', LogisticRegression(random_state=42))])"
      ]
     },
     "execution_count": 47,
     "metadata": {},
     "output_type": "execute_result"
    }
   ],
   "source": [
    "operations_log = [(\"scaler\", MinMaxScaler()), (\"log\", LogisticRegression(random_state=42))]\n",
    "pipe_log_model = Pipeline(steps=operations_log)\n",
    "pipe_log_model.fit(X_train,y_train)"
   ]
  },
  {
   "cell_type": "code",
   "execution_count": 48,
   "id": "0a58742e",
   "metadata": {},
   "outputs": [
    {
     "data": {
      "text/plain": [
       "{'memory': None,\n",
       " 'steps': [('scaler', MinMaxScaler()),\n",
       "  ('log', LogisticRegression(random_state=42))],\n",
       " 'verbose': False,\n",
       " 'scaler': MinMaxScaler(),\n",
       " 'log': LogisticRegression(random_state=42),\n",
       " 'scaler__clip': False,\n",
       " 'scaler__copy': True,\n",
       " 'scaler__feature_range': (0, 1),\n",
       " 'log__C': 1.0,\n",
       " 'log__class_weight': None,\n",
       " 'log__dual': False,\n",
       " 'log__fit_intercept': True,\n",
       " 'log__intercept_scaling': 1,\n",
       " 'log__l1_ratio': None,\n",
       " 'log__max_iter': 100,\n",
       " 'log__multi_class': 'auto',\n",
       " 'log__n_jobs': None,\n",
       " 'log__penalty': 'l2',\n",
       " 'log__random_state': 42,\n",
       " 'log__solver': 'lbfgs',\n",
       " 'log__tol': 0.0001,\n",
       " 'log__verbose': 0,\n",
       " 'log__warm_start': False}"
      ]
     },
     "execution_count": 48,
     "metadata": {},
     "output_type": "execute_result"
    }
   ],
   "source": [
    "pipe_log_model.get_params()"
   ]
  },
  {
   "cell_type": "code",
   "execution_count": 49,
   "id": "653f2c31",
   "metadata": {},
   "outputs": [
    {
     "name": "stdout",
     "output_type": "stream",
     "text": [
      "Test_Set\n",
      "[[97 13]\n",
      " [23 46]]\n",
      "              precision    recall  f1-score   support\n",
      "\n",
      "           0       0.81      0.88      0.84       110\n",
      "           1       0.78      0.67      0.72        69\n",
      "\n",
      "    accuracy                           0.80       179\n",
      "   macro avg       0.79      0.77      0.78       179\n",
      "weighted avg       0.80      0.80      0.80       179\n",
      "\n",
      "\n",
      "Train_Set\n",
      "[[379  60]\n",
      " [ 80 193]]\n",
      "              precision    recall  f1-score   support\n",
      "\n",
      "           0       0.83      0.86      0.84       439\n",
      "           1       0.76      0.71      0.73       273\n",
      "\n",
      "    accuracy                           0.80       712\n",
      "   macro avg       0.79      0.79      0.79       712\n",
      "weighted avg       0.80      0.80      0.80       712\n",
      "\n"
     ]
    }
   ],
   "source": [
    "eval_metric(pipe_log_model, X_train, y_train, X_test, y_test)"
   ]
  },
  {
   "cell_type": "markdown",
   "id": "a2a2e90b",
   "metadata": {},
   "source": [
    "#### Cross-Validation"
   ]
  },
  {
   "cell_type": "code",
   "execution_count": 50,
   "id": "dba0ff3b",
   "metadata": {},
   "outputs": [
    {
     "data": {
      "text/plain": [
       "test_precision   0.757\n",
       "test_recall      0.703\n",
       "test_f1          0.724\n",
       "test_accuracy    0.799\n",
       "dtype: float64"
      ]
     },
     "execution_count": 50,
     "metadata": {},
     "output_type": "execute_result"
    }
   ],
   "source": [
    "operations_log = [(\"scaler\", MinMaxScaler()), (\"log\", LogisticRegression(random_state=42))]\n",
    "pipe_log_model = Pipeline(steps=operations_log)\n",
    "\n",
    "scores = cross_validate(pipe_log_model, X_train, y_train, scoring = ['precision','recall','f1','accuracy'], \n",
    "                        cv = 10)\n",
    "df_scores = pd.DataFrame(scores, index = range(1, 11))\n",
    "df_scores.iloc[:, 2:].mean()"
   ]
  },
  {
   "cell_type": "markdown",
   "id": "7a971335",
   "metadata": {},
   "source": [
    "#### GridSearch"
   ]
  },
  {
   "cell_type": "code",
   "execution_count": 51,
   "id": "84a0c258",
   "metadata": {},
   "outputs": [],
   "source": [
    "# operations_log = [(\"scaler\", MinMaxScaler()), (\"log\", LogisticRegression(random_state=42))]\n",
    "# pipe_log_model = Pipeline(steps=operations_log)\n",
    "\n",
    "# penalty = [\"l1\", \"l2\"]\n",
    "# C = np.logspace(-1, 5, 20)\n",
    "# class_weight= [\"balanced\", None] \n",
    "# solver = [\"lbfgs\", \"liblinear\", \"sag\", \"saga\"]\n",
    "\n",
    "# param_grid = {\"log__penalty\" : penalty,\n",
    "#               \"log__C\" : C,\n",
    "#               \"log__class_weight\":class_weight,\n",
    "#               \"log__solver\":solver}\n",
    "\n",
    "# grid_model = GridSearchCV(estimator=pipe_log_model,\n",
    "#                           param_grid=param_grid,\n",
    "#                           cv=10,\n",
    "#                           scoring = \"accuracy\",\n",
    "#                           n_jobs = -1)"
   ]
  },
  {
   "cell_type": "code",
   "execution_count": 52,
   "id": "063d5e0d",
   "metadata": {},
   "outputs": [],
   "source": [
    "# grid_model.fit(X_train, y_train)"
   ]
  },
  {
   "cell_type": "code",
   "execution_count": 53,
   "id": "0edad75f",
   "metadata": {},
   "outputs": [],
   "source": [
    "# grid_model.best_params_"
   ]
  },
  {
   "cell_type": "raw",
   "id": "46862d41",
   "metadata": {},
   "source": [
    "These are the best parameters of the gridsearch.\n",
    "\n",
    "{'log__C': 16.23776739188721,\n",
    " 'log__class_weight': None,\n",
    " 'log__penalty': 'l2',\n",
    " 'log__solver': 'lbfgs'}"
   ]
  },
  {
   "cell_type": "code",
   "execution_count": 54,
   "id": "650d9f12",
   "metadata": {},
   "outputs": [],
   "source": [
    "# grid_model.best_score_"
   ]
  },
  {
   "cell_type": "code",
   "execution_count": 55,
   "id": "9a4fa7be",
   "metadata": {},
   "outputs": [
    {
     "data": {
      "text/plain": [
       "Pipeline(steps=[('scaler', MinMaxScaler()),\n",
       "                ('log',\n",
       "                 LogisticRegression(C=16.23776739188721, random_state=42))])"
      ]
     },
     "execution_count": 55,
     "metadata": {},
     "output_type": "execute_result"
    }
   ],
   "source": [
    "operations_log = [(\"scaler\", MinMaxScaler()), (\"log\", LogisticRegression(random_state=42,\n",
    "                                                                        C=16.23776739188721, class_weight=None,\n",
    "                                                                        penalty='l2', solver='lbfgs'))]\n",
    "grid_model = Pipeline(steps=operations_log)\n",
    "grid_model.fit(X_train, y_train)"
   ]
  },
  {
   "cell_type": "code",
   "execution_count": 56,
   "id": "8ff9f1fe",
   "metadata": {},
   "outputs": [
    {
     "name": "stdout",
     "output_type": "stream",
     "text": [
      "Test_Set\n",
      "[[98 12]\n",
      " [21 48]]\n",
      "              precision    recall  f1-score   support\n",
      "\n",
      "           0       0.82      0.89      0.86       110\n",
      "           1       0.80      0.70      0.74        69\n",
      "\n",
      "    accuracy                           0.82       179\n",
      "   macro avg       0.81      0.79      0.80       179\n",
      "weighted avg       0.81      0.82      0.81       179\n",
      "\n",
      "\n",
      "Train_Set\n",
      "[[381  58]\n",
      " [ 80 193]]\n",
      "              precision    recall  f1-score   support\n",
      "\n",
      "           0       0.83      0.87      0.85       439\n",
      "           1       0.77      0.71      0.74       273\n",
      "\n",
      "    accuracy                           0.81       712\n",
      "   macro avg       0.80      0.79      0.79       712\n",
      "weighted avg       0.80      0.81      0.80       712\n",
      "\n"
     ]
    }
   ],
   "source": [
    "eval_metric(grid_model, X_train, y_train, X_test, y_test)"
   ]
  },
  {
   "cell_type": "code",
   "execution_count": 57,
   "id": "da79495a",
   "metadata": {},
   "outputs": [
    {
     "data": {
      "text/plain": [
       "test_precision   0.760\n",
       "test_recall      0.710\n",
       "test_f1          0.730\n",
       "test_accuracy    0.803\n",
       "dtype: float64"
      ]
     },
     "execution_count": 57,
     "metadata": {},
     "output_type": "execute_result"
    }
   ],
   "source": [
    "operations_log = [(\"scaler\", MinMaxScaler()), (\"log\", LogisticRegression(random_state=42,\n",
    "                                                                        C=16.23776739188721, class_weight=None,\n",
    "                                                                        penalty='l2', solver='lbfgs'))]\n",
    "pipe_log_model = Pipeline(steps=operations_log)\n",
    "\n",
    "scores = cross_validate(pipe_log_model, X_train, y_train, scoring=['precision','recall','f1','accuracy'], cv=10)\n",
    "scores = pd.DataFrame(scores, index=range(1,11))\n",
    "scores.iloc[:, 2:].mean()"
   ]
  },
  {
   "cell_type": "markdown",
   "id": "4d26d93d",
   "metadata": {},
   "source": [
    "#### ROC and AUC"
   ]
  },
  {
   "cell_type": "code",
   "execution_count": 58,
   "id": "33269f0d",
   "metadata": {},
   "outputs": [
    {
     "data": {
      "image/png": "[encoded data removed]",
      "text/plain": [
       "<Figure size 720x432 with 1 Axes>"
      ]
     },
     "metadata": {
      "needs_background": "light"
     },
     "output_type": "display_data"
    }
   ],
   "source": [
    "plot_roc_curve(grid_model, X_test, y_test);"
   ]
  },
  {
   "cell_type": "code",
   "execution_count": 59,
   "id": "439e0257",
   "metadata": {},
   "outputs": [
    {
     "data": {
      "image/png": "[encoded data removed]",
      "text/plain": [
       "<Figure size 720x432 with 1 Axes>"
      ]
     },
     "metadata": {
      "needs_background": "light"
     },
     "output_type": "display_data"
    }
   ],
   "source": [
    "plot_precision_recall_curve(grid_model, X_test, y_test);"
   ]
  },
  {
   "cell_type": "code",
   "execution_count": 60,
   "id": "4873a527",
   "metadata": {},
   "outputs": [],
   "source": [
    "y_pred_log = grid_model.predict(X_test)\n",
    "accuracy_log = accuracy_score(y_test, y_pred_log)\n",
    "recall_log = recall_score(y_test, y_pred_log)\n",
    "precision_log = precision_score(y_test, y_pred_log)\n",
    "f1_log = f1_score(y_test, y_pred_log)"
   ]
  },
  {
   "cell_type": "markdown",
   "id": "d053af66",
   "metadata": {},
   "source": [
    "<div class=\"alert alert-block alert-success\">  \n",
    "<h3>5.3. K-Nearest Neighbors</h3></div>"
   ]
  },
  {
   "cell_type": "code",
   "execution_count": 61,
   "id": "a9a5b2e7",
   "metadata": {},
   "outputs": [
    {
     "data": {
      "text/plain": [
       "Pipeline(steps=[('scaler', MinMaxScaler()), ('knn', KNeighborsClassifier())])"
      ]
     },
     "execution_count": 61,
     "metadata": {},
     "output_type": "execute_result"
    }
   ],
   "source": [
    "operations_knn = [(\"scaler\", MinMaxScaler()), (\"knn\", KNeighborsClassifier())]\n",
    "pipe_knn_model = Pipeline(steps=operations_knn)\n",
    "pipe_knn_model.fit(X_train, y_train)"
   ]
  },
  {
   "cell_type": "code",
   "execution_count": 62,
   "id": "9ec360a8",
   "metadata": {},
   "outputs": [
    {
     "data": {
      "text/plain": [
       "{'memory': None,\n",
       " 'steps': [('scaler', MinMaxScaler()), ('knn', KNeighborsClassifier())],\n",
       " 'verbose': False,\n",
       " 'scaler': MinMaxScaler(),\n",
       " 'knn': KNeighborsClassifier(),\n",
       " 'scaler__clip': False,\n",
       " 'scaler__copy': True,\n",
       " 'scaler__feature_range': (0, 1),\n",
       " 'knn__algorithm': 'auto',\n",
       " 'knn__leaf_size': 30,\n",
       " 'knn__metric': 'minkowski',\n",
       " 'knn__metric_params': None,\n",
       " 'knn__n_jobs': None,\n",
       " 'knn__n_neighbors': 5,\n",
       " 'knn__p': 2,\n",
       " 'knn__weights': 'uniform'}"
      ]
     },
     "execution_count": 62,
     "metadata": {},
     "output_type": "execute_result"
    }
   ],
   "source": [
    "pipe_knn_model.get_params()"
   ]
  },
  {
   "cell_type": "code",
   "execution_count": 63,
   "id": "29a12c94",
   "metadata": {},
   "outputs": [
    {
     "name": "stdout",
     "output_type": "stream",
     "text": [
      "Test_Set\n",
      "[[95 15]\n",
      " [24 45]]\n",
      "              precision    recall  f1-score   support\n",
      "\n",
      "           0       0.80      0.86      0.83       110\n",
      "           1       0.75      0.65      0.70        69\n",
      "\n",
      "    accuracy                           0.78       179\n",
      "   macro avg       0.77      0.76      0.76       179\n",
      "weighted avg       0.78      0.78      0.78       179\n",
      "\n",
      "\n",
      "Train_Set\n",
      "[[404  35]\n",
      " [ 68 205]]\n",
      "              precision    recall  f1-score   support\n",
      "\n",
      "           0       0.86      0.92      0.89       439\n",
      "           1       0.85      0.75      0.80       273\n",
      "\n",
      "    accuracy                           0.86       712\n",
      "   macro avg       0.86      0.84      0.84       712\n",
      "weighted avg       0.86      0.86      0.85       712\n",
      "\n"
     ]
    }
   ],
   "source": [
    "eval_metric(pipe_knn_model, X_train, y_train, X_test, y_test)"
   ]
  },
  {
   "cell_type": "markdown",
   "id": "da5e3cdd",
   "metadata": {},
   "source": [
    "#### Cross Validation"
   ]
  },
  {
   "cell_type": "code",
   "execution_count": 64,
   "id": "30383627",
   "metadata": {},
   "outputs": [
    {
     "data": {
      "text/plain": [
       "test_precision   0.780\n",
       "test_recall      0.667\n",
       "test_f1          0.713\n",
       "test_accuracy    0.799\n",
       "dtype: float64"
      ]
     },
     "execution_count": 64,
     "metadata": {},
     "output_type": "execute_result"
    }
   ],
   "source": [
    "operations_knn = [(\"scaler\", MinMaxScaler()), (\"knn\", KNeighborsClassifier())]\n",
    "pipe_knn_model = Pipeline(steps=operations_knn)\n",
    "\n",
    "scores = cross_validate(pipe_knn_model, X_train, y_train, scoring = ['precision','recall','f1','accuracy'], \n",
    "                        cv = 10)\n",
    "df_scores = pd.DataFrame(scores, index = range(1, 11))\n",
    "df_scores.iloc[:, 2:].mean()"
   ]
  },
  {
   "cell_type": "markdown",
   "id": "f15849e7",
   "metadata": {},
   "source": [
    "#### Elbow Method for the Optimal K Value"
   ]
  },
  {
   "cell_type": "code",
   "execution_count": 65,
   "id": "049ae1f7",
   "metadata": {},
   "outputs": [],
   "source": [
    "test_error_rates = []\n",
    "\n",
    "for k in range(1,30):\n",
    "    \n",
    "    operations_knn = [(\"scaler\", MinMaxScaler()), (\"knn\", KNeighborsClassifier(n_neighbors=k))]\n",
    "    pipe_knn_model = Pipeline(steps=operations_knn)\n",
    "    pipe_knn_model.fit(X_train, y_train) \n",
    "   \n",
    "    y_pred = pipe_knn_model.predict(X_test)\n",
    "    \n",
    "    test_error = 1 - accuracy_score(y_test,y_pred)\n",
    "    test_error_rates.append(test_error)"
   ]
  },
  {
   "cell_type": "code",
   "execution_count": 66,
   "id": "d5ff2d42",
   "metadata": {},
   "outputs": [
    {
     "data": {
      "text/plain": [
       "Text(0, 0.5, 'Error Rate')"
      ]
     },
     "execution_count": 66,
     "metadata": {},
     "output_type": "execute_result"
    },
    {
     "data": {
      "image/png": "[encoded data removed]",
      "text/plain": [
       "<Figure size 1080x576 with 1 Axes>"
      ]
     },
     "metadata": {
      "needs_background": "light"
     },
     "output_type": "display_data"
    }
   ],
   "source": [
    "plt.figure(figsize=(15,8))\n",
    "plt.plot(range(1,30), test_error_rates, color='blue', linestyle='--', marker='o', markerfacecolor='red', \n",
    "         markersize=10)\n",
    "plt.title('Error Rate vs. K Value')\n",
    "plt.xlabel('K_values')\n",
    "plt.ylabel('Error Rate')"
   ]
  },
  {
   "cell_type": "code",
   "execution_count": 67,
   "id": "1ee0db83",
   "metadata": {},
   "outputs": [
    {
     "data": {
      "text/plain": [
       "Pipeline(steps=[('scaler', MinMaxScaler()),\n",
       "                ('knn', KNeighborsClassifier(n_neighbors=4))])"
      ]
     },
     "execution_count": 67,
     "metadata": {},
     "output_type": "execute_result"
    }
   ],
   "source": [
    "operations_knn = [(\"scaler\", MinMaxScaler()), (\"knn\", KNeighborsClassifier(n_neighbors=4))]\n",
    "pipe_knn_model = Pipeline(steps=operations_knn)\n",
    "pipe_knn_model.fit(X_train, y_train)"
   ]
  },
  {
   "cell_type": "code",
   "execution_count": 68,
   "id": "a5eec0e6",
   "metadata": {},
   "outputs": [
    {
     "name": "stdout",
     "output_type": "stream",
     "text": [
      "Test_Set\n",
      "[[102   8]\n",
      " [ 28  41]]\n",
      "              precision    recall  f1-score   support\n",
      "\n",
      "           0       0.78      0.93      0.85       110\n",
      "           1       0.84      0.59      0.69        69\n",
      "\n",
      "    accuracy                           0.80       179\n",
      "   macro avg       0.81      0.76      0.77       179\n",
      "weighted avg       0.80      0.80      0.79       179\n",
      "\n",
      "\n",
      "Train_Set\n",
      "[[418  21]\n",
      " [ 83 190]]\n",
      "              precision    recall  f1-score   support\n",
      "\n",
      "           0       0.83      0.95      0.89       439\n",
      "           1       0.90      0.70      0.79       273\n",
      "\n",
      "    accuracy                           0.85       712\n",
      "   macro avg       0.87      0.82      0.84       712\n",
      "weighted avg       0.86      0.85      0.85       712\n",
      "\n"
     ]
    }
   ],
   "source": [
    "eval_metric(pipe_knn_model, X_train, y_train, X_test, y_test)"
   ]
  },
  {
   "cell_type": "markdown",
   "id": "911ce5bf",
   "metadata": {},
   "source": [
    "#### GridSearch"
   ]
  },
  {
   "cell_type": "code",
   "execution_count": 69,
   "id": "6ce76bad",
   "metadata": {},
   "outputs": [],
   "source": [
    "operations_knn = [(\"scaler\", MinMaxScaler()), (\"knn\", KNeighborsClassifier(n_neighbors=4))]\n",
    "pipe_knn_model = Pipeline(steps=operations_knn)\n",
    "\n",
    "param_grid = {'knn__weights': ['uniform', 'distance'], 'knn__algorithm' : ['auto', 'ball_tree', 'kd_tree', 'brute'], \n",
    "              'knn__p': [1, 2]}\n",
    "\n",
    "knn_grid_model = GridSearchCV(estimator=pipe_knn_model,\n",
    "                          param_grid=param_grid,\n",
    "                          cv=10,\n",
    "                          scoring = \"accuracy\",\n",
    "                          n_jobs = -1)"
   ]
  },
  {
   "cell_type": "code",
   "execution_count": 70,
   "id": "3c12adc7",
   "metadata": {},
   "outputs": [
    {
     "data": {
      "text/plain": [
       "GridSearchCV(cv=10,\n",
       "             estimator=Pipeline(steps=[('scaler', MinMaxScaler()),\n",
       "                                       ('knn',\n",
       "                                        KNeighborsClassifier(n_neighbors=4))]),\n",
       "             n_jobs=-1,\n",
       "             param_grid={'knn__algorithm': ['auto', 'ball_tree', 'kd_tree',\n",
       "                                            'brute'],\n",
       "                         'knn__p': [1, 2],\n",
       "                         'knn__weights': ['uniform', 'distance']},\n",
       "             scoring='accuracy')"
      ]
     },
     "execution_count": 70,
     "metadata": {},
     "output_type": "execute_result"
    }
   ],
   "source": [
    "knn_grid_model.fit(X_train, y_train)"
   ]
  },
  {
   "cell_type": "code",
   "execution_count": 71,
   "id": "cc723e6e",
   "metadata": {},
   "outputs": [
    {
     "data": {
      "text/plain": [
       "{'knn__algorithm': 'auto', 'knn__p': 1, 'knn__weights': 'uniform'}"
      ]
     },
     "execution_count": 71,
     "metadata": {},
     "output_type": "execute_result"
    }
   ],
   "source": [
    "knn_grid_model.best_params_"
   ]
  },
  {
   "cell_type": "code",
   "execution_count": 72,
   "id": "8159fdec",
   "metadata": {},
   "outputs": [
    {
     "data": {
      "text/plain": [
       "0.8188380281690142"
      ]
     },
     "execution_count": 72,
     "metadata": {},
     "output_type": "execute_result"
    }
   ],
   "source": [
    "knn_grid_model.best_score_"
   ]
  },
  {
   "cell_type": "code",
   "execution_count": 73,
   "id": "1f790c3c",
   "metadata": {},
   "outputs": [
    {
     "name": "stdout",
     "output_type": "stream",
     "text": [
      "Test_Set\n",
      "[[101   9]\n",
      " [ 30  39]]\n",
      "              precision    recall  f1-score   support\n",
      "\n",
      "           0       0.77      0.92      0.84       110\n",
      "           1       0.81      0.57      0.67        69\n",
      "\n",
      "    accuracy                           0.78       179\n",
      "   macro avg       0.79      0.74      0.75       179\n",
      "weighted avg       0.79      0.78      0.77       179\n",
      "\n",
      "\n",
      "Train_Set\n",
      "[[420  19]\n",
      " [ 84 189]]\n",
      "              precision    recall  f1-score   support\n",
      "\n",
      "           0       0.83      0.96      0.89       439\n",
      "           1       0.91      0.69      0.79       273\n",
      "\n",
      "    accuracy                           0.86       712\n",
      "   macro avg       0.87      0.82      0.84       712\n",
      "weighted avg       0.86      0.86      0.85       712\n",
      "\n"
     ]
    }
   ],
   "source": [
    "eval_metric(knn_grid_model, X_train, y_train, X_test, y_test)"
   ]
  },
  {
   "cell_type": "markdown",
   "id": "bcedcd47",
   "metadata": {},
   "source": [
    "#### GridSearch-2"
   ]
  },
  {
   "cell_type": "code",
   "execution_count": 74,
   "id": "5d2a3069",
   "metadata": {},
   "outputs": [],
   "source": [
    "operations_knn = [(\"scaler\", MinMaxScaler()), (\"knn\", KNeighborsClassifier(n_neighbors=4))]\n",
    "pipe_knn_model = Pipeline(steps=operations_knn)\n",
    "\n",
    "param_grid = {'knn__weights': ['uniform', 'distance'], 'knn__algorithm' : ['auto', 'ball_tree', 'kd_tree', 'brute'], \n",
    "              'knn__p': [1, 2], 'knn__n_neighbors': [4, 5, 13, 17], 'knn__leaf_size':[20, 30]}\n",
    "\n",
    "knn_grid_model = GridSearchCV(estimator=pipe_knn_model,\n",
    "                          param_grid=param_grid,\n",
    "                          cv=10,\n",
    "                          scoring = \"accuracy\",\n",
    "                          n_jobs = -1)"
   ]
  },
  {
   "cell_type": "code",
   "execution_count": 75,
   "id": "4d363808",
   "metadata": {},
   "outputs": [
    {
     "data": {
      "text/plain": [
       "GridSearchCV(cv=10,\n",
       "             estimator=Pipeline(steps=[('scaler', MinMaxScaler()),\n",
       "                                       ('knn',\n",
       "                                        KNeighborsClassifier(n_neighbors=4))]),\n",
       "             n_jobs=-1,\n",
       "             param_grid={'knn__algorithm': ['auto', 'ball_tree', 'kd_tree',\n",
       "                                            'brute'],\n",
       "                         'knn__leaf_size': [20, 30],\n",
       "                         'knn__n_neighbors': [4, 5, 13, 17], 'knn__p': [1, 2],\n",
       "                         'knn__weights': ['uniform', 'distance']},\n",
       "             scoring='accuracy')"
      ]
     },
     "execution_count": 75,
     "metadata": {},
     "output_type": "execute_result"
    }
   ],
   "source": [
    "knn_grid_model.fit(X_train, y_train)"
   ]
  },
  {
   "cell_type": "code",
   "execution_count": 76,
   "id": "ea0507db",
   "metadata": {},
   "outputs": [
    {
     "data": {
      "text/plain": [
       "{'knn__algorithm': 'auto',\n",
       " 'knn__leaf_size': 20,\n",
       " 'knn__n_neighbors': 4,\n",
       " 'knn__p': 1,\n",
       " 'knn__weights': 'uniform'}"
      ]
     },
     "execution_count": 76,
     "metadata": {},
     "output_type": "execute_result"
    }
   ],
   "source": [
    "knn_grid_model.best_params_"
   ]
  },
  {
   "cell_type": "code",
   "execution_count": 77,
   "id": "d16cb6c7",
   "metadata": {},
   "outputs": [
    {
     "data": {
      "text/plain": [
       "0.8188380281690142"
      ]
     },
     "execution_count": 77,
     "metadata": {},
     "output_type": "execute_result"
    }
   ],
   "source": [
    "knn_grid_model.best_score_"
   ]
  },
  {
   "cell_type": "code",
   "execution_count": 78,
   "id": "8cc6910d",
   "metadata": {},
   "outputs": [
    {
     "name": "stdout",
     "output_type": "stream",
     "text": [
      "Test_Set\n",
      "[[101   9]\n",
      " [ 30  39]]\n",
      "              precision    recall  f1-score   support\n",
      "\n",
      "           0       0.77      0.92      0.84       110\n",
      "           1       0.81      0.57      0.67        69\n",
      "\n",
      "    accuracy                           0.78       179\n",
      "   macro avg       0.79      0.74      0.75       179\n",
      "weighted avg       0.79      0.78      0.77       179\n",
      "\n",
      "\n",
      "Train_Set\n",
      "[[419  20]\n",
      " [ 82 191]]\n",
      "              precision    recall  f1-score   support\n",
      "\n",
      "           0       0.84      0.95      0.89       439\n",
      "           1       0.91      0.70      0.79       273\n",
      "\n",
      "    accuracy                           0.86       712\n",
      "   macro avg       0.87      0.83      0.84       712\n",
      "weighted avg       0.86      0.86      0.85       712\n",
      "\n"
     ]
    }
   ],
   "source": [
    "eval_metric(knn_grid_model, X_train, y_train, X_test, y_test)"
   ]
  },
  {
   "cell_type": "code",
   "execution_count": 79,
   "id": "273c93bd",
   "metadata": {},
   "outputs": [
    {
     "data": {
      "text/plain": [
       "test_precision   0.866\n",
       "test_recall      0.626\n",
       "test_f1          0.718\n",
       "test_accuracy    0.819\n",
       "dtype: float64"
      ]
     },
     "execution_count": 79,
     "metadata": {},
     "output_type": "execute_result"
    }
   ],
   "source": [
    "operations_knn = [(\"scaler\", MinMaxScaler()), (\"knn\", KNeighborsClassifier(n_neighbors=4, algorithm='auto',\n",
    "                                                                          leaf_size=20, p=1, weights='uniform'))]\n",
    "pipe_knn_model = Pipeline(steps=operations_knn)\n",
    "\n",
    "scores = cross_validate(pipe_knn_model, X_train, y_train, scoring=['precision','recall','f1','accuracy'], cv=10)\n",
    "scores = pd.DataFrame(scores, index=range(1,11))\n",
    "scores.iloc[:, 2:].mean()"
   ]
  },
  {
   "cell_type": "markdown",
   "id": "bed80f07",
   "metadata": {},
   "source": [
    "#### ROC and AUC"
   ]
  },
  {
   "cell_type": "code",
   "execution_count": 80,
   "id": "0115c3d8",
   "metadata": {},
   "outputs": [
    {
     "data": {
      "image/png": "[encoded data removed]",
      "text/plain": [
       "<Figure size 720x432 with 1 Axes>"
      ]
     },
     "metadata": {
      "needs_background": "light"
     },
     "output_type": "display_data"
    }
   ],
   "source": [
    "plot_roc_curve(knn_grid_model, X_test, y_test);"
   ]
  },
  {
   "cell_type": "code",
   "execution_count": 81,
   "id": "8a77b190",
   "metadata": {},
   "outputs": [
    {
     "data": {
      "image/png": "[encoded data removed]",
      "text/plain": [
       "<Figure size 720x432 with 1 Axes>"
      ]
     },
     "metadata": {
      "needs_background": "light"
     },
     "output_type": "display_data"
    }
   ],
   "source": [
    "plot_precision_recall_curve(knn_grid_model, X_test, y_test);"
   ]
  },
  {
   "cell_type": "code",
   "execution_count": 82,
   "id": "6717f341",
   "metadata": {},
   "outputs": [],
   "source": [
    "y_pred_knn = knn_grid_model.predict(X_test)\n",
    "accuracy_knn = accuracy_score(y_test, y_pred_knn)\n",
    "recall_knn = recall_score(y_test, y_pred_knn)\n",
    "precision_knn = precision_score(y_test, y_pred_knn)\n",
    "f1_knn = f1_score(y_test, y_pred_knn)"
   ]
  },
  {
   "cell_type": "markdown",
   "id": "ef196b18",
   "metadata": {},
   "source": [
    "<div class=\"alert alert-block alert-success\">  \n",
    "<h3>5.4. Support Vector Machines</h3></div>"
   ]
  },
  {
   "cell_type": "code",
   "execution_count": 83,
   "id": "adc9ee78",
   "metadata": {},
   "outputs": [
    {
     "data": {
      "text/plain": [
       "Pipeline(steps=[('scaler', MinMaxScaler()), ('svc', SVC())])"
      ]
     },
     "execution_count": 83,
     "metadata": {},
     "output_type": "execute_result"
    }
   ],
   "source": [
    "operations_svc = [(\"scaler\", MinMaxScaler()), (\"svc\", SVC())]\n",
    "pipe_svc_model = Pipeline(steps=operations_svc)\n",
    "pipe_svc_model.fit(X_train,y_train)"
   ]
  },
  {
   "cell_type": "code",
   "execution_count": 84,
   "id": "09811370",
   "metadata": {},
   "outputs": [
    {
     "data": {
      "text/plain": [
       "{'memory': None,\n",
       " 'steps': [('scaler', MinMaxScaler()), ('svc', SVC())],\n",
       " 'verbose': False,\n",
       " 'scaler': MinMaxScaler(),\n",
       " 'svc': SVC(),\n",
       " 'scaler__clip': False,\n",
       " 'scaler__copy': True,\n",
       " 'scaler__feature_range': (0, 1),\n",
       " 'svc__C': 1.0,\n",
       " 'svc__break_ties': False,\n",
       " 'svc__cache_size': 200,\n",
       " 'svc__class_weight': None,\n",
       " 'svc__coef0': 0.0,\n",
       " 'svc__decision_function_shape': 'ovr',\n",
       " 'svc__degree': 3,\n",
       " 'svc__gamma': 'scale',\n",
       " 'svc__kernel': 'rbf',\n",
       " 'svc__max_iter': -1,\n",
       " 'svc__probability': False,\n",
       " 'svc__random_state': None,\n",
       " 'svc__shrinking': True,\n",
       " 'svc__tol': 0.001,\n",
       " 'svc__verbose': False}"
      ]
     },
     "execution_count": 84,
     "metadata": {},
     "output_type": "execute_result"
    }
   ],
   "source": [
    "pipe_svc_model.get_params()"
   ]
  },
  {
   "cell_type": "code",
   "execution_count": 85,
   "id": "94574685",
   "metadata": {},
   "outputs": [
    {
     "name": "stdout",
     "output_type": "stream",
     "text": [
      "Test_Set\n",
      "[[104   6]\n",
      " [ 31  38]]\n",
      "              precision    recall  f1-score   support\n",
      "\n",
      "           0       0.77      0.95      0.85       110\n",
      "           1       0.86      0.55      0.67        69\n",
      "\n",
      "    accuracy                           0.79       179\n",
      "   macro avg       0.82      0.75      0.76       179\n",
      "weighted avg       0.81      0.79      0.78       179\n",
      "\n",
      "\n",
      "Train_Set\n",
      "[[420  19]\n",
      " [111 162]]\n",
      "              precision    recall  f1-score   support\n",
      "\n",
      "           0       0.79      0.96      0.87       439\n",
      "           1       0.90      0.59      0.71       273\n",
      "\n",
      "    accuracy                           0.82       712\n",
      "   macro avg       0.84      0.78      0.79       712\n",
      "weighted avg       0.83      0.82      0.81       712\n",
      "\n"
     ]
    }
   ],
   "source": [
    "eval_metric(pipe_svc_model, X_train, y_train, X_test, y_test)"
   ]
  },
  {
   "cell_type": "markdown",
   "id": "14dacdf1",
   "metadata": {},
   "source": [
    "#### Cross Validation"
   ]
  },
  {
   "cell_type": "code",
   "execution_count": 86,
   "id": "e4c89715",
   "metadata": {},
   "outputs": [
    {
     "data": {
      "text/plain": [
       "test_precision   0.901\n",
       "test_recall      0.593\n",
       "test_f1          0.699\n",
       "test_accuracy    0.816\n",
       "dtype: float64"
      ]
     },
     "execution_count": 86,
     "metadata": {},
     "output_type": "execute_result"
    }
   ],
   "source": [
    "operations_svc = [(\"scaler\", MinMaxScaler()), (\"svc\", SVC())]\n",
    "pipe_svc_model = Pipeline(steps=operations_svc)\n",
    "\n",
    "scores = cross_validate(pipe_svc_model, X_train, y_train, scoring = ['precision','recall','f1','accuracy'], \n",
    "                        cv = 10)\n",
    "df_scores = pd.DataFrame(scores, index = range(1, 11))\n",
    "df_scores.iloc[:, 2:].mean()"
   ]
  },
  {
   "cell_type": "markdown",
   "id": "81ecc420",
   "metadata": {},
   "source": [
    "#### GridSearch"
   ]
  },
  {
   "cell_type": "code",
   "execution_count": 87,
   "id": "9037caf3",
   "metadata": {},
   "outputs": [],
   "source": [
    "# operations_svc = [(\"scaler\", MinMaxScaler()), (\"svc\", SVC(probability=True))]\n",
    "# pipe_svc_model = Pipeline(steps=operations_svc)\n",
    "\n",
    "# param_grid = {'svc__kernel': ['rbf'], 'svc__C': [0.01, 0.1,1,10,100], 'svc__gamma':['auto', 'scale', 1,10, 100]}\n",
    "\n",
    "# svc_grid_model = GridSearchCV(estimator=pipe_svc_model,\n",
    "#                           param_grid=param_grid,\n",
    "#                           cv=5,\n",
    "#                           scoring = \"accuracy\",\n",
    "#                           n_jobs = -1)"
   ]
  },
  {
   "cell_type": "code",
   "execution_count": 88,
   "id": "efe67835",
   "metadata": {},
   "outputs": [],
   "source": [
    "# svc_grid_model.fit(X_train, y_train)"
   ]
  },
  {
   "cell_type": "code",
   "execution_count": 89,
   "id": "8ddfef51",
   "metadata": {},
   "outputs": [],
   "source": [
    "# svc_grid_model.best_params_"
   ]
  },
  {
   "cell_type": "raw",
   "id": "add7e211",
   "metadata": {},
   "source": [
    "These are the best parameters of the model.\n",
    "\n",
    "{'svc__C': 10, 'svc__gamma': 'scale', 'svc__kernel': 'rbf'}"
   ]
  },
  {
   "cell_type": "code",
   "execution_count": 90,
   "id": "23a49a79",
   "metadata": {},
   "outputs": [],
   "source": [
    "# svc_grid_model.best_score_"
   ]
  },
  {
   "cell_type": "code",
   "execution_count": 91,
   "id": "8b128b98",
   "metadata": {},
   "outputs": [
    {
     "data": {
      "text/plain": [
       "Pipeline(steps=[('scaler', MinMaxScaler()),\n",
       "                ('svc', SVC(C=10, probability=True))])"
      ]
     },
     "execution_count": 91,
     "metadata": {},
     "output_type": "execute_result"
    }
   ],
   "source": [
    "operations_svc = [(\"scaler\", MinMaxScaler()), (\"svc\", SVC(probability=True, kernel='rbf', C=10, gamma='scale'))]\n",
    "svc_grid_model = Pipeline(steps=operations_svc)\n",
    "svc_grid_model.fit(X_train, y_train)"
   ]
  },
  {
   "cell_type": "code",
   "execution_count": 92,
   "id": "92c8e2d3",
   "metadata": {},
   "outputs": [
    {
     "name": "stdout",
     "output_type": "stream",
     "text": [
      "Test_Set\n",
      "[[103   7]\n",
      " [ 28  41]]\n",
      "              precision    recall  f1-score   support\n",
      "\n",
      "           0       0.79      0.94      0.85       110\n",
      "           1       0.85      0.59      0.70        69\n",
      "\n",
      "    accuracy                           0.80       179\n",
      "   macro avg       0.82      0.77      0.78       179\n",
      "weighted avg       0.81      0.80      0.80       179\n",
      "\n",
      "\n",
      "Train_Set\n",
      "[[420  19]\n",
      " [ 99 174]]\n",
      "              precision    recall  f1-score   support\n",
      "\n",
      "           0       0.81      0.96      0.88       439\n",
      "           1       0.90      0.64      0.75       273\n",
      "\n",
      "    accuracy                           0.83       712\n",
      "   macro avg       0.86      0.80      0.81       712\n",
      "weighted avg       0.84      0.83      0.83       712\n",
      "\n"
     ]
    }
   ],
   "source": [
    "eval_metric(svc_grid_model, X_train, y_train, X_test, y_test)"
   ]
  },
  {
   "cell_type": "code",
   "execution_count": 93,
   "id": "6e939334",
   "metadata": {},
   "outputs": [
    {
     "data": {
      "text/plain": [
       "test_precision   0.884\n",
       "test_recall      0.630\n",
       "test_f1          0.723\n",
       "test_accuracy    0.824\n",
       "dtype: float64"
      ]
     },
     "execution_count": 93,
     "metadata": {},
     "output_type": "execute_result"
    }
   ],
   "source": [
    "operations_svc = [(\"scaler\", MinMaxScaler()), (\"svc\", SVC(probability=True, kernel='rbf', C=10, gamma='scale'))]\n",
    "pipe_svc_model = Pipeline(steps=operations_svc)\n",
    "\n",
    "scores = cross_validate(pipe_svc_model, X_train, y_train, scoring=['precision','recall','f1','accuracy'], cv=10)\n",
    "scores = pd.DataFrame(scores, index=range(1,11))\n",
    "scores.iloc[:, 2:].mean()"
   ]
  },
  {
   "cell_type": "markdown",
   "id": "8b0fe18a",
   "metadata": {},
   "source": [
    "#### ROC and AUC"
   ]
  },
  {
   "cell_type": "code",
   "execution_count": 94,
   "id": "e71c84b8",
   "metadata": {},
   "outputs": [
    {
     "data": {
      "image/png": "[encoded data removed]",
      "text/plain": [
       "<Figure size 720x432 with 1 Axes>"
      ]
     },
     "metadata": {
      "needs_background": "light"
     },
     "output_type": "display_data"
    }
   ],
   "source": [
    "plot_roc_curve(svc_grid_model, X_test, y_test);"
   ]
  },
  {
   "cell_type": "code",
   "execution_count": 95,
   "id": "7d18b276",
   "metadata": {},
   "outputs": [
    {
     "data": {
      "image/png": "[encoded data removed]",
      "text/plain": [
       "<Figure size 720x432 with 1 Axes>"
      ]
     },
     "metadata": {
      "needs_background": "light"
     },
     "output_type": "display_data"
    }
   ],
   "source": [
    "plot_precision_recall_curve(svc_grid_model, X_test, y_test);"
   ]
  },
  {
   "cell_type": "code",
   "execution_count": 96,
   "id": "f6394563",
   "metadata": {},
   "outputs": [],
   "source": [
    "y_pred_svc = svc_grid_model.predict(X_test)\n",
    "accuracy_svc = accuracy_score(y_test, y_pred_svc)\n",
    "recall_svc = recall_score(y_test, y_pred_svc)\n",
    "precision_svc = precision_score(y_test, y_pred_svc)\n",
    "f1_svc = f1_score(y_test, y_pred_svc)"
   ]
  },
  {
   "cell_type": "markdown",
   "id": "67171562",
   "metadata": {},
   "source": [
    "<div class=\"alert alert-block alert-success\">  \n",
    "<h3>5.5. Decision Tree</h3></div>"
   ]
  },
  {
   "cell_type": "code",
   "execution_count": 97,
   "id": "d7921c7c",
   "metadata": {},
   "outputs": [
    {
     "data": {
      "text/plain": [
       "Index(['Sex', 'Embarked'], dtype='object')"
      ]
     },
     "execution_count": 97,
     "metadata": {},
     "output_type": "execute_result"
    }
   ],
   "source": [
    "X2 = df2.drop('Survived',axis=1)\n",
    "y2 = df2['Survived']\n",
    "\n",
    "cat = X2.select_dtypes(\"object\").columns\n",
    "cat"
   ]
  },
  {
   "cell_type": "code",
   "execution_count": 98,
   "id": "55928788",
   "metadata": {},
   "outputs": [
    {
     "data": {
      "text/html": [
       "<div>\n",
       "<style scoped>\n",
       "    .dataframe tbody tr th:only-of-type {\n",
       "        vertical-align: middle;\n",
       "    }\n",
       "\n",
       "    .dataframe tbody tr th {\n",
       "        vertical-align: top;\n",
       "    }\n",
       "\n",
       "    .dataframe thead th {\n",
       "        text-align: right;\n",
       "    }\n",
       "</style>\n",
       "<table border=\"1\" class=\"dataframe\">\n",
       "  <thead>\n",
       "    <tr style=\"text-align: right;\">\n",
       "      <th></th>\n",
       "      <th>Pclass</th>\n",
       "      <th>Sex</th>\n",
       "      <th>Age</th>\n",
       "      <th>SibSp</th>\n",
       "      <th>Parch</th>\n",
       "      <th>Fare</th>\n",
       "      <th>Embarked</th>\n",
       "    </tr>\n",
       "  </thead>\n",
       "  <tbody>\n",
       "    <tr>\n",
       "      <th>0</th>\n",
       "      <td>3</td>\n",
       "      <td>1.000</td>\n",
       "      <td>22.000</td>\n",
       "      <td>1</td>\n",
       "      <td>0</td>\n",
       "      <td>7.250</td>\n",
       "      <td>2.000</td>\n",
       "    </tr>\n",
       "    <tr>\n",
       "      <th>1</th>\n",
       "      <td>1</td>\n",
       "      <td>0.000</td>\n",
       "      <td>38.000</td>\n",
       "      <td>1</td>\n",
       "      <td>0</td>\n",
       "      <td>71.283</td>\n",
       "      <td>0.000</td>\n",
       "    </tr>\n",
       "    <tr>\n",
       "      <th>2</th>\n",
       "      <td>3</td>\n",
       "      <td>0.000</td>\n",
       "      <td>26.000</td>\n",
       "      <td>0</td>\n",
       "      <td>0</td>\n",
       "      <td>7.925</td>\n",
       "      <td>2.000</td>\n",
       "    </tr>\n",
       "    <tr>\n",
       "      <th>3</th>\n",
       "      <td>1</td>\n",
       "      <td>0.000</td>\n",
       "      <td>35.000</td>\n",
       "      <td>1</td>\n",
       "      <td>0</td>\n",
       "      <td>53.100</td>\n",
       "      <td>2.000</td>\n",
       "    </tr>\n",
       "    <tr>\n",
       "      <th>4</th>\n",
       "      <td>3</td>\n",
       "      <td>1.000</td>\n",
       "      <td>35.000</td>\n",
       "      <td>0</td>\n",
       "      <td>0</td>\n",
       "      <td>8.050</td>\n",
       "      <td>2.000</td>\n",
       "    </tr>\n",
       "  </tbody>\n",
       "</table>\n",
       "</div>"
      ],
      "text/plain": [
       "   Pclass   Sex    Age  SibSp  Parch   Fare  Embarked\n",
       "0       3 1.000 22.000      1      0  7.250     2.000\n",
       "1       1 0.000 38.000      1      0 71.283     0.000\n",
       "2       3 0.000 26.000      0      0  7.925     2.000\n",
       "3       1 0.000 35.000      1      0 53.100     2.000\n",
       "4       3 1.000 35.000      0      0  8.050     2.000"
      ]
     },
     "execution_count": 98,
     "metadata": {},
     "output_type": "execute_result"
    }
   ],
   "source": [
    "enc = OrdinalEncoder()\n",
    "X2[cat] = enc.fit_transform(X2[cat])\n",
    "X2.head()"
   ]
  },
  {
   "cell_type": "code",
   "execution_count": 99,
   "id": "b15d546e",
   "metadata": {},
   "outputs": [],
   "source": [
    "X_train2, X_test2, y_train2, y_test2 = train_test_split(X2, y2, test_size=0.2, random_state=42)"
   ]
  },
  {
   "cell_type": "code",
   "execution_count": 100,
   "id": "cc700604",
   "metadata": {},
   "outputs": [
    {
     "data": {
      "text/plain": [
       "DecisionTreeClassifier(class_weight='balanced', random_state=42)"
      ]
     },
     "execution_count": 100,
     "metadata": {},
     "output_type": "execute_result"
    }
   ],
   "source": [
    "DT_model = DecisionTreeClassifier(random_state=42, class_weight='balanced')\n",
    "DT_model.fit(X_train2, y_train2)"
   ]
  },
  {
   "cell_type": "code",
   "execution_count": 101,
   "id": "cb6ac03f",
   "metadata": {},
   "outputs": [
    {
     "data": {
      "text/plain": [
       "{'ccp_alpha': 0.0,\n",
       " 'class_weight': 'balanced',\n",
       " 'criterion': 'gini',\n",
       " 'max_depth': None,\n",
       " 'max_features': None,\n",
       " 'max_leaf_nodes': None,\n",
       " 'min_impurity_decrease': 0.0,\n",
       " 'min_impurity_split': None,\n",
       " 'min_samples_leaf': 1,\n",
       " 'min_samples_split': 2,\n",
       " 'min_weight_fraction_leaf': 0.0,\n",
       " 'random_state': 42,\n",
       " 'splitter': 'best'}"
      ]
     },
     "execution_count": 101,
     "metadata": {},
     "output_type": "execute_result"
    }
   ],
   "source": [
    "DT_model.get_params()"
   ]
  },
  {
   "cell_type": "code",
   "execution_count": 102,
   "id": "55a63754",
   "metadata": {},
   "outputs": [
    {
     "name": "stdout",
     "output_type": "stream",
     "text": [
      "Test_Set\n",
      "[[81 24]\n",
      " [22 52]]\n",
      "              precision    recall  f1-score   support\n",
      "\n",
      "           0       0.79      0.77      0.78       105\n",
      "           1       0.68      0.70      0.69        74\n",
      "\n",
      "    accuracy                           0.74       179\n",
      "   macro avg       0.74      0.74      0.74       179\n",
      "weighted avg       0.74      0.74      0.74       179\n",
      "\n",
      "\n",
      "Train_Set\n",
      "[[434  10]\n",
      " [  5 263]]\n",
      "              precision    recall  f1-score   support\n",
      "\n",
      "           0       0.99      0.98      0.98       444\n",
      "           1       0.96      0.98      0.97       268\n",
      "\n",
      "    accuracy                           0.98       712\n",
      "   macro avg       0.98      0.98      0.98       712\n",
      "weighted avg       0.98      0.98      0.98       712\n",
      "\n"
     ]
    }
   ],
   "source": [
    "eval_metric(DT_model, X_train2, y_train2, X_test2, y_test2)"
   ]
  },
  {
   "cell_type": "markdown",
   "id": "9c3ce907",
   "metadata": {},
   "source": [
    "#### Cross Validation"
   ]
  },
  {
   "cell_type": "code",
   "execution_count": 103,
   "id": "8921a86c",
   "metadata": {},
   "outputs": [
    {
     "data": {
      "text/plain": [
       "test_precision   0.656\n",
       "test_recall      0.694\n",
       "test_f1          0.672\n",
       "test_accuracy    0.746\n",
       "dtype: float64"
      ]
     },
     "execution_count": 103,
     "metadata": {},
     "output_type": "execute_result"
    }
   ],
   "source": [
    "model = DecisionTreeClassifier(random_state=42, class_weight='balanced')\n",
    "\n",
    "scores = cross_validate(model, X_train2, y_train2, scoring=['precision','recall','f1','accuracy'], cv=10)\n",
    "scores = pd.DataFrame(scores, index=range(1,11))\n",
    "scores.iloc[:, 2:].mean()"
   ]
  },
  {
   "cell_type": "markdown",
   "id": "766a6b36",
   "metadata": {},
   "source": [
    "#### GridSearch"
   ]
  },
  {
   "cell_type": "code",
   "execution_count": 104,
   "id": "c2609b21",
   "metadata": {},
   "outputs": [],
   "source": [
    "# model = DecisionTreeClassifier(random_state=42, class_weight='balanced')\n",
    "\n",
    "# param_grid = {\"splitter\":[\"best\", \"random\"],\n",
    "#               \"max_depth\": [4, 5, 6, 7],\n",
    "#               \"min_samples_leaf\": [2, 3, 4, 5],\n",
    "#               \"min_samples_split\": [3, 5, 7, 10],\n",
    "#               \"max_features\": [2, 3, 4, 5]}\n",
    "\n",
    "# DT_grid_model = GridSearchCV(estimator=model, param_grid=param_grid, scoring='accuracy', cv=10,\n",
    "#                                  verbose=1, n_jobs=-1).fit(X_train2, y_train2)"
   ]
  },
  {
   "cell_type": "code",
   "execution_count": 105,
   "id": "783f6e4a",
   "metadata": {},
   "outputs": [],
   "source": [
    "# DT_grid_model.best_params_"
   ]
  },
  {
   "cell_type": "raw",
   "id": "fdac8298",
   "metadata": {},
   "source": [
    "These are the best parameters of the model.\n",
    "\n",
    "{'max_depth': 7,\n",
    " 'max_features': 5,\n",
    " 'min_samples_leaf': 5,\n",
    " 'min_samples_split': 3,\n",
    " 'splitter': 'random'}"
   ]
  },
  {
   "cell_type": "code",
   "execution_count": 106,
   "id": "3d41265f",
   "metadata": {},
   "outputs": [],
   "source": [
    "# DT_grid_model.best_score_"
   ]
  },
  {
   "cell_type": "code",
   "execution_count": 107,
   "id": "933ad019",
   "metadata": {},
   "outputs": [
    {
     "data": {
      "text/plain": [
       "DecisionTreeClassifier(class_weight='balanced', max_depth=7, max_features=5,\n",
       "                       min_samples_leaf=5, min_samples_split=3, random_state=42,\n",
       "                       splitter='random')"
      ]
     },
     "execution_count": 107,
     "metadata": {},
     "output_type": "execute_result"
    }
   ],
   "source": [
    "DT_grid_model = DecisionTreeClassifier(random_state=42, max_depth=7, max_features=5, min_samples_leaf=5, \n",
    "                                       min_samples_split=3,class_weight='balanced', splitter='random')\n",
    "\n",
    "DT_grid_model.fit(X_train2, y_train2)"
   ]
  },
  {
   "cell_type": "code",
   "execution_count": 108,
   "id": "9bb01d65",
   "metadata": {},
   "outputs": [
    {
     "name": "stdout",
     "output_type": "stream",
     "text": [
      "Test_Set\n",
      "[[87 18]\n",
      " [16 58]]\n",
      "              precision    recall  f1-score   support\n",
      "\n",
      "           0       0.84      0.83      0.84       105\n",
      "           1       0.76      0.78      0.77        74\n",
      "\n",
      "    accuracy                           0.81       179\n",
      "   macro avg       0.80      0.81      0.80       179\n",
      "weighted avg       0.81      0.81      0.81       179\n",
      "\n",
      "\n",
      "Train_Set\n",
      "[[381  63]\n",
      " [ 59 209]]\n",
      "              precision    recall  f1-score   support\n",
      "\n",
      "           0       0.87      0.86      0.86       444\n",
      "           1       0.77      0.78      0.77       268\n",
      "\n",
      "    accuracy                           0.83       712\n",
      "   macro avg       0.82      0.82      0.82       712\n",
      "weighted avg       0.83      0.83      0.83       712\n",
      "\n"
     ]
    }
   ],
   "source": [
    "eval_metric(DT_grid_model, X_train2, y_train2, X_test2, y_test2)"
   ]
  },
  {
   "cell_type": "code",
   "execution_count": 109,
   "id": "aec9f0ed",
   "metadata": {},
   "outputs": [
    {
     "data": {
      "text/plain": [
       "test_precision   0.743\n",
       "test_recall      0.724\n",
       "test_f1          0.731\n",
       "test_accuracy    0.803\n",
       "dtype: float64"
      ]
     },
     "execution_count": 109,
     "metadata": {},
     "output_type": "execute_result"
    }
   ],
   "source": [
    "model = DecisionTreeClassifier(random_state=42, max_depth=4, max_features=5, min_samples_leaf=4, min_samples_split=3,\n",
    "                              class_weight='balanced', splitter='best')\n",
    "\n",
    "scores = cross_validate(model, X_train2, y_train2, scoring=['precision','recall','f1','accuracy'], cv=10)\n",
    "scores = pd.DataFrame(scores, index=range(1,11))\n",
    "scores.iloc[:, 2:].mean()"
   ]
  },
  {
   "cell_type": "markdown",
   "id": "4bdcb1bd",
   "metadata": {},
   "source": [
    "#### ROC and AUC"
   ]
  },
  {
   "cell_type": "code",
   "execution_count": 110,
   "id": "5383bffe",
   "metadata": {},
   "outputs": [
    {
     "data": {
      "text/plain": [
       "<sklearn.metrics._plot.roc_curve.RocCurveDisplay at 0x7f8e65039ee0>"
      ]
     },
     "execution_count": 110,
     "metadata": {},
     "output_type": "execute_result"
    },
    {
     "data": {
      "image/png": "[encoded data removed]",
      "text/plain": [
       "<Figure size 720x432 with 1 Axes>"
      ]
     },
     "metadata": {
      "needs_background": "light"
     },
     "output_type": "display_data"
    }
   ],
   "source": [
    "plot_roc_curve(DT_grid_model, X_test2, y_test2)"
   ]
  },
  {
   "cell_type": "code",
   "execution_count": 111,
   "id": "35f72161",
   "metadata": {},
   "outputs": [
    {
     "data": {
      "image/png": "[encoded data removed]",
      "text/plain": [
       "<Figure size 720x432 with 1 Axes>"
      ]
     },
     "metadata": {
      "needs_background": "light"
     },
     "output_type": "display_data"
    }
   ],
   "source": [
    "plot_precision_recall_curve(DT_grid_model, X_test2, y_test2);"
   ]
  },
  {
   "cell_type": "code",
   "execution_count": 112,
   "id": "fd079763",
   "metadata": {},
   "outputs": [],
   "source": [
    "y_pred_dt = DT_grid_model.predict(X_test2)\n",
    "accuracy_dt = accuracy_score(y_test2, y_pred_dt)\n",
    "recall_dt = recall_score(y_test2, y_pred_dt)\n",
    "precision_dt = precision_score(y_test2, y_pred_dt)\n",
    "f1_dt = f1_score(y_test2, y_pred_dt)"
   ]
  },
  {
   "cell_type": "markdown",
   "id": "3ebcfdb3",
   "metadata": {},
   "source": [
    "<div class=\"alert alert-block alert-success\">  \n",
    "<h3>5.6. Random Forest</h3></div>"
   ]
  },
  {
   "cell_type": "code",
   "execution_count": 113,
   "id": "90819604",
   "metadata": {},
   "outputs": [
    {
     "data": {
      "text/plain": [
       "RandomForestClassifier(class_weight='balanced', random_state=42)"
      ]
     },
     "execution_count": 113,
     "metadata": {},
     "output_type": "execute_result"
    }
   ],
   "source": [
    "RF_model = RandomForestClassifier(random_state=42, class_weight='balanced')\n",
    "RF_model.fit(X_train2,y_train2)"
   ]
  },
  {
   "cell_type": "code",
   "execution_count": 114,
   "id": "23a47685",
   "metadata": {},
   "outputs": [
    {
     "data": {
      "text/plain": [
       "{'bootstrap': True,\n",
       " 'ccp_alpha': 0.0,\n",
       " 'class_weight': 'balanced',\n",
       " 'criterion': 'gini',\n",
       " 'max_depth': None,\n",
       " 'max_features': 'auto',\n",
       " 'max_leaf_nodes': None,\n",
       " 'max_samples': None,\n",
       " 'min_impurity_decrease': 0.0,\n",
       " 'min_impurity_split': None,\n",
       " 'min_samples_leaf': 1,\n",
       " 'min_samples_split': 2,\n",
       " 'min_weight_fraction_leaf': 0.0,\n",
       " 'n_estimators': 100,\n",
       " 'n_jobs': None,\n",
       " 'oob_score': False,\n",
       " 'random_state': 42,\n",
       " 'verbose': 0,\n",
       " 'warm_start': False}"
      ]
     },
     "execution_count": 114,
     "metadata": {},
     "output_type": "execute_result"
    }
   ],
   "source": [
    "RF_model.get_params()"
   ]
  },
  {
   "cell_type": "code",
   "execution_count": 115,
   "id": "3f168c33",
   "metadata": {},
   "outputs": [
    {
     "name": "stdout",
     "output_type": "stream",
     "text": [
      "Test_Set\n",
      "[[89 16]\n",
      " [16 58]]\n",
      "              precision    recall  f1-score   support\n",
      "\n",
      "           0       0.85      0.85      0.85       105\n",
      "           1       0.78      0.78      0.78        74\n",
      "\n",
      "    accuracy                           0.82       179\n",
      "   macro avg       0.82      0.82      0.82       179\n",
      "weighted avg       0.82      0.82      0.82       179\n",
      "\n",
      "\n",
      "Train_Set\n",
      "[[438   6]\n",
      " [  9 259]]\n",
      "              precision    recall  f1-score   support\n",
      "\n",
      "           0       0.98      0.99      0.98       444\n",
      "           1       0.98      0.97      0.97       268\n",
      "\n",
      "    accuracy                           0.98       712\n",
      "   macro avg       0.98      0.98      0.98       712\n",
      "weighted avg       0.98      0.98      0.98       712\n",
      "\n"
     ]
    }
   ],
   "source": [
    "eval_metric(RF_model, X_train2, y_train2, X_test2, y_test2)"
   ]
  },
  {
   "cell_type": "markdown",
   "id": "6a523ff2",
   "metadata": {},
   "source": [
    "#### Cross Validation"
   ]
  },
  {
   "cell_type": "code",
   "execution_count": 116,
   "id": "ce6f11e0",
   "metadata": {},
   "outputs": [
    {
     "data": {
      "text/plain": [
       "test_precision   0.745\n",
       "test_recall      0.702\n",
       "test_f1          0.721\n",
       "test_accuracy    0.796\n",
       "dtype: float64"
      ]
     },
     "execution_count": 116,
     "metadata": {},
     "output_type": "execute_result"
    }
   ],
   "source": [
    "model = RandomForestClassifier(random_state=42, class_weight='balanced')\n",
    "\n",
    "scores = cross_validate(model, X_train2, y_train2, scoring=['precision','recall','f1','accuracy'], cv=10)\n",
    "scores = pd.DataFrame(scores, index=range(1,11))\n",
    "scores.iloc[:, 2:].mean()"
   ]
  },
  {
   "cell_type": "markdown",
   "id": "825d1fe1",
   "metadata": {},
   "source": [
    "#### GridSearch"
   ]
  },
  {
   "cell_type": "code",
   "execution_count": 117,
   "id": "c340cc2a",
   "metadata": {},
   "outputs": [],
   "source": [
    "# model = RandomForestClassifier(random_state=42, class_weight='balanced')\n",
    "\n",
    "# param_grid = {\"n_estimators\":[50, 64, 100, 128, 200],\n",
    "#               \"max_depth\": [5, 6, 8, 10],\n",
    "#               \"min_samples_leaf\": [1, 2, 3],\n",
    "#               \"min_samples_split\": [2, 5, 8],\n",
    "#               \"max_features\":['auto', 3, 4, 6, 8, 10]}\n",
    "\n",
    "# RF_grid_model = GridSearchCV(estimator=model, param_grid=param_grid, scoring='accuracy', cv=5,\n",
    "#                              verbose=1, n_jobs = -1).fit(X_train2,y_train2)"
   ]
  },
  {
   "cell_type": "code",
   "execution_count": 118,
   "id": "a8684198",
   "metadata": {},
   "outputs": [],
   "source": [
    "# RF_grid_model.best_params_"
   ]
  },
  {
   "cell_type": "raw",
   "id": "d5f1d92c",
   "metadata": {},
   "source": [
    "These are the best parameters of the model.\n",
    "\n",
    "{'max_depth': 8,\n",
    " 'max_features': 6,\n",
    " 'min_samples_leaf': 1,\n",
    " 'min_samples_split': 2,\n",
    " 'n_estimators': 128}"
   ]
  },
  {
   "cell_type": "code",
   "execution_count": 119,
   "id": "d6647e05",
   "metadata": {},
   "outputs": [],
   "source": [
    "# RF_grid_model.best_score_"
   ]
  },
  {
   "cell_type": "code",
   "execution_count": 120,
   "id": "d3b293c6",
   "metadata": {},
   "outputs": [
    {
     "data": {
      "text/plain": [
       "RandomForestClassifier(class_weight='balanced', max_depth=8, max_features=6,\n",
       "                       n_estimators=128, random_state=42)"
      ]
     },
     "execution_count": 120,
     "metadata": {},
     "output_type": "execute_result"
    }
   ],
   "source": [
    "RF_grid_model = RandomForestClassifier(random_state=42, max_depth=8, max_features=6, min_samples_leaf=1, \n",
    "                                       min_samples_split=2,n_estimators=128, class_weight='balanced')\n",
    "\n",
    "RF_grid_model.fit(X_train2, y_train2)"
   ]
  },
  {
   "cell_type": "code",
   "execution_count": 121,
   "id": "d3adb21a",
   "metadata": {},
   "outputs": [
    {
     "name": "stdout",
     "output_type": "stream",
     "text": [
      "Test_Set\n",
      "[[91 14]\n",
      " [17 57]]\n",
      "              precision    recall  f1-score   support\n",
      "\n",
      "           0       0.84      0.87      0.85       105\n",
      "           1       0.80      0.77      0.79        74\n",
      "\n",
      "    accuracy                           0.83       179\n",
      "   macro avg       0.82      0.82      0.82       179\n",
      "weighted avg       0.83      0.83      0.83       179\n",
      "\n",
      "\n",
      "Train_Set\n",
      "[[437   7]\n",
      " [ 39 229]]\n",
      "              precision    recall  f1-score   support\n",
      "\n",
      "           0       0.92      0.98      0.95       444\n",
      "           1       0.97      0.85      0.91       268\n",
      "\n",
      "    accuracy                           0.94       712\n",
      "   macro avg       0.94      0.92      0.93       712\n",
      "weighted avg       0.94      0.94      0.93       712\n",
      "\n"
     ]
    }
   ],
   "source": [
    "eval_metric(RF_grid_model, X_train2, y_train2, X_test2, y_test2)"
   ]
  },
  {
   "cell_type": "code",
   "execution_count": 122,
   "id": "a7566207",
   "metadata": {},
   "outputs": [
    {
     "data": {
      "text/plain": [
       "test_precision   0.779\n",
       "test_recall      0.668\n",
       "test_f1          0.718\n",
       "test_accuracy    0.805\n",
       "dtype: float64"
      ]
     },
     "execution_count": 122,
     "metadata": {},
     "output_type": "execute_result"
    }
   ],
   "source": [
    "model = RandomForestClassifier(random_state=42, max_depth=8, max_features=6, min_samples_leaf=1, min_samples_split=2,\n",
    "                              n_estimators=128, class_weight='balanced')\n",
    "\n",
    "\n",
    "scores = cross_validate(model, X_train2, y_train2, scoring=['precision','recall','f1','accuracy'], cv=10)\n",
    "scores = pd.DataFrame(scores, index=range(1,11))\n",
    "scores.iloc[:, 2:].mean()"
   ]
  },
  {
   "cell_type": "markdown",
   "id": "b1a60245",
   "metadata": {},
   "source": [
    "#### ROC and AUC"
   ]
  },
  {
   "cell_type": "code",
   "execution_count": 123,
   "id": "23ad0956",
   "metadata": {},
   "outputs": [
    {
     "data": {
      "text/plain": [
       "<sklearn.metrics._plot.roc_curve.RocCurveDisplay at 0x7f8e6bc0fb80>"
      ]
     },
     "execution_count": 123,
     "metadata": {},
     "output_type": "execute_result"
    },
    {
     "data": {
      "image/png": "[encoded data removed]",
      "text/plain": [
       "<Figure size 720x432 with 1 Axes>"
      ]
     },
     "metadata": {
      "needs_background": "light"
     },
     "output_type": "display_data"
    }
   ],
   "source": [
    "plot_roc_curve(RF_grid_model, X_test2, y_test2)"
   ]
  },
  {
   "cell_type": "code",
   "execution_count": 124,
   "id": "7c036fd6",
   "metadata": {},
   "outputs": [
    {
     "data": {
      "image/png": "[encoded data removed]",
      "text/plain": [
       "<Figure size 720x432 with 1 Axes>"
      ]
     },
     "metadata": {
      "needs_background": "light"
     },
     "output_type": "display_data"
    }
   ],
   "source": [
    "plot_precision_recall_curve(RF_grid_model, X_test2, y_test2);"
   ]
  },
  {
   "cell_type": "code",
   "execution_count": 125,
   "id": "82711d67",
   "metadata": {},
   "outputs": [],
   "source": [
    "y_pred_rf = RF_grid_model.predict(X_test2)\n",
    "accuracy_rf = accuracy_score(y_test2, y_pred_rf)\n",
    "recall_rf = recall_score(y_test2, y_pred_rf)\n",
    "precision_rf = precision_score(y_test2, y_pred_rf)\n",
    "f1_rf = f1_score(y_test2, y_pred_rf)"
   ]
  },
  {
   "cell_type": "markdown",
   "id": "4b280d8e",
   "metadata": {},
   "source": [
    "<div class=\"alert alert-block alert-success\">  \n",
    "<h3>5.7. AdaBoost (Adaptive Boosting)</h3></div>"
   ]
  },
  {
   "cell_type": "code",
   "execution_count": 126,
   "id": "8759b2a7",
   "metadata": {},
   "outputs": [
    {
     "data": {
      "text/plain": [
       "AdaBoostClassifier(random_state=42)"
      ]
     },
     "execution_count": 126,
     "metadata": {},
     "output_type": "execute_result"
    }
   ],
   "source": [
    "ADA_model = AdaBoostClassifier(random_state=42)\n",
    "ADA_model.fit(X_train2, y_train2)"
   ]
  },
  {
   "cell_type": "code",
   "execution_count": 127,
   "id": "0306cfe9",
   "metadata": {},
   "outputs": [
    {
     "data": {
      "text/plain": [
       "{'algorithm': 'SAMME.R',\n",
       " 'base_estimator': None,\n",
       " 'learning_rate': 1.0,\n",
       " 'n_estimators': 50,\n",
       " 'random_state': 42}"
      ]
     },
     "execution_count": 127,
     "metadata": {},
     "output_type": "execute_result"
    }
   ],
   "source": [
    "ADA_model.get_params()"
   ]
  },
  {
   "cell_type": "code",
   "execution_count": 128,
   "id": "4986396c",
   "metadata": {},
   "outputs": [
    {
     "name": "stdout",
     "output_type": "stream",
     "text": [
      "Test_Set\n",
      "[[87 18]\n",
      " [17 57]]\n",
      "              precision    recall  f1-score   support\n",
      "\n",
      "           0       0.84      0.83      0.83       105\n",
      "           1       0.76      0.77      0.77        74\n",
      "\n",
      "    accuracy                           0.80       179\n",
      "   macro avg       0.80      0.80      0.80       179\n",
      "weighted avg       0.80      0.80      0.80       179\n",
      "\n",
      "\n",
      "Train_Set\n",
      "[[393  51]\n",
      " [ 70 198]]\n",
      "              precision    recall  f1-score   support\n",
      "\n",
      "           0       0.85      0.89      0.87       444\n",
      "           1       0.80      0.74      0.77       268\n",
      "\n",
      "    accuracy                           0.83       712\n",
      "   macro avg       0.82      0.81      0.82       712\n",
      "weighted avg       0.83      0.83      0.83       712\n",
      "\n"
     ]
    }
   ],
   "source": [
    "eval_metric(ADA_model, X_train2, y_train2, X_test2, y_test2)"
   ]
  },
  {
   "cell_type": "markdown",
   "id": "fe367046",
   "metadata": {},
   "source": [
    "#### Cross Validation"
   ]
  },
  {
   "cell_type": "code",
   "execution_count": 129,
   "id": "dd07cbe9",
   "metadata": {},
   "outputs": [
    {
     "data": {
      "text/plain": [
       "test_precision   0.734\n",
       "test_recall      0.705\n",
       "test_f1          0.717\n",
       "test_accuracy    0.791\n",
       "dtype: float64"
      ]
     },
     "execution_count": 129,
     "metadata": {},
     "output_type": "execute_result"
    }
   ],
   "source": [
    "model = AdaBoostClassifier(random_state=42)\n",
    "\n",
    "scores = cross_validate(model, X_train2, y_train2, scoring=['precision','recall','f1','accuracy'], cv=10)\n",
    "scores = pd.DataFrame(scores, index=range(1,11))\n",
    "scores.iloc[:, 2:].mean()"
   ]
  },
  {
   "cell_type": "markdown",
   "id": "12184b33",
   "metadata": {},
   "source": [
    "#### GridSearch"
   ]
  },
  {
   "cell_type": "code",
   "execution_count": 130,
   "id": "f7ade463",
   "metadata": {},
   "outputs": [
    {
     "name": "stdout",
     "output_type": "stream",
     "text": [
      "Fitting 5 folds for each of 28 candidates, totalling 140 fits\n"
     ]
    }
   ],
   "source": [
    "model = AdaBoostClassifier(random_state=42)\n",
    "\n",
    "param_grid = {\"n_estimators\": [55, 64, 100, 200],\n",
    "              \"learning_rate\": [0.01, 0.1, 0.2, 0.5, 0.7, 0.9, 1]}\n",
    "\n",
    "ADA_grid_model = GridSearchCV(estimator=model, param_grid=param_grid, scoring='accuracy', cv=5,\n",
    "                             verbose=1, n_jobs = -1).fit(X_train2,y_train2)"
   ]
  },
  {
   "cell_type": "code",
   "execution_count": 131,
   "id": "84263a98",
   "metadata": {},
   "outputs": [
    {
     "data": {
      "text/plain": [
       "{'learning_rate': 0.9, 'n_estimators': 55}"
      ]
     },
     "execution_count": 131,
     "metadata": {},
     "output_type": "execute_result"
    }
   ],
   "source": [
    "ADA_grid_model.best_params_"
   ]
  },
  {
   "cell_type": "code",
   "execution_count": 132,
   "id": "c404f701",
   "metadata": {},
   "outputs": [
    {
     "data": {
      "text/plain": [
       "0.8005121638924455"
      ]
     },
     "execution_count": 132,
     "metadata": {},
     "output_type": "execute_result"
    }
   ],
   "source": [
    "ADA_grid_model.best_score_"
   ]
  },
  {
   "cell_type": "code",
   "execution_count": 133,
   "id": "a536c206",
   "metadata": {},
   "outputs": [
    {
     "name": "stdout",
     "output_type": "stream",
     "text": [
      "Test_Set\n",
      "[[87 18]\n",
      " [18 56]]\n",
      "              precision    recall  f1-score   support\n",
      "\n",
      "           0       0.83      0.83      0.83       105\n",
      "           1       0.76      0.76      0.76        74\n",
      "\n",
      "    accuracy                           0.80       179\n",
      "   macro avg       0.79      0.79      0.79       179\n",
      "weighted avg       0.80      0.80      0.80       179\n",
      "\n",
      "\n",
      "Train_Set\n",
      "[[388  56]\n",
      " [ 68 200]]\n",
      "              precision    recall  f1-score   support\n",
      "\n",
      "           0       0.85      0.87      0.86       444\n",
      "           1       0.78      0.75      0.76       268\n",
      "\n",
      "    accuracy                           0.83       712\n",
      "   macro avg       0.82      0.81      0.81       712\n",
      "weighted avg       0.82      0.83      0.83       712\n",
      "\n"
     ]
    }
   ],
   "source": [
    "eval_metric(ADA_grid_model, X_train2, y_train2, X_test2, y_test2)"
   ]
  },
  {
   "cell_type": "code",
   "execution_count": 134,
   "id": "c69e12c4",
   "metadata": {},
   "outputs": [
    {
     "data": {
      "text/plain": [
       "test_precision   0.747\n",
       "test_recall      0.709\n",
       "test_f1          0.726\n",
       "test_accuracy    0.799\n",
       "dtype: float64"
      ]
     },
     "execution_count": 134,
     "metadata": {},
     "output_type": "execute_result"
    }
   ],
   "source": [
    "model = AdaBoostClassifier(learning_rate=0.9, n_estimators=55, random_state=42)\n",
    "\n",
    "\n",
    "scores = cross_validate(model, X_train2, y_train2, scoring=['precision','recall','f1','accuracy'], cv=10)\n",
    "scores = pd.DataFrame(scores, index=range(1,11))\n",
    "scores.iloc[:, 2:].mean()"
   ]
  },
  {
   "cell_type": "markdown",
   "id": "6e38d2af",
   "metadata": {},
   "source": [
    "#### ROC and AUC"
   ]
  },
  {
   "cell_type": "code",
   "execution_count": 135,
   "id": "e68361be",
   "metadata": {},
   "outputs": [
    {
     "data": {
      "text/plain": [
       "<sklearn.metrics._plot.roc_curve.RocCurveDisplay at 0x7f8e6abf9670>"
      ]
     },
     "execution_count": 135,
     "metadata": {},
     "output_type": "execute_result"
    },
    {
     "data": {
      "image/png": "[encoded data removed]",
      "text/plain": [
       "<Figure size 720x432 with 1 Axes>"
      ]
     },
     "metadata": {
      "needs_background": "light"
     },
     "output_type": "display_data"
    }
   ],
   "source": [
    "plot_roc_curve(ADA_grid_model, X_test2, y_test2)"
   ]
  },
  {
   "cell_type": "code",
   "execution_count": 136,
   "id": "1e397cd7",
   "metadata": {},
   "outputs": [
    {
     "data": {
      "image/png": "[encoded data removed]",
      "text/plain": [
       "<Figure size 720x432 with 1 Axes>"
      ]
     },
     "metadata": {
      "needs_background": "light"
     },
     "output_type": "display_data"
    }
   ],
   "source": [
    "plot_precision_recall_curve(ADA_grid_model, X_test2, y_test2);"
   ]
  },
  {
   "cell_type": "code",
   "execution_count": 137,
   "id": "ad36ea8b",
   "metadata": {},
   "outputs": [],
   "source": [
    "y_pred_ada = ADA_grid_model.predict(X_test2)\n",
    "accuracy_ada = accuracy_score(y_test2, y_pred_ada)\n",
    "recall_ada = recall_score(y_test2, y_pred_ada)\n",
    "precision_ada = precision_score(y_test2, y_pred_ada)\n",
    "f1_ada = f1_score(y_test2, y_pred_ada)"
   ]
  },
  {
   "cell_type": "markdown",
   "id": "e22630a0",
   "metadata": {},
   "source": [
    "<div class=\"alert alert-block alert-success\">  \n",
    "<h3>5.8. Extreme Gradient Boosting (XGBoost)</h3></div>"
   ]
  },
  {
   "cell_type": "code",
   "execution_count": 138,
   "id": "26878e79",
   "metadata": {},
   "outputs": [
    {
     "name": "stdout",
     "output_type": "stream",
     "text": [
      "[10:55:37] WARNING: ../src/learner.cc:1115: Starting in XGBoost 1.3.0, the default evaluation metric used with the objective 'binary:logistic' was changed from 'error' to 'logloss'. Explicitly set eval_metric if you'd like to restore the old behavior.\n"
     ]
    },
    {
     "data": {
      "text/plain": [
       "XGBClassifier(base_score=0.5, booster='gbtree', colsample_bylevel=1,\n",
       "              colsample_bynode=1, colsample_bytree=1, enable_categorical=False,\n",
       "              gamma=0, gpu_id=-1, importance_type=None,\n",
       "              interaction_constraints='', learning_rate=0.300000012,\n",
       "              max_delta_step=0, max_depth=6, min_child_weight=1, missing=nan,\n",
       "              monotone_constraints='()', n_estimators=100, n_jobs=4,\n",
       "              num_parallel_tree=1, predictor='auto', random_state=42,\n",
       "              reg_alpha=0, reg_lambda=1, scale_pos_weight=1, subsample=1,\n",
       "              tree_method='exact', validate_parameters=1, verbosity=None)"
      ]
     },
     "execution_count": 138,
     "metadata": {},
     "output_type": "execute_result"
    }
   ],
   "source": [
    "xgb_model = XGBClassifier(random_state=42)\n",
    "xgb_model.fit(X_train2, y_train2)"
   ]
  },
  {
   "cell_type": "code",
   "execution_count": 139,
   "id": "c5415971",
   "metadata": {},
   "outputs": [
    {
     "data": {
      "text/plain": [
       "{'objective': 'binary:logistic',\n",
       " 'use_label_encoder': True,\n",
       " 'base_score': 0.5,\n",
       " 'booster': 'gbtree',\n",
       " 'colsample_bylevel': 1,\n",
       " 'colsample_bynode': 1,\n",
       " 'colsample_bytree': 1,\n",
       " 'enable_categorical': False,\n",
       " 'gamma': 0,\n",
       " 'gpu_id': -1,\n",
       " 'importance_type': None,\n",
       " 'interaction_constraints': '',\n",
       " 'learning_rate': 0.300000012,\n",
       " 'max_delta_step': 0,\n",
       " 'max_depth': 6,\n",
       " 'min_child_weight': 1,\n",
       " 'missing': nan,\n",
       " 'monotone_constraints': '()',\n",
       " 'n_estimators': 100,\n",
       " 'n_jobs': 4,\n",
       " 'num_parallel_tree': 1,\n",
       " 'predictor': 'auto',\n",
       " 'random_state': 42,\n",
       " 'reg_alpha': 0,\n",
       " 'reg_lambda': 1,\n",
       " 'scale_pos_weight': 1,\n",
       " 'subsample': 1,\n",
       " 'tree_method': 'exact',\n",
       " 'validate_parameters': 1,\n",
       " 'verbosity': None}"
      ]
     },
     "execution_count": 139,
     "metadata": {},
     "output_type": "execute_result"
    }
   ],
   "source": [
    "xgb_model.get_params()"
   ]
  },
  {
   "cell_type": "code",
   "execution_count": 140,
   "id": "e774f7a8",
   "metadata": {},
   "outputs": [
    {
     "name": "stdout",
     "output_type": "stream",
     "text": [
      "Test_Set\n",
      "[[90 15]\n",
      " [18 56]]\n",
      "              precision    recall  f1-score   support\n",
      "\n",
      "           0       0.83      0.86      0.85       105\n",
      "           1       0.79      0.76      0.77        74\n",
      "\n",
      "    accuracy                           0.82       179\n",
      "   macro avg       0.81      0.81      0.81       179\n",
      "weighted avg       0.81      0.82      0.82       179\n",
      "\n",
      "\n",
      "Train_Set\n",
      "[[438   6]\n",
      " [ 21 247]]\n",
      "              precision    recall  f1-score   support\n",
      "\n",
      "           0       0.95      0.99      0.97       444\n",
      "           1       0.98      0.92      0.95       268\n",
      "\n",
      "    accuracy                           0.96       712\n",
      "   macro avg       0.97      0.95      0.96       712\n",
      "weighted avg       0.96      0.96      0.96       712\n",
      "\n"
     ]
    }
   ],
   "source": [
    "eval_metric(xgb_model, X_train2, y_train2, X_test2, y_test2)"
   ]
  },
  {
   "cell_type": "markdown",
   "id": "d25642d8",
   "metadata": {},
   "source": [
    "#### Cross Validation"
   ]
  },
  {
   "cell_type": "code",
   "execution_count": 141,
   "id": "111a0d7b",
   "metadata": {},
   "outputs": [
    {
     "name": "stdout",
     "output_type": "stream",
     "text": [
      "[10:55:37] WARNING: ../src/learner.cc:1115: Starting in XGBoost 1.3.0, the default evaluation metric used with the objective 'binary:logistic' was changed from 'error' to 'logloss'. Explicitly set eval_metric if you'd like to restore the old behavior.\n",
      "[10:55:38] WARNING: ../src/learner.cc:1115: Starting in XGBoost 1.3.0, the default evaluation metric used with the objective 'binary:logistic' was changed from 'error' to 'logloss'. Explicitly set eval_metric if you'd like to restore the old behavior.\n",
      "[10:55:38] WARNING: ../src/learner.cc:1115: Starting in XGBoost 1.3.0, the default evaluation metric used with the objective 'binary:logistic' was changed from 'error' to 'logloss'. Explicitly set eval_metric if you'd like to restore the old behavior.\n",
      "[10:55:38] WARNING: ../src/learner.cc:1115: Starting in XGBoost 1.3.0, the default evaluation metric used with the objective 'binary:logistic' was changed from 'error' to 'logloss'. Explicitly set eval_metric if you'd like to restore the old behavior.\n",
      "[10:55:38] WARNING: ../src/learner.cc:1115: Starting in XGBoost 1.3.0, the default evaluation metric used with the objective 'binary:logistic' was changed from 'error' to 'logloss'. Explicitly set eval_metric if you'd like to restore the old behavior.\n",
      "[10:55:38] WARNING: ../src/learner.cc:1115: Starting in XGBoost 1.3.0, the default evaluation metric used with the objective 'binary:logistic' was changed from 'error' to 'logloss'. Explicitly set eval_metric if you'd like to restore the old behavior.\n",
      "[10:55:38] WARNING: ../src/learner.cc:1115: Starting in XGBoost 1.3.0, the default evaluation metric used with the objective 'binary:logistic' was changed from 'error' to 'logloss'. Explicitly set eval_metric if you'd like to restore the old behavior.\n",
      "[10:55:38] WARNING: ../src/learner.cc:1115: Starting in XGBoost 1.3.0, the default evaluation metric used with the objective 'binary:logistic' was changed from 'error' to 'logloss'. Explicitly set eval_metric if you'd like to restore the old behavior.\n",
      "[10:55:38] WARNING: ../src/learner.cc:1115: Starting in XGBoost 1.3.0, the default evaluation metric used with the objective 'binary:logistic' was changed from 'error' to 'logloss'. Explicitly set eval_metric if you'd like to restore the old behavior.\n",
      "[10:55:39] WARNING: ../src/learner.cc:1115: Starting in XGBoost 1.3.0, the default evaluation metric used with the objective 'binary:logistic' was changed from 'error' to 'logloss'. Explicitly set eval_metric if you'd like to restore the old behavior.\n"
     ]
    },
    {
     "data": {
      "text/plain": [
       "test_precision   0.726\n",
       "test_recall      0.687\n",
       "test_f1          0.704\n",
       "test_accuracy    0.785\n",
       "dtype: float64"
      ]
     },
     "execution_count": 141,
     "metadata": {},
     "output_type": "execute_result"
    }
   ],
   "source": [
    "model = XGBClassifier(random_state=42)\n",
    "\n",
    "scores = cross_validate(model, X_train2, y_train2, scoring=['precision','recall','f1','accuracy'], cv=10)\n",
    "scores = pd.DataFrame(scores, index=range(1,11))\n",
    "scores.iloc[:, 2:].mean()"
   ]
  },
  {
   "cell_type": "markdown",
   "id": "4604ca1a",
   "metadata": {},
   "source": [
    "#### GridSearch"
   ]
  },
  {
   "cell_type": "code",
   "execution_count": 142,
   "id": "1eba05e2",
   "metadata": {},
   "outputs": [],
   "source": [
    "# model = XGBClassifier(random_state=42)\n",
    "\n",
    "# param_grid = {\"n_estimators\":[50, 64, 100, 128, 200], \"subsample\":[0.5, 0.8, 1], \"max_features\" : [None, 3, 4],\n",
    "#               \"learning_rate\": [0.05, 0.1, 0.2], 'max_depth':[2, 3, 4, 5], \"colsample_bytree\":[0.5, 0.7, 1, 2, 3]}\n",
    "\n",
    "# xgboost_grid_model = GridSearchCV(estimator=model, param_grid=param_grid, scoring='accuracy', cv=5,\n",
    "#                              verbose=1, n_jobs = -1).fit(X_train2,y_train2)"
   ]
  },
  {
   "cell_type": "code",
   "execution_count": 143,
   "id": "3a6609f9",
   "metadata": {},
   "outputs": [],
   "source": [
    "# xgboost_grid_model.best_params_"
   ]
  },
  {
   "cell_type": "raw",
   "id": "91249b1b",
   "metadata": {},
   "source": [
    "These are the best parameters of the model.\n",
    "\n",
    "{'colsample_bytree': 1,\n",
    " 'learning_rate': 0.2,\n",
    " 'max_depth': 3,\n",
    " 'max_features': None,\n",
    " 'n_estimators': 50,\n",
    " 'subsample': 1}"
   ]
  },
  {
   "cell_type": "code",
   "execution_count": 144,
   "id": "710d4f03",
   "metadata": {},
   "outputs": [],
   "source": [
    "# xgboost_grid_model.best_score_"
   ]
  },
  {
   "cell_type": "code",
   "execution_count": 145,
   "id": "0a08fc25",
   "metadata": {},
   "outputs": [
    {
     "name": "stdout",
     "output_type": "stream",
     "text": [
      "[10:55:39] WARNING: ../src/learner.cc:1115: Starting in XGBoost 1.3.0, the default evaluation metric used with the objective 'binary:logistic' was changed from 'error' to 'logloss'. Explicitly set eval_metric if you'd like to restore the old behavior.\n"
     ]
    },
    {
     "data": {
      "text/plain": [
       "XGBClassifier(base_score=0.5, booster='gbtree', colsample_bylevel=1,\n",
       "              colsample_bynode=1, colsample_bytree=1, enable_categorical=False,\n",
       "              gamma=0, gpu_id=-1, importance_type=None,\n",
       "              interaction_constraints='', learning_rate=0.2, max_delta_step=0,\n",
       "              max_depth=3, max_features=None, min_child_weight=1, missing=nan,\n",
       "              monotone_constraints='()', n_estimators=50, n_jobs=4,\n",
       "              num_parallel_tree=1, predictor='auto', random_state=42,\n",
       "              reg_alpha=0, reg_lambda=1, scale_pos_weight=1, subsample=1,\n",
       "              tree_method='exact', validate_parameters=1, verbosity=None)"
      ]
     },
     "execution_count": 145,
     "metadata": {},
     "output_type": "execute_result"
    }
   ],
   "source": [
    "xgboost_grid_model = XGBClassifier(colsample_bytree=1, learning_rate=0.2, max_depth=3, max_features=None,\n",
    "                      n_estimators=50, subsample=1, random_state=42)\n",
    "\n",
    "xgboost_grid_model.fit(X_train2, y_train2)"
   ]
  },
  {
   "cell_type": "code",
   "execution_count": 146,
   "id": "f621bc67",
   "metadata": {},
   "outputs": [
    {
     "name": "stdout",
     "output_type": "stream",
     "text": [
      "Test_Set\n",
      "[[92 13]\n",
      " [19 55]]\n",
      "              precision    recall  f1-score   support\n",
      "\n",
      "           0       0.83      0.88      0.85       105\n",
      "           1       0.81      0.74      0.77        74\n",
      "\n",
      "    accuracy                           0.82       179\n",
      "   macro avg       0.82      0.81      0.81       179\n",
      "weighted avg       0.82      0.82      0.82       179\n",
      "\n",
      "\n",
      "Train_Set\n",
      "[[429  15]\n",
      " [ 58 210]]\n",
      "              precision    recall  f1-score   support\n",
      "\n",
      "           0       0.88      0.97      0.92       444\n",
      "           1       0.93      0.78      0.85       268\n",
      "\n",
      "    accuracy                           0.90       712\n",
      "   macro avg       0.91      0.87      0.89       712\n",
      "weighted avg       0.90      0.90      0.90       712\n",
      "\n"
     ]
    }
   ],
   "source": [
    "eval_metric(xgboost_grid_model, X_train2, y_train2, X_test2, y_test2)"
   ]
  },
  {
   "cell_type": "code",
   "execution_count": 147,
   "id": "0e396874",
   "metadata": {},
   "outputs": [],
   "source": [
    "# model = XGBClassifier(colsample_bytree=1, learning_rate=0.2, max_depth=3, max_features=None,\n",
    "#                       n_estimators=50, subsample=1, random_state=42)\n",
    "\n",
    "\n",
    "# scores = cross_validate(model, X_train2, y_train2, scoring=['precision','recall','f1','accuracy'], cv=10)\n",
    "# scores = pd.DataFrame(scores, index=range(1,11))\n",
    "# scores.iloc[:, 2:].mean()"
   ]
  },
  {
   "cell_type": "markdown",
   "id": "dfabf2e2",
   "metadata": {},
   "source": [
    "#### ROC and AUC"
   ]
  },
  {
   "cell_type": "code",
   "execution_count": 148,
   "id": "82cbd6f8",
   "metadata": {},
   "outputs": [
    {
     "data": {
      "text/plain": [
       "<sklearn.metrics._plot.roc_curve.RocCurveDisplay at 0x7f8e65023c40>"
      ]
     },
     "execution_count": 148,
     "metadata": {},
     "output_type": "execute_result"
    },
    {
     "data": {
      "image/png": "[encoded data removed]",
      "text/plain": [
       "<Figure size 720x432 with 1 Axes>"
      ]
     },
     "metadata": {
      "needs_background": "light"
     },
     "output_type": "display_data"
    }
   ],
   "source": [
    "plot_roc_curve(xgboost_grid_model, X_test2, y_test2)"
   ]
  },
  {
   "cell_type": "code",
   "execution_count": 149,
   "id": "a4d3faaf",
   "metadata": {},
   "outputs": [
    {
     "data": {
      "image/png": "[encoded data removed]",
      "text/plain": [
       "<Figure size 720x432 with 1 Axes>"
      ]
     },
     "metadata": {
      "needs_background": "light"
     },
     "output_type": "display_data"
    }
   ],
   "source": [
    "plot_precision_recall_curve(xgboost_grid_model, X_test2, y_test2);"
   ]
  },
  {
   "cell_type": "code",
   "execution_count": 150,
   "id": "9e6f170b",
   "metadata": {},
   "outputs": [],
   "source": [
    "y_pred_xgb = xgboost_grid_model.predict(X_test2)\n",
    "accuracy_xgb = accuracy_score(y_test2, y_pred_xgb)\n",
    "recall_xgb = recall_score(y_test2, y_pred_xgb)\n",
    "precision_xgb = precision_score(y_test2, y_pred_xgb)\n",
    "f1_xgb = f1_score(y_test2, y_pred_xgb)"
   ]
  },
  {
   "cell_type": "markdown",
   "id": "4462f09e",
   "metadata": {},
   "source": [
    "<div class=\"alert alert-block alert-danger\">  \n",
    "<h2>6. Comparing the Models</h2></div>"
   ]
  },
  {
   "cell_type": "code",
   "execution_count": 151,
   "id": "bcf02aa3",
   "metadata": {},
   "outputs": [],
   "source": [
    "compare = pd.DataFrame({\"Model\": [\"Logistic Regression\", \"KNN\", \"SVR\", \"Decision Tree\", \n",
    "                                  \"Random Forest\", \"AdaBoost\", \"XGBoost\"],\n",
    "                    \"Accuracy\": [accuracy_log, accuracy_knn, accuracy_svc, accuracy_dt, accuracy_rf, accuracy_ada,\n",
    "                                accuracy_xgb],\n",
    "                    \"Recall\": [recall_log, recall_knn, recall_svc, recall_dt, recall_rf, recall_ada, recall_xgb],\n",
    "                    \"Precision\": [precision_log, precision_knn, precision_svc, precision_dt, precision_rf,\n",
    "                                 precision_ada, precision_xgb],\n",
    "                    \"F1-Score\": [f1_log, f1_knn, f1_svc, f1_dt, f1_rf, f1_ada, f1_xgb]})"
   ]
  },
  {
   "cell_type": "code",
   "execution_count": 152,
   "id": "cc2e50f4",
   "metadata": {},
   "outputs": [
    {
     "data": {
      "image/png": "[encoded data removed]",
      "text/plain": [
       "<Figure size 1152x1440 with 4 Axes>"
      ]
     },
     "metadata": {
      "needs_background": "light"
     },
     "output_type": "display_data"
    }
   ],
   "source": [
    "fig, ax = plt.subplots(4,1, figsize=(16,20))\n",
    "\n",
    "def labels(ax, i):\n",
    "    for p in ax[i].patches:\n",
    "        ax[i].annotate(format(p.get_height(), '.3f'), (p.get_x() + p.get_width() / 2., p.get_height()),\n",
    "                       ha='center', va='center', xytext=(1,7), textcoords='offset points', fontsize=11)\n",
    "                \n",
    "sns.barplot(x='Model', y='Accuracy', data=compare.sort_values('Accuracy', ascending=False), palette='rocket', ax = ax[0]), labels(ax,0)\n",
    "sns.barplot(x='Model', y='Recall', data=compare.sort_values('Recall', ascending=False), palette='rocket', ax = ax[1]), labels(ax,1)\n",
    "sns.barplot(x='Model', y='Precision', data=compare.sort_values('Precision', ascending=False), palette='rocket', ax = ax[2]), labels(ax,2)\n",
    "sns.barplot(x='Model', y='F1-Score', data=compare.sort_values('F1-Score', ascending=False), palette='rocket', ax = ax[3]), labels(ax,3)\n",
    "\n",
    "fig.suptitle('MODEL COMPARISONS')\n",
    "fig.tight_layout(); "
   ]
  },
  {
   "cell_type": "markdown",
   "id": "4662829c",
   "metadata": {},
   "source": [
    "<div class=\"alert alert-block alert-danger\">  \n",
    "<h2>7. Final Models</h2></div>"
   ]
  },
  {
   "cell_type": "code",
   "execution_count": 153,
   "id": "e0a64c0d",
   "metadata": {},
   "outputs": [
    {
     "data": {
      "text/html": [
       "<div>\n",
       "<style scoped>\n",
       "    .dataframe tbody tr th:only-of-type {\n",
       "        vertical-align: middle;\n",
       "    }\n",
       "\n",
       "    .dataframe tbody tr th {\n",
       "        vertical-align: top;\n",
       "    }\n",
       "\n",
       "    .dataframe thead th {\n",
       "        text-align: right;\n",
       "    }\n",
       "</style>\n",
       "<table border=\"1\" class=\"dataframe\">\n",
       "  <thead>\n",
       "    <tr style=\"text-align: right;\">\n",
       "      <th></th>\n",
       "      <th>PassengerId</th>\n",
       "      <th>Pclass</th>\n",
       "      <th>Name</th>\n",
       "      <th>Sex</th>\n",
       "      <th>Age</th>\n",
       "      <th>SibSp</th>\n",
       "      <th>Parch</th>\n",
       "      <th>Ticket</th>\n",
       "      <th>Fare</th>\n",
       "      <th>Cabin</th>\n",
       "      <th>Embarked</th>\n",
       "    </tr>\n",
       "  </thead>\n",
       "  <tbody>\n",
       "    <tr>\n",
       "      <th>0</th>\n",
       "      <td>892</td>\n",
       "      <td>3</td>\n",
       "      <td>Kelly, Mr. James</td>\n",
       "      <td>male</td>\n",
       "      <td>34.500</td>\n",
       "      <td>0</td>\n",
       "      <td>0</td>\n",
       "      <td>330911</td>\n",
       "      <td>7.829</td>\n",
       "      <td>NaN</td>\n",
       "      <td>Q</td>\n",
       "    </tr>\n",
       "    <tr>\n",
       "      <th>1</th>\n",
       "      <td>893</td>\n",
       "      <td>3</td>\n",
       "      <td>Wilkes, Mrs. James (Ellen Needs)</td>\n",
       "      <td>female</td>\n",
       "      <td>47.000</td>\n",
       "      <td>1</td>\n",
       "      <td>0</td>\n",
       "      <td>363272</td>\n",
       "      <td>7.000</td>\n",
       "      <td>NaN</td>\n",
       "      <td>S</td>\n",
       "    </tr>\n",
       "    <tr>\n",
       "      <th>2</th>\n",
       "      <td>894</td>\n",
       "      <td>2</td>\n",
       "      <td>Myles, Mr. Thomas Francis</td>\n",
       "      <td>male</td>\n",
       "      <td>62.000</td>\n",
       "      <td>0</td>\n",
       "      <td>0</td>\n",
       "      <td>240276</td>\n",
       "      <td>9.688</td>\n",
       "      <td>NaN</td>\n",
       "      <td>Q</td>\n",
       "    </tr>\n",
       "    <tr>\n",
       "      <th>3</th>\n",
       "      <td>895</td>\n",
       "      <td>3</td>\n",
       "      <td>Wirz, Mr. Albert</td>\n",
       "      <td>male</td>\n",
       "      <td>27.000</td>\n",
       "      <td>0</td>\n",
       "      <td>0</td>\n",
       "      <td>315154</td>\n",
       "      <td>8.662</td>\n",
       "      <td>NaN</td>\n",
       "      <td>S</td>\n",
       "    </tr>\n",
       "    <tr>\n",
       "      <th>4</th>\n",
       "      <td>896</td>\n",
       "      <td>3</td>\n",
       "      <td>Hirvonen, Mrs. Alexander (Helga E Lindqvist)</td>\n",
       "      <td>female</td>\n",
       "      <td>22.000</td>\n",
       "      <td>1</td>\n",
       "      <td>1</td>\n",
       "      <td>3101298</td>\n",
       "      <td>12.287</td>\n",
       "      <td>NaN</td>\n",
       "      <td>S</td>\n",
       "    </tr>\n",
       "  </tbody>\n",
       "</table>\n",
       "</div>"
      ],
      "text/plain": [
       "   PassengerId  Pclass                                          Name     Sex  \\\n",
       "0          892       3                              Kelly, Mr. James    male   \n",
       "1          893       3              Wilkes, Mrs. James (Ellen Needs)  female   \n",
       "2          894       2                     Myles, Mr. Thomas Francis    male   \n",
       "3          895       3                              Wirz, Mr. Albert    male   \n",
       "4          896       3  Hirvonen, Mrs. Alexander (Helga E Lindqvist)  female   \n",
       "\n",
       "     Age  SibSp  Parch   Ticket   Fare Cabin Embarked  \n",
       "0 34.500      0      0   330911  7.829   NaN        Q  \n",
       "1 47.000      1      0   363272  7.000   NaN        S  \n",
       "2 62.000      0      0   240276  9.688   NaN        Q  \n",
       "3 27.000      0      0   315154  8.662   NaN        S  \n",
       "4 22.000      1      1  3101298 12.287   NaN        S  "
      ]
     },
     "execution_count": 153,
     "metadata": {},
     "output_type": "execute_result"
    }
   ],
   "source": [
    "test_data = pd.read_csv(\"test.csv\")\n",
    "test_data.head()"
   ]
  },
  {
   "cell_type": "code",
   "execution_count": 154,
   "id": "af25acc0",
   "metadata": {},
   "outputs": [
    {
     "data": {
      "text/plain": [
       "PassengerId      0\n",
       "Pclass           0\n",
       "Name             0\n",
       "Sex              0\n",
       "Age             86\n",
       "SibSp            0\n",
       "Parch            0\n",
       "Ticket           0\n",
       "Fare             1\n",
       "Cabin          327\n",
       "Embarked         0\n",
       "dtype: int64"
      ]
     },
     "execution_count": 154,
     "metadata": {},
     "output_type": "execute_result"
    }
   ],
   "source": [
    "test_data.isnull().sum()"
   ]
  },
  {
   "cell_type": "code",
   "execution_count": 155,
   "id": "65e51e10",
   "metadata": {},
   "outputs": [
    {
     "data": {
      "text/plain": [
       "(418, 11)"
      ]
     },
     "execution_count": 155,
     "metadata": {},
     "output_type": "execute_result"
    }
   ],
   "source": [
    "test_data.shape"
   ]
  },
  {
   "cell_type": "code",
   "execution_count": 156,
   "id": "3c0c707a",
   "metadata": {},
   "outputs": [
    {
     "name": "stdout",
     "output_type": "stream",
     "text": [
      "<class 'pandas.core.frame.DataFrame'>\n",
      "RangeIndex: 418 entries, 0 to 417\n",
      "Data columns (total 11 columns):\n",
      " #   Column       Non-Null Count  Dtype  \n",
      "---  ------       --------------  -----  \n",
      " 0   PassengerId  418 non-null    int64  \n",
      " 1   Pclass       418 non-null    int64  \n",
      " 2   Name         418 non-null    object \n",
      " 3   Sex          418 non-null    object \n",
      " 4   Age          332 non-null    float64\n",
      " 5   SibSp        418 non-null    int64  \n",
      " 6   Parch        418 non-null    int64  \n",
      " 7   Ticket       418 non-null    object \n",
      " 8   Fare         417 non-null    float64\n",
      " 9   Cabin        91 non-null     object \n",
      " 10  Embarked     418 non-null    object \n",
      "dtypes: float64(2), int64(4), object(5)\n",
      "memory usage: 36.0+ KB\n"
     ]
    }
   ],
   "source": [
    "test_data.info()"
   ]
  },
  {
   "cell_type": "code",
   "execution_count": 157,
   "id": "669f204f",
   "metadata": {},
   "outputs": [],
   "source": [
    "for group1 in list(test_data['Sex'].unique()):\n",
    "    for group2 in list(test_data['Pclass'].unique()):\n",
    "        for group3 in list(test_data['SibSp'].unique()):\n",
    "            for group4 in list(test_data['Parch'].unique()):\n",
    "                cond1 = test_data['Sex']==group1\n",
    "                cond2 = (test_data['Sex']==group1) & (test_data['Pclass']==group2)\n",
    "                cond3 = (test_data['Sex']==group1) & (test_data['Pclass']==group2) & (test_data['SibSp']==group3)\n",
    "                cond4 = (test_data['Sex']==group1) & (test_data['Pclass']==group2) & (test_data['SibSp']==group3) & \\\n",
    "                (test_data['Parch']==group4)                                \n",
    "                mode1 = list(test_data[cond1]['Age'].mode())\n",
    "                mode2 = list(test_data[cond2]['Age'].mode())\n",
    "                mode3 = list(test_data[cond3]['Age'].mode())\n",
    "                mode4 = list(test_data[cond4]['Age'].mode())\n",
    "                if mode4 != []:\n",
    "                    test_data.loc[cond4, 'Age'] = test_data.loc[cond4, 'Age'].fillna(test_data[cond4]['Age'].mode()[0])\n",
    "                elif mode3 != []:\n",
    "                    test_data.loc[cond3, 'Age'] = test_data.loc[cond3, 'Age'].fillna(test_data[cond3]['Age'].mode()[0])\n",
    "                elif mode2 != []:\n",
    "                    test_data.loc[cond2, 'Age'] = test_data.loc[cond2, 'Age'].fillna(test_data[cond2]['Age'].mode()[0])"
   ]
  },
  {
   "cell_type": "code",
   "execution_count": 158,
   "id": "493a65fe",
   "metadata": {},
   "outputs": [],
   "source": [
    "test_data.Age = test_data.Age.apply(lambda x: np.ceil(x))"
   ]
  },
  {
   "cell_type": "code",
   "execution_count": 159,
   "id": "990f0b13",
   "metadata": {},
   "outputs": [
    {
     "data": {
      "text/plain": [
       "PassengerId      0\n",
       "Pclass           0\n",
       "Name             0\n",
       "Sex              0\n",
       "Age              0\n",
       "SibSp            0\n",
       "Parch            0\n",
       "Ticket           0\n",
       "Fare             1\n",
       "Cabin          327\n",
       "Embarked         0\n",
       "dtype: int64"
      ]
     },
     "execution_count": 159,
     "metadata": {},
     "output_type": "execute_result"
    }
   ],
   "source": [
    "test_data.isnull().sum()"
   ]
  },
  {
   "cell_type": "code",
   "execution_count": 160,
   "id": "7b6df70e",
   "metadata": {},
   "outputs": [
    {
     "data": {
      "text/html": [
       "<div>\n",
       "<style scoped>\n",
       "    .dataframe tbody tr th:only-of-type {\n",
       "        vertical-align: middle;\n",
       "    }\n",
       "\n",
       "    .dataframe tbody tr th {\n",
       "        vertical-align: top;\n",
       "    }\n",
       "\n",
       "    .dataframe thead th {\n",
       "        text-align: right;\n",
       "    }\n",
       "</style>\n",
       "<table border=\"1\" class=\"dataframe\">\n",
       "  <thead>\n",
       "    <tr style=\"text-align: right;\">\n",
       "      <th></th>\n",
       "      <th>PassengerId</th>\n",
       "      <th>Pclass</th>\n",
       "      <th>Name</th>\n",
       "      <th>Sex</th>\n",
       "      <th>Age</th>\n",
       "      <th>SibSp</th>\n",
       "      <th>Parch</th>\n",
       "      <th>Ticket</th>\n",
       "      <th>Fare</th>\n",
       "      <th>Cabin</th>\n",
       "      <th>Embarked</th>\n",
       "    </tr>\n",
       "  </thead>\n",
       "  <tbody>\n",
       "    <tr>\n",
       "      <th>152</th>\n",
       "      <td>1044</td>\n",
       "      <td>3</td>\n",
       "      <td>Storey, Mr. Thomas</td>\n",
       "      <td>male</td>\n",
       "      <td>61.000</td>\n",
       "      <td>0</td>\n",
       "      <td>0</td>\n",
       "      <td>3701</td>\n",
       "      <td>NaN</td>\n",
       "      <td>NaN</td>\n",
       "      <td>S</td>\n",
       "    </tr>\n",
       "  </tbody>\n",
       "</table>\n",
       "</div>"
      ],
      "text/plain": [
       "     PassengerId  Pclass                Name   Sex    Age  SibSp  Parch  \\\n",
       "152         1044       3  Storey, Mr. Thomas  male 61.000      0      0   \n",
       "\n",
       "    Ticket  Fare Cabin Embarked  \n",
       "152   3701   NaN   NaN        S  "
      ]
     },
     "execution_count": 160,
     "metadata": {},
     "output_type": "execute_result"
    }
   ],
   "source": [
    "test_data[test_data.Fare.isna()]"
   ]
  },
  {
   "cell_type": "code",
   "execution_count": 161,
   "id": "297ecffe",
   "metadata": {},
   "outputs": [],
   "source": [
    "test_data.Fare.fillna(method='ffill', inplace=True)"
   ]
  },
  {
   "cell_type": "code",
   "execution_count": 162,
   "id": "1815fd70",
   "metadata": {},
   "outputs": [
    {
     "data": {
      "text/plain": [
       "PassengerId      0\n",
       "Pclass           0\n",
       "Name             0\n",
       "Sex              0\n",
       "Age              0\n",
       "SibSp            0\n",
       "Parch            0\n",
       "Ticket           0\n",
       "Fare             0\n",
       "Cabin          327\n",
       "Embarked         0\n",
       "dtype: int64"
      ]
     },
     "execution_count": 162,
     "metadata": {},
     "output_type": "execute_result"
    }
   ],
   "source": [
    "test_data.isnull().sum()"
   ]
  },
  {
   "cell_type": "code",
   "execution_count": 163,
   "id": "52507d10",
   "metadata": {},
   "outputs": [],
   "source": [
    "test2 = test_data.iloc[:,[1, 3, 4, 5, 6, 8, 10]]"
   ]
  },
  {
   "cell_type": "code",
   "execution_count": 164,
   "id": "ecfa4ce7",
   "metadata": {},
   "outputs": [
    {
     "data": {
      "text/html": [
       "<div>\n",
       "<style scoped>\n",
       "    .dataframe tbody tr th:only-of-type {\n",
       "        vertical-align: middle;\n",
       "    }\n",
       "\n",
       "    .dataframe tbody tr th {\n",
       "        vertical-align: top;\n",
       "    }\n",
       "\n",
       "    .dataframe thead th {\n",
       "        text-align: right;\n",
       "    }\n",
       "</style>\n",
       "<table border=\"1\" class=\"dataframe\">\n",
       "  <thead>\n",
       "    <tr style=\"text-align: right;\">\n",
       "      <th></th>\n",
       "      <th>Pclass</th>\n",
       "      <th>Sex</th>\n",
       "      <th>Age</th>\n",
       "      <th>SibSp</th>\n",
       "      <th>Parch</th>\n",
       "      <th>Fare</th>\n",
       "      <th>Embarked</th>\n",
       "    </tr>\n",
       "  </thead>\n",
       "  <tbody>\n",
       "    <tr>\n",
       "      <th>0</th>\n",
       "      <td>3</td>\n",
       "      <td>male</td>\n",
       "      <td>35.000</td>\n",
       "      <td>0</td>\n",
       "      <td>0</td>\n",
       "      <td>7.829</td>\n",
       "      <td>Q</td>\n",
       "    </tr>\n",
       "    <tr>\n",
       "      <th>1</th>\n",
       "      <td>3</td>\n",
       "      <td>female</td>\n",
       "      <td>47.000</td>\n",
       "      <td>1</td>\n",
       "      <td>0</td>\n",
       "      <td>7.000</td>\n",
       "      <td>S</td>\n",
       "    </tr>\n",
       "    <tr>\n",
       "      <th>2</th>\n",
       "      <td>2</td>\n",
       "      <td>male</td>\n",
       "      <td>62.000</td>\n",
       "      <td>0</td>\n",
       "      <td>0</td>\n",
       "      <td>9.688</td>\n",
       "      <td>Q</td>\n",
       "    </tr>\n",
       "    <tr>\n",
       "      <th>3</th>\n",
       "      <td>3</td>\n",
       "      <td>male</td>\n",
       "      <td>27.000</td>\n",
       "      <td>0</td>\n",
       "      <td>0</td>\n",
       "      <td>8.662</td>\n",
       "      <td>S</td>\n",
       "    </tr>\n",
       "    <tr>\n",
       "      <th>4</th>\n",
       "      <td>3</td>\n",
       "      <td>female</td>\n",
       "      <td>22.000</td>\n",
       "      <td>1</td>\n",
       "      <td>1</td>\n",
       "      <td>12.287</td>\n",
       "      <td>S</td>\n",
       "    </tr>\n",
       "  </tbody>\n",
       "</table>\n",
       "</div>"
      ],
      "text/plain": [
       "   Pclass     Sex    Age  SibSp  Parch   Fare Embarked\n",
       "0       3    male 35.000      0      0  7.829        Q\n",
       "1       3  female 47.000      1      0  7.000        S\n",
       "2       2    male 62.000      0      0  9.688        Q\n",
       "3       3    male 27.000      0      0  8.662        S\n",
       "4       3  female 22.000      1      1 12.287        S"
      ]
     },
     "execution_count": 164,
     "metadata": {},
     "output_type": "execute_result"
    }
   ],
   "source": [
    "test2.head()"
   ]
  },
  {
   "cell_type": "code",
   "execution_count": 165,
   "id": "db100989",
   "metadata": {},
   "outputs": [
    {
     "name": "stdout",
     "output_type": "stream",
     "text": [
      "<class 'pandas.core.frame.DataFrame'>\n",
      "RangeIndex: 418 entries, 0 to 417\n",
      "Data columns (total 7 columns):\n",
      " #   Column    Non-Null Count  Dtype  \n",
      "---  ------    --------------  -----  \n",
      " 0   Pclass    418 non-null    int64  \n",
      " 1   Sex       418 non-null    object \n",
      " 2   Age       418 non-null    float64\n",
      " 3   SibSp     418 non-null    int64  \n",
      " 4   Parch     418 non-null    int64  \n",
      " 5   Fare      418 non-null    float64\n",
      " 6   Embarked  418 non-null    object \n",
      "dtypes: float64(2), int64(3), object(2)\n",
      "memory usage: 23.0+ KB\n"
     ]
    }
   ],
   "source": [
    "test2.info()"
   ]
  },
  {
   "cell_type": "code",
   "execution_count": 166,
   "id": "18044585",
   "metadata": {},
   "outputs": [],
   "source": [
    "X_dummed = pd.get_dummies(test2, drop_first=True)"
   ]
  },
  {
   "cell_type": "code",
   "execution_count": 167,
   "id": "9721a77c",
   "metadata": {},
   "outputs": [
    {
     "data": {
      "text/html": [
       "<div>\n",
       "<style scoped>\n",
       "    .dataframe tbody tr th:only-of-type {\n",
       "        vertical-align: middle;\n",
       "    }\n",
       "\n",
       "    .dataframe tbody tr th {\n",
       "        vertical-align: top;\n",
       "    }\n",
       "\n",
       "    .dataframe thead th {\n",
       "        text-align: right;\n",
       "    }\n",
       "</style>\n",
       "<table border=\"1\" class=\"dataframe\">\n",
       "  <thead>\n",
       "    <tr style=\"text-align: right;\">\n",
       "      <th></th>\n",
       "      <th>Pclass</th>\n",
       "      <th>Age</th>\n",
       "      <th>SibSp</th>\n",
       "      <th>Parch</th>\n",
       "      <th>Fare</th>\n",
       "      <th>Sex_male</th>\n",
       "      <th>Embarked_Q</th>\n",
       "      <th>Embarked_S</th>\n",
       "    </tr>\n",
       "  </thead>\n",
       "  <tbody>\n",
       "    <tr>\n",
       "      <th>0</th>\n",
       "      <td>3</td>\n",
       "      <td>35.000</td>\n",
       "      <td>0</td>\n",
       "      <td>0</td>\n",
       "      <td>7.829</td>\n",
       "      <td>1</td>\n",
       "      <td>1</td>\n",
       "      <td>0</td>\n",
       "    </tr>\n",
       "    <tr>\n",
       "      <th>1</th>\n",
       "      <td>3</td>\n",
       "      <td>47.000</td>\n",
       "      <td>1</td>\n",
       "      <td>0</td>\n",
       "      <td>7.000</td>\n",
       "      <td>0</td>\n",
       "      <td>0</td>\n",
       "      <td>1</td>\n",
       "    </tr>\n",
       "    <tr>\n",
       "      <th>2</th>\n",
       "      <td>2</td>\n",
       "      <td>62.000</td>\n",
       "      <td>0</td>\n",
       "      <td>0</td>\n",
       "      <td>9.688</td>\n",
       "      <td>1</td>\n",
       "      <td>1</td>\n",
       "      <td>0</td>\n",
       "    </tr>\n",
       "    <tr>\n",
       "      <th>3</th>\n",
       "      <td>3</td>\n",
       "      <td>27.000</td>\n",
       "      <td>0</td>\n",
       "      <td>0</td>\n",
       "      <td>8.662</td>\n",
       "      <td>1</td>\n",
       "      <td>0</td>\n",
       "      <td>1</td>\n",
       "    </tr>\n",
       "    <tr>\n",
       "      <th>4</th>\n",
       "      <td>3</td>\n",
       "      <td>22.000</td>\n",
       "      <td>1</td>\n",
       "      <td>1</td>\n",
       "      <td>12.287</td>\n",
       "      <td>0</td>\n",
       "      <td>0</td>\n",
       "      <td>1</td>\n",
       "    </tr>\n",
       "  </tbody>\n",
       "</table>\n",
       "</div>"
      ],
      "text/plain": [
       "   Pclass    Age  SibSp  Parch   Fare  Sex_male  Embarked_Q  Embarked_S\n",
       "0       3 35.000      0      0  7.829         1           1           0\n",
       "1       3 47.000      1      0  7.000         0           0           1\n",
       "2       2 62.000      0      0  9.688         1           1           0\n",
       "3       3 27.000      0      0  8.662         1           0           1\n",
       "4       3 22.000      1      1 12.287         0           0           1"
      ]
     },
     "execution_count": 167,
     "metadata": {},
     "output_type": "execute_result"
    }
   ],
   "source": [
    "X_dummed.head()"
   ]
  },
  {
   "cell_type": "code",
   "execution_count": 168,
   "id": "61ff0731",
   "metadata": {},
   "outputs": [
    {
     "data": {
      "text/plain": [
       "Index(['Sex', 'Embarked'], dtype='object')"
      ]
     },
     "execution_count": 168,
     "metadata": {},
     "output_type": "execute_result"
    }
   ],
   "source": [
    "cat_final = test2.select_dtypes(\"object\").columns\n",
    "cat_final"
   ]
  },
  {
   "cell_type": "code",
   "execution_count": 169,
   "id": "35883a0b",
   "metadata": {},
   "outputs": [
    {
     "data": {
      "text/html": [
       "<div>\n",
       "<style scoped>\n",
       "    .dataframe tbody tr th:only-of-type {\n",
       "        vertical-align: middle;\n",
       "    }\n",
       "\n",
       "    .dataframe tbody tr th {\n",
       "        vertical-align: top;\n",
       "    }\n",
       "\n",
       "    .dataframe thead th {\n",
       "        text-align: right;\n",
       "    }\n",
       "</style>\n",
       "<table border=\"1\" class=\"dataframe\">\n",
       "  <thead>\n",
       "    <tr style=\"text-align: right;\">\n",
       "      <th></th>\n",
       "      <th>Pclass</th>\n",
       "      <th>Sex</th>\n",
       "      <th>Age</th>\n",
       "      <th>SibSp</th>\n",
       "      <th>Parch</th>\n",
       "      <th>Fare</th>\n",
       "      <th>Embarked</th>\n",
       "    </tr>\n",
       "  </thead>\n",
       "  <tbody>\n",
       "    <tr>\n",
       "      <th>0</th>\n",
       "      <td>3</td>\n",
       "      <td>1.000</td>\n",
       "      <td>35.000</td>\n",
       "      <td>0</td>\n",
       "      <td>0</td>\n",
       "      <td>7.829</td>\n",
       "      <td>1.000</td>\n",
       "    </tr>\n",
       "    <tr>\n",
       "      <th>1</th>\n",
       "      <td>3</td>\n",
       "      <td>0.000</td>\n",
       "      <td>47.000</td>\n",
       "      <td>1</td>\n",
       "      <td>0</td>\n",
       "      <td>7.000</td>\n",
       "      <td>2.000</td>\n",
       "    </tr>\n",
       "    <tr>\n",
       "      <th>2</th>\n",
       "      <td>2</td>\n",
       "      <td>1.000</td>\n",
       "      <td>62.000</td>\n",
       "      <td>0</td>\n",
       "      <td>0</td>\n",
       "      <td>9.688</td>\n",
       "      <td>1.000</td>\n",
       "    </tr>\n",
       "    <tr>\n",
       "      <th>3</th>\n",
       "      <td>3</td>\n",
       "      <td>1.000</td>\n",
       "      <td>27.000</td>\n",
       "      <td>0</td>\n",
       "      <td>0</td>\n",
       "      <td>8.662</td>\n",
       "      <td>2.000</td>\n",
       "    </tr>\n",
       "    <tr>\n",
       "      <th>4</th>\n",
       "      <td>3</td>\n",
       "      <td>0.000</td>\n",
       "      <td>22.000</td>\n",
       "      <td>1</td>\n",
       "      <td>1</td>\n",
       "      <td>12.287</td>\n",
       "      <td>2.000</td>\n",
       "    </tr>\n",
       "  </tbody>\n",
       "</table>\n",
       "</div>"
      ],
      "text/plain": [
       "   Pclass   Sex    Age  SibSp  Parch   Fare  Embarked\n",
       "0       3 1.000 35.000      0      0  7.829     1.000\n",
       "1       3 0.000 47.000      1      0  7.000     2.000\n",
       "2       2 1.000 62.000      0      0  9.688     1.000\n",
       "3       3 1.000 27.000      0      0  8.662     2.000\n",
       "4       3 0.000 22.000      1      1 12.287     2.000"
      ]
     },
     "execution_count": 169,
     "metadata": {},
     "output_type": "execute_result"
    }
   ],
   "source": [
    "X_enc = test2\n",
    "enc = OrdinalEncoder()\n",
    "X_enc[cat_final] = enc.fit_transform(X_enc[cat_final])\n",
    "X_enc.head()"
   ]
  },
  {
   "cell_type": "code",
   "execution_count": 170,
   "id": "95143168",
   "metadata": {},
   "outputs": [],
   "source": [
    "operations_log = [(\"scaler\", MinMaxScaler()), (\"log\", LogisticRegression(random_state=42,\n",
    "                                                                        C=16.23776739188721, class_weight=None,\n",
    "                                                                        penalty='l2', solver='lbfgs'))]\n",
    "final_log_model = Pipeline(steps=operations_log)"
   ]
  },
  {
   "cell_type": "code",
   "execution_count": 171,
   "id": "a52d7a3f",
   "metadata": {},
   "outputs": [
    {
     "data": {
      "text/plain": [
       "Pipeline(steps=[('scaler', MinMaxScaler()),\n",
       "                ('log',\n",
       "                 LogisticRegression(C=16.23776739188721, random_state=42))])"
      ]
     },
     "execution_count": 171,
     "metadata": {},
     "output_type": "execute_result"
    }
   ],
   "source": [
    "final_log_model.fit(X, y)"
   ]
  },
  {
   "cell_type": "code",
   "execution_count": 172,
   "id": "35b7ee2e",
   "metadata": {},
   "outputs": [],
   "source": [
    "final_pred_log = final_log_model.predict(X_dummed)"
   ]
  },
  {
   "cell_type": "code",
   "execution_count": 173,
   "id": "67408f2a",
   "metadata": {},
   "outputs": [],
   "source": [
    "final_rf_model = RandomForestClassifier(random_state=42, max_depth=8, max_features=6, min_samples_leaf=1, \n",
    "                                        min_samples_split=2, n_estimators=128, class_weight='balanced')"
   ]
  },
  {
   "cell_type": "code",
   "execution_count": 174,
   "id": "553453b6",
   "metadata": {},
   "outputs": [
    {
     "data": {
      "text/plain": [
       "RandomForestClassifier(class_weight='balanced', max_depth=8, max_features=6,\n",
       "                       n_estimators=128, random_state=42)"
      ]
     },
     "execution_count": 174,
     "metadata": {},
     "output_type": "execute_result"
    }
   ],
   "source": [
    "final_rf_model.fit(X2, y2)"
   ]
  },
  {
   "cell_type": "code",
   "execution_count": 175,
   "id": "6c2d1876",
   "metadata": {},
   "outputs": [],
   "source": [
    "final_pred_rf = final_rf_model.predict(X_enc)"
   ]
  },
  {
   "cell_type": "code",
   "execution_count": 176,
   "id": "3cc0622c",
   "metadata": {},
   "outputs": [],
   "source": [
    "final_xgb_model = XGBClassifier(colsample_bytree=1, learning_rate=0.2, max_depth=3, max_features=None,\n",
    "                      n_estimators=50, subsample=1, random_state=42)"
   ]
  },
  {
   "cell_type": "code",
   "execution_count": 177,
   "id": "32016915",
   "metadata": {},
   "outputs": [
    {
     "name": "stdout",
     "output_type": "stream",
     "text": [
      "[10:55:44] WARNING: ../src/learner.cc:1115: Starting in XGBoost 1.3.0, the default evaluation metric used with the objective 'binary:logistic' was changed from 'error' to 'logloss'. Explicitly set eval_metric if you'd like to restore the old behavior.\n"
     ]
    },
    {
     "data": {
      "text/plain": [
       "XGBClassifier(base_score=0.5, booster='gbtree', colsample_bylevel=1,\n",
       "              colsample_bynode=1, colsample_bytree=1, enable_categorical=False,\n",
       "              gamma=0, gpu_id=-1, importance_type=None,\n",
       "              interaction_constraints='', learning_rate=0.2, max_delta_step=0,\n",
       "              max_depth=3, max_features=None, min_child_weight=1, missing=nan,\n",
       "              monotone_constraints='()', n_estimators=50, n_jobs=4,\n",
       "              num_parallel_tree=1, predictor='auto', random_state=42,\n",
       "              reg_alpha=0, reg_lambda=1, scale_pos_weight=1, subsample=1,\n",
       "              tree_method='exact', validate_parameters=1, verbosity=None)"
      ]
     },
     "execution_count": 177,
     "metadata": {},
     "output_type": "execute_result"
    }
   ],
   "source": [
    "final_xgb_model.fit(X2, y2)"
   ]
  },
  {
   "cell_type": "code",
   "execution_count": 178,
   "id": "3b88f46d",
   "metadata": {},
   "outputs": [],
   "source": [
    "final_pred_xgb = final_xgb_model.predict(X_enc)"
   ]
  },
  {
   "cell_type": "code",
   "execution_count": 179,
   "id": "c357b636",
   "metadata": {},
   "outputs": [],
   "source": [
    "log_df = pd.DataFrame(final_pred_log, columns=['Logistic Regression'])"
   ]
  },
  {
   "cell_type": "code",
   "execution_count": 180,
   "id": "5abae34d",
   "metadata": {},
   "outputs": [],
   "source": [
    "rf_df = pd.DataFrame(final_pred_rf, columns=['Random Forest'])"
   ]
  },
  {
   "cell_type": "code",
   "execution_count": 181,
   "id": "b41c2ef4",
   "metadata": {},
   "outputs": [],
   "source": [
    "xgb_df = pd.DataFrame(final_pred_xgb, columns=['XGBoost'])"
   ]
  },
  {
   "cell_type": "code",
   "execution_count": 182,
   "id": "7dda99e6",
   "metadata": {},
   "outputs": [],
   "source": [
    "res = pd.concat([log_df, rf_df, xgb_df], axis=1)"
   ]
  },
  {
   "cell_type": "code",
   "execution_count": 183,
   "id": "c8b7ef0d",
   "metadata": {},
   "outputs": [
    {
     "data": {
      "text/plain": [
       "0    262\n",
       "1    156\n",
       "Name: Logistic Regression, dtype: int64"
      ]
     },
     "execution_count": 183,
     "metadata": {},
     "output_type": "execute_result"
    }
   ],
   "source": [
    "res['Logistic Regression'].value_counts()"
   ]
  },
  {
   "cell_type": "code",
   "execution_count": 184,
   "id": "c81a8fab",
   "metadata": {},
   "outputs": [
    {
     "data": {
      "text/plain": [
       "0    270\n",
       "1    148\n",
       "Name: Random Forest, dtype: int64"
      ]
     },
     "execution_count": 184,
     "metadata": {},
     "output_type": "execute_result"
    }
   ],
   "source": [
    "res['Random Forest'].value_counts()"
   ]
  },
  {
   "cell_type": "code",
   "execution_count": 185,
   "id": "7ed85ac6",
   "metadata": {},
   "outputs": [
    {
     "data": {
      "text/plain": [
       "0    273\n",
       "1    145\n",
       "Name: XGBoost, dtype: int64"
      ]
     },
     "execution_count": 185,
     "metadata": {},
     "output_type": "execute_result"
    }
   ],
   "source": [
    "res['XGBoost'].value_counts()"
   ]
  },
  {
   "cell_type": "code",
   "execution_count": 186,
   "id": "dd59a2ec",
   "metadata": {},
   "outputs": [
    {
     "data": {
      "text/html": [
       "<div>\n",
       "<style scoped>\n",
       "    .dataframe tbody tr th:only-of-type {\n",
       "        vertical-align: middle;\n",
       "    }\n",
       "\n",
       "    .dataframe tbody tr th {\n",
       "        vertical-align: top;\n",
       "    }\n",
       "\n",
       "    .dataframe thead th {\n",
       "        text-align: right;\n",
       "    }\n",
       "</style>\n",
       "<table border=\"1\" class=\"dataframe\">\n",
       "  <thead>\n",
       "    <tr style=\"text-align: right;\">\n",
       "      <th>Random Forest</th>\n",
       "      <th>0</th>\n",
       "      <th>1</th>\n",
       "    </tr>\n",
       "    <tr>\n",
       "      <th>XGBoost</th>\n",
       "      <th></th>\n",
       "      <th></th>\n",
       "    </tr>\n",
       "  </thead>\n",
       "  <tbody>\n",
       "    <tr>\n",
       "      <th>0</th>\n",
       "      <td>255</td>\n",
       "      <td>18</td>\n",
       "    </tr>\n",
       "    <tr>\n",
       "      <th>1</th>\n",
       "      <td>15</td>\n",
       "      <td>130</td>\n",
       "    </tr>\n",
       "  </tbody>\n",
       "</table>\n",
       "</div>"
      ],
      "text/plain": [
       "Random Forest    0    1\n",
       "XGBoost                \n",
       "0              255   18\n",
       "1               15  130"
      ]
     },
     "execution_count": 186,
     "metadata": {},
     "output_type": "execute_result"
    }
   ],
   "source": [
    "pd.crosstab(res['XGBoost'], res['Random Forest'])"
   ]
  },
  {
   "cell_type": "code",
   "execution_count": 187,
   "id": "3f1a5cbd",
   "metadata": {},
   "outputs": [
    {
     "data": {
      "text/html": [
       "<div>\n",
       "<style scoped>\n",
       "    .dataframe tbody tr th:only-of-type {\n",
       "        vertical-align: middle;\n",
       "    }\n",
       "\n",
       "    .dataframe tbody tr th {\n",
       "        vertical-align: top;\n",
       "    }\n",
       "\n",
       "    .dataframe thead th {\n",
       "        text-align: right;\n",
       "    }\n",
       "</style>\n",
       "<table border=\"1\" class=\"dataframe\">\n",
       "  <thead>\n",
       "    <tr style=\"text-align: right;\">\n",
       "      <th>Logistic Regression</th>\n",
       "      <th>0</th>\n",
       "      <th>1</th>\n",
       "    </tr>\n",
       "    <tr>\n",
       "      <th>XGBoost</th>\n",
       "      <th></th>\n",
       "      <th></th>\n",
       "    </tr>\n",
       "  </thead>\n",
       "  <tbody>\n",
       "    <tr>\n",
       "      <th>0</th>\n",
       "      <td>248</td>\n",
       "      <td>25</td>\n",
       "    </tr>\n",
       "    <tr>\n",
       "      <th>1</th>\n",
       "      <td>14</td>\n",
       "      <td>131</td>\n",
       "    </tr>\n",
       "  </tbody>\n",
       "</table>\n",
       "</div>"
      ],
      "text/plain": [
       "Logistic Regression    0    1\n",
       "XGBoost                      \n",
       "0                    248   25\n",
       "1                     14  131"
      ]
     },
     "execution_count": 187,
     "metadata": {},
     "output_type": "execute_result"
    }
   ],
   "source": [
    "pd.crosstab(res['XGBoost'], res['Logistic Regression'])"
   ]
  },
  {
   "cell_type": "code",
   "execution_count": 188,
   "id": "062125fc",
   "metadata": {},
   "outputs": [
    {
     "data": {
      "text/html": [
       "<div>\n",
       "<style scoped>\n",
       "    .dataframe tbody tr th:only-of-type {\n",
       "        vertical-align: middle;\n",
       "    }\n",
       "\n",
       "    .dataframe tbody tr th {\n",
       "        vertical-align: top;\n",
       "    }\n",
       "\n",
       "    .dataframe thead th {\n",
       "        text-align: right;\n",
       "    }\n",
       "</style>\n",
       "<table border=\"1\" class=\"dataframe\">\n",
       "  <thead>\n",
       "    <tr style=\"text-align: right;\">\n",
       "      <th>Random Forest</th>\n",
       "      <th>0</th>\n",
       "      <th>1</th>\n",
       "    </tr>\n",
       "    <tr>\n",
       "      <th>Logistic Regression</th>\n",
       "      <th></th>\n",
       "      <th></th>\n",
       "    </tr>\n",
       "  </thead>\n",
       "  <tbody>\n",
       "    <tr>\n",
       "      <th>0</th>\n",
       "      <td>235</td>\n",
       "      <td>27</td>\n",
       "    </tr>\n",
       "    <tr>\n",
       "      <th>1</th>\n",
       "      <td>35</td>\n",
       "      <td>121</td>\n",
       "    </tr>\n",
       "  </tbody>\n",
       "</table>\n",
       "</div>"
      ],
      "text/plain": [
       "Random Forest          0    1\n",
       "Logistic Regression          \n",
       "0                    235   27\n",
       "1                     35  121"
      ]
     },
     "execution_count": 188,
     "metadata": {},
     "output_type": "execute_result"
    }
   ],
   "source": [
    "pd.crosstab(res['Logistic Regression'], res['Random Forest'])"
   ]
  },
  {
   "cell_type": "code",
   "execution_count": 189,
   "id": "5a1dd891",
   "metadata": {},
   "outputs": [],
   "source": [
    "submission = pd.DataFrame(final_pred_xgb, columns=['Survived'])"
   ]
  },
  {
   "cell_type": "code",
   "execution_count": 190,
   "id": "6eab97b0",
   "metadata": {},
   "outputs": [],
   "source": [
    "submit = pd.concat([test_data['PassengerId'], submission], axis=1)"
   ]
  },
  {
   "cell_type": "code",
   "execution_count": 191,
   "id": "fb7c030b",
   "metadata": {},
   "outputs": [],
   "source": [
    "# submit"
   ]
  },
  {
   "cell_type": "code",
   "execution_count": 192,
   "id": "28744aff",
   "metadata": {},
   "outputs": [],
   "source": [
    "# submit.to_csv('submission.csv', index=False)"
   ]
  },
  {
   "cell_type": "markdown",
   "id": "94421f2b",
   "metadata": {},
   "source": [
    "<div class=\"alert alert-block alert-danger\">  \n",
    "<h2>8. SMOTE Application to the Data</h2></div>"
   ]
  },
  {
   "cell_type": "code",
   "execution_count": 193,
   "id": "8bce4626",
   "metadata": {},
   "outputs": [],
   "source": [
    "from imblearn.over_sampling import SMOTE\n",
    "from imblearn.under_sampling import RandomUnderSampler\n",
    "from imblearn.pipeline import Pipeline as imbpipeline"
   ]
  },
  {
   "cell_type": "code",
   "execution_count": 194,
   "id": "82257d1c",
   "metadata": {},
   "outputs": [
    {
     "data": {
      "text/plain": [
       "0    549\n",
       "1    342\n",
       "Name: Survived, dtype: int64"
      ]
     },
     "execution_count": 194,
     "metadata": {},
     "output_type": "execute_result"
    }
   ],
   "source": [
    "y2.value_counts()"
   ]
  },
  {
   "cell_type": "code",
   "execution_count": 195,
   "id": "81d43743",
   "metadata": {},
   "outputs": [],
   "source": [
    "over = SMOTE(sampling_strategy={1:444})"
   ]
  },
  {
   "cell_type": "code",
   "execution_count": 196,
   "id": "b98da0c7",
   "metadata": {},
   "outputs": [],
   "source": [
    "X_re, y_re = over.fit_resample(X_train2, y_train2)"
   ]
  },
  {
   "cell_type": "code",
   "execution_count": 197,
   "id": "b7728ba8",
   "metadata": {},
   "outputs": [
    {
     "data": {
      "text/plain": [
       "0    444\n",
       "1    268\n",
       "Name: Survived, dtype: int64"
      ]
     },
     "execution_count": 197,
     "metadata": {},
     "output_type": "execute_result"
    }
   ],
   "source": [
    "y_train2.value_counts()"
   ]
  },
  {
   "cell_type": "code",
   "execution_count": 198,
   "id": "d3eabea5",
   "metadata": {},
   "outputs": [
    {
     "data": {
      "text/plain": [
       "0    444\n",
       "1    444\n",
       "Name: Survived, dtype: int64"
      ]
     },
     "execution_count": 198,
     "metadata": {},
     "output_type": "execute_result"
    }
   ],
   "source": [
    "y_re.value_counts()"
   ]
  },
  {
   "cell_type": "markdown",
   "id": "160693af",
   "metadata": {},
   "source": [
    "### Random Forest Classifier"
   ]
  },
  {
   "cell_type": "code",
   "execution_count": 199,
   "id": "8b6ce9bb",
   "metadata": {},
   "outputs": [],
   "source": [
    "# model = RandomForestClassifier(random_state=42, class_weight='balanced')\n",
    "\n",
    "# param_grid = {\"n_estimators\":[64, 100, 128, 200],\n",
    "#               \"max_depth\": [None, 6, 8, 10, 15],\n",
    "#               \"min_samples_leaf\": [1, 2, 3],\n",
    "#               \"min_samples_split\": [2, 5, 8],\n",
    "#               \"max_features\":['auto', 3, 4, 6, 8, 10]}\n",
    "\n",
    "# rf_model_re = GridSearchCV(estimator=model, param_grid=param_grid, scoring='accuracy', cv=5,\n",
    "#                              verbose=1, n_jobs = -1)"
   ]
  },
  {
   "cell_type": "code",
   "execution_count": 200,
   "id": "3e52236e",
   "metadata": {},
   "outputs": [],
   "source": [
    "# rf_model_re.fit(X_re, y_re)"
   ]
  },
  {
   "cell_type": "code",
   "execution_count": 201,
   "id": "2818efc7",
   "metadata": {},
   "outputs": [],
   "source": [
    "# rf_model_re.best_params_"
   ]
  },
  {
   "cell_type": "raw",
   "id": "814d35dd",
   "metadata": {},
   "source": [
    "These are the best parameters of this model acquired from the GridSearch\n",
    "\n",
    "{'max_depth': 10,\n",
    " 'max_features': 4,\n",
    " 'min_samples_leaf': 1,\n",
    " 'min_samples_split': 5,\n",
    " 'n_estimators': 64}"
   ]
  },
  {
   "cell_type": "code",
   "execution_count": 202,
   "id": "0273da09",
   "metadata": {},
   "outputs": [],
   "source": [
    "# rf_model_re.best_score_"
   ]
  },
  {
   "cell_type": "code",
   "execution_count": 203,
   "id": "31b21ba0",
   "metadata": {},
   "outputs": [],
   "source": [
    "rf_model_re = RandomForestClassifier(random_state=42, max_depth=10, max_features=4, min_samples_leaf=1, \n",
    "                                     min_samples_split=5, n_estimators=64, class_weight='balanced')"
   ]
  },
  {
   "cell_type": "code",
   "execution_count": 204,
   "id": "a3106bec",
   "metadata": {},
   "outputs": [
    {
     "data": {
      "text/plain": [
       "RandomForestClassifier(class_weight='balanced', max_depth=10, max_features=4,\n",
       "                       min_samples_split=5, n_estimators=64, random_state=42)"
      ]
     },
     "execution_count": 204,
     "metadata": {},
     "output_type": "execute_result"
    }
   ],
   "source": [
    "rf_model_re.fit(X_re, y_re)"
   ]
  },
  {
   "cell_type": "code",
   "execution_count": 205,
   "id": "2badad92",
   "metadata": {},
   "outputs": [
    {
     "name": "stdout",
     "output_type": "stream",
     "text": [
      "Test_Set\n",
      "[[92 13]\n",
      " [16 58]]\n",
      "              precision    recall  f1-score   support\n",
      "\n",
      "           0       0.85      0.88      0.86       105\n",
      "           1       0.82      0.78      0.80        74\n",
      "\n",
      "    accuracy                           0.84       179\n",
      "   macro avg       0.83      0.83      0.83       179\n",
      "weighted avg       0.84      0.84      0.84       179\n",
      "\n",
      "\n",
      "Train_Set\n",
      "[[431  13]\n",
      " [ 44 400]]\n",
      "              precision    recall  f1-score   support\n",
      "\n",
      "           0       0.91      0.97      0.94       444\n",
      "           1       0.97      0.90      0.93       444\n",
      "\n",
      "    accuracy                           0.94       888\n",
      "   macro avg       0.94      0.94      0.94       888\n",
      "weighted avg       0.94      0.94      0.94       888\n",
      "\n"
     ]
    }
   ],
   "source": [
    "eval_metric(rf_model_re, X_re, y_re, X_test2, y_test2)"
   ]
  },
  {
   "cell_type": "code",
   "execution_count": 206,
   "id": "54149380",
   "metadata": {},
   "outputs": [
    {
     "data": {
      "text/plain": [
       "test_precision   0.875\n",
       "test_recall      0.813\n",
       "test_f1          0.839\n",
       "test_accuracy    0.848\n",
       "dtype: float64"
      ]
     },
     "execution_count": 206,
     "metadata": {},
     "output_type": "execute_result"
    }
   ],
   "source": [
    "model = RandomForestClassifier(random_state=42, max_depth=10, max_features=4, min_samples_leaf=1, \n",
    "                                     min_samples_split=5, n_estimators=64, class_weight='balanced')\n",
    "\n",
    "scores = cross_validate(model, X_re, y_re, scoring=['precision','recall','f1','accuracy'], cv = 10)\n",
    "df_scores = pd.DataFrame(scores, index = range(1, 11))\n",
    "df_scores.mean()[2:]"
   ]
  },
  {
   "cell_type": "code",
   "execution_count": 207,
   "id": "6f72d861",
   "metadata": {},
   "outputs": [],
   "source": [
    "y_pred_rf_re = rf_model_re.predict(X_test2)\n",
    "accuracy_rf_re = accuracy_score(y_test2, y_pred_rf_re)\n",
    "recall_rf_re = recall_score(y_test2, y_pred_rf_re)\n",
    "precision_rf_re = precision_score(y_test2, y_pred_rf_re)\n",
    "f1_rf_re = f1_score(y_test2, y_pred_rf_re)"
   ]
  },
  {
   "cell_type": "code",
   "execution_count": 208,
   "id": "1ef50597",
   "metadata": {},
   "outputs": [
    {
     "data": {
      "image/png": "[encoded data removed]",
      "text/plain": [
       "<Figure size 576x396 with 1 Axes>"
      ]
     },
     "metadata": {},
     "output_type": "display_data"
    }
   ],
   "source": [
    "from yellowbrick.classifier import PrecisionRecallCurve\n",
    "\n",
    "model = RandomForestClassifier(random_state=42, max_depth=10, max_features=4, min_samples_leaf=1, \n",
    "                                     min_samples_split=5, n_estimators=64, class_weight='balanced')\n",
    "\n",
    "viz = PrecisionRecallCurve(\n",
    "    model,\n",
    "    per_class=True,\n",
    "    cmap=\"Set1\"\n",
    ")\n",
    "viz.fit(X_re, y_re)\n",
    "viz.score(X_test2, y_test2)\n",
    "viz.show();"
   ]
  },
  {
   "cell_type": "markdown",
   "id": "84f8b2da",
   "metadata": {},
   "source": [
    "### XGBoost Classifier"
   ]
  },
  {
   "cell_type": "code",
   "execution_count": 209,
   "id": "ddb5e3c4",
   "metadata": {},
   "outputs": [],
   "source": [
    "# model = XGBClassifier(random_state=42)\n",
    "\n",
    "# param_grid = {\"n_estimators\":[50, 64, 100, 128, 200], \"subsample\":[0.5, 0.8, 1], \"max_features\" : [None, 3, 4],\n",
    "#               \"learning_rate\": [0.05, 0.1, 0.2], 'max_depth':[2, 3, 4, 5], \"colsample_bytree\":[0.5, 0.7, 1, 2, 3]}\n",
    "\n",
    "# xgboost_model_re = GridSearchCV(estimator=model, param_grid=param_grid, scoring='accuracy', cv=5,\n",
    "#                              verbose=1, n_jobs = -1)"
   ]
  },
  {
   "cell_type": "code",
   "execution_count": 210,
   "id": "034c3fa5",
   "metadata": {},
   "outputs": [],
   "source": [
    "# xgboost_model_re.fit(X_re, y_re)"
   ]
  },
  {
   "cell_type": "code",
   "execution_count": 211,
   "id": "545b2a95",
   "metadata": {},
   "outputs": [],
   "source": [
    "# xgboost_model_re.best_params_"
   ]
  },
  {
   "cell_type": "raw",
   "id": "44e17da9",
   "metadata": {},
   "source": [
    "These are the best parameters of the model acquired through the GridSearch\n",
    "\n",
    "{'colsample_bytree': 0.7,\n",
    " 'learning_rate': 0.1,\n",
    " 'max_depth': 4,\n",
    " 'max_features': None,\n",
    " 'n_estimators': 200,\n",
    " 'subsample': 0.8}"
   ]
  },
  {
   "cell_type": "code",
   "execution_count": 212,
   "id": "ed0944cb",
   "metadata": {},
   "outputs": [],
   "source": [
    "# xgboost_model_re.best_score_"
   ]
  },
  {
   "cell_type": "code",
   "execution_count": 213,
   "id": "1f10bec0",
   "metadata": {},
   "outputs": [],
   "source": [
    "xgboost_model_re = XGBClassifier(colsample_bytree=0.7, learning_rate=0.1, max_depth=4, max_features=None,\n",
    "                      n_estimators=200, subsample=0.8, random_state=42)"
   ]
  },
  {
   "cell_type": "code",
   "execution_count": 214,
   "id": "cc57f789",
   "metadata": {},
   "outputs": [
    {
     "name": "stdout",
     "output_type": "stream",
     "text": [
      "[10:55:46] WARNING: ../src/learner.cc:1115: Starting in XGBoost 1.3.0, the default evaluation metric used with the objective 'binary:logistic' was changed from 'error' to 'logloss'. Explicitly set eval_metric if you'd like to restore the old behavior.\n"
     ]
    },
    {
     "data": {
      "text/plain": [
       "XGBClassifier(base_score=0.5, booster='gbtree', colsample_bylevel=1,\n",
       "              colsample_bynode=1, colsample_bytree=0.7,\n",
       "              enable_categorical=False, gamma=0, gpu_id=-1,\n",
       "              importance_type=None, interaction_constraints='',\n",
       "              learning_rate=0.1, max_delta_step=0, max_depth=4,\n",
       "              max_features=None, min_child_weight=1, missing=nan,\n",
       "              monotone_constraints='()', n_estimators=200, n_jobs=4,\n",
       "              num_parallel_tree=1, predictor='auto', random_state=42,\n",
       "              reg_alpha=0, reg_lambda=1, scale_pos_weight=1, subsample=0.8,\n",
       "              tree_method='exact', validate_parameters=1, verbosity=None)"
      ]
     },
     "execution_count": 214,
     "metadata": {},
     "output_type": "execute_result"
    }
   ],
   "source": [
    "xgboost_model_re.fit(X_re, y_re)"
   ]
  },
  {
   "cell_type": "code",
   "execution_count": 215,
   "id": "eb2f195e",
   "metadata": {},
   "outputs": [
    {
     "name": "stdout",
     "output_type": "stream",
     "text": [
      "Test_Set\n",
      "[[90 15]\n",
      " [14 60]]\n",
      "              precision    recall  f1-score   support\n",
      "\n",
      "           0       0.87      0.86      0.86       105\n",
      "           1       0.80      0.81      0.81        74\n",
      "\n",
      "    accuracy                           0.84       179\n",
      "   macro avg       0.83      0.83      0.83       179\n",
      "weighted avg       0.84      0.84      0.84       179\n",
      "\n",
      "\n",
      "Train_Set\n",
      "[[430  14]\n",
      " [ 39 405]]\n",
      "              precision    recall  f1-score   support\n",
      "\n",
      "           0       0.92      0.97      0.94       444\n",
      "           1       0.97      0.91      0.94       444\n",
      "\n",
      "    accuracy                           0.94       888\n",
      "   macro avg       0.94      0.94      0.94       888\n",
      "weighted avg       0.94      0.94      0.94       888\n",
      "\n"
     ]
    }
   ],
   "source": [
    "eval_metric(xgboost_model_re, X_re, y_re, X_test2, y_test2)"
   ]
  },
  {
   "cell_type": "code",
   "execution_count": 216,
   "id": "b09d71a9",
   "metadata": {},
   "outputs": [
    {
     "name": "stdout",
     "output_type": "stream",
     "text": [
      "[10:55:47] WARNING: ../src/learner.cc:1115: Starting in XGBoost 1.3.0, the default evaluation metric used with the objective 'binary:logistic' was changed from 'error' to 'logloss'. Explicitly set eval_metric if you'd like to restore the old behavior.\n",
      "[10:55:47] WARNING: ../src/learner.cc:1115: Starting in XGBoost 1.3.0, the default evaluation metric used with the objective 'binary:logistic' was changed from 'error' to 'logloss'. Explicitly set eval_metric if you'd like to restore the old behavior.\n",
      "[10:55:47] WARNING: ../src/learner.cc:1115: Starting in XGBoost 1.3.0, the default evaluation metric used with the objective 'binary:logistic' was changed from 'error' to 'logloss'. Explicitly set eval_metric if you'd like to restore the old behavior.\n",
      "[10:55:47] WARNING: ../src/learner.cc:1115: Starting in XGBoost 1.3.0, the default evaluation metric used with the objective 'binary:logistic' was changed from 'error' to 'logloss'. Explicitly set eval_metric if you'd like to restore the old behavior.\n",
      "[10:55:48] WARNING: ../src/learner.cc:1115: Starting in XGBoost 1.3.0, the default evaluation metric used with the objective 'binary:logistic' was changed from 'error' to 'logloss'. Explicitly set eval_metric if you'd like to restore the old behavior.\n",
      "[10:55:48] WARNING: ../src/learner.cc:1115: Starting in XGBoost 1.3.0, the default evaluation metric used with the objective 'binary:logistic' was changed from 'error' to 'logloss'. Explicitly set eval_metric if you'd like to restore the old behavior.\n",
      "[10:55:48] WARNING: ../src/learner.cc:1115: Starting in XGBoost 1.3.0, the default evaluation metric used with the objective 'binary:logistic' was changed from 'error' to 'logloss'. Explicitly set eval_metric if you'd like to restore the old behavior.\n",
      "[10:55:48] WARNING: ../src/learner.cc:1115: Starting in XGBoost 1.3.0, the default evaluation metric used with the objective 'binary:logistic' was changed from 'error' to 'logloss'. Explicitly set eval_metric if you'd like to restore the old behavior.\n",
      "[10:55:48] WARNING: ../src/learner.cc:1115: Starting in XGBoost 1.3.0, the default evaluation metric used with the objective 'binary:logistic' was changed from 'error' to 'logloss'. Explicitly set eval_metric if you'd like to restore the old behavior.\n",
      "[10:55:49] WARNING: ../src/learner.cc:1115: Starting in XGBoost 1.3.0, the default evaluation metric used with the objective 'binary:logistic' was changed from 'error' to 'logloss'. Explicitly set eval_metric if you'd like to restore the old behavior.\n"
     ]
    },
    {
     "data": {
      "text/plain": [
       "test_precision   0.876\n",
       "test_recall      0.815\n",
       "test_f1          0.840\n",
       "test_accuracy    0.849\n",
       "dtype: float64"
      ]
     },
     "execution_count": 216,
     "metadata": {},
     "output_type": "execute_result"
    }
   ],
   "source": [
    "model = XGBClassifier(colsample_bytree=0.7, learning_rate=0.1, max_depth=4, max_features=None,\n",
    "                      n_estimators=200, subsample=0.8, random_state=42)\n",
    "\n",
    "scores = cross_validate(model, X_re, y_re, scoring=['precision','recall','f1','accuracy'], cv = 10)\n",
    "df_scores = pd.DataFrame(scores, index = range(1, 11))\n",
    "df_scores.mean()[2:]"
   ]
  },
  {
   "cell_type": "code",
   "execution_count": 217,
   "id": "e577da8c",
   "metadata": {},
   "outputs": [],
   "source": [
    "y_pred_xgb_re = xgboost_model_re.predict(X_test2)\n",
    "accuracy_xgb_re = accuracy_score(y_test2, y_pred_xgb_re)\n",
    "recall_xgb_re = recall_score(y_test2, y_pred_xgb_re)\n",
    "precision_xgb_re = precision_score(y_test2, y_pred_xgb_re)\n",
    "f1_xgb_re = f1_score(y_test2, y_pred_xgb_re)"
   ]
  },
  {
   "cell_type": "code",
   "execution_count": 218,
   "id": "0b2c86d3",
   "metadata": {},
   "outputs": [
    {
     "name": "stdout",
     "output_type": "stream",
     "text": [
      "[10:55:49] WARNING: ../src/learner.cc:1115: Starting in XGBoost 1.3.0, the default evaluation metric used with the objective 'binary:logistic' was changed from 'error' to 'logloss'. Explicitly set eval_metric if you'd like to restore the old behavior.\n"
     ]
    },
    {
     "data": {
      "image/png": "[encoded data removed]",
      "text/plain": [
       "<Figure size 576x396 with 1 Axes>"
      ]
     },
     "metadata": {},
     "output_type": "display_data"
    }
   ],
   "source": [
    "model = XGBClassifier(colsample_bytree=0.7, learning_rate=0.1, max_depth=4, max_features=None,\n",
    "                      n_estimators=200, subsample=0.8, random_state=42)\n",
    "\n",
    "viz = PrecisionRecallCurve(\n",
    "    model,\n",
    "    per_class=True,\n",
    "    cmap=\"Set1\"\n",
    ")\n",
    "viz.fit(X_re, y_re)\n",
    "viz.score(X_test2, y_test2)\n",
    "viz.show();"
   ]
  },
  {
   "cell_type": "markdown",
   "id": "eb6d6875",
   "metadata": {},
   "source": [
    "### Logistic Regression"
   ]
  },
  {
   "cell_type": "code",
   "execution_count": 254,
   "id": "2ce36669",
   "metadata": {},
   "outputs": [
    {
     "data": {
      "text/plain": [
       "0    439\n",
       "1    273\n",
       "Name: Survived, dtype: int64"
      ]
     },
     "execution_count": 254,
     "metadata": {},
     "output_type": "execute_result"
    }
   ],
   "source": [
    "y_train.value_counts()"
   ]
  },
  {
   "cell_type": "code",
   "execution_count": 255,
   "id": "cfba4784",
   "metadata": {},
   "outputs": [],
   "source": [
    "over = SMOTE(sampling_strategy={1:439})"
   ]
  },
  {
   "cell_type": "code",
   "execution_count": 241,
   "id": "dce5629a",
   "metadata": {},
   "outputs": [],
   "source": [
    "operations = [('o', over), (\"scaler\", MinMaxScaler()), \n",
    "              (\"log\", LogisticRegression(random_state=42))]\n",
    "\n",
    "smote_pipeline_log = imbpipeline(steps=operations)\n",
    "\n",
    "penalty = [\"l1\", \"l2\"]\n",
    "C = np.logspace(-1, 5, 20)\n",
    "class_weight= [\"balanced\", None] \n",
    "solver = [\"lbfgs\", \"liblinear\", \"sag\", \"saga\"]\n",
    "\n",
    "param_grid = {\"log__penalty\" : penalty,\n",
    "              \"log__C\" : C,\n",
    "              \"log__class_weight\":class_weight,\n",
    "              \"log__solver\":solver}\n",
    "\n",
    "log_model_smote = GridSearchCV(estimator=smote_pipeline_log,\n",
    "                          param_grid=param_grid,\n",
    "                          cv=10,\n",
    "                          scoring = \"accuracy\",\n",
    "                          n_jobs = -1)"
   ]
  },
  {
   "cell_type": "code",
   "execution_count": 248,
   "id": "1e092b15",
   "metadata": {},
   "outputs": [],
   "source": [
    "# log_model_smote.fit(X_train, y_train)"
   ]
  },
  {
   "cell_type": "code",
   "execution_count": 247,
   "id": "e252af38",
   "metadata": {},
   "outputs": [],
   "source": [
    "# log_model_smote.best_params_"
   ]
  },
  {
   "cell_type": "raw",
   "id": "c0465968",
   "metadata": {},
   "source": [
    "These are the best parameters of the model acquired from the GridSearch\n",
    "\n",
    "{'log__C': 23357.21469090121,\n",
    " 'log__class_weight': 'balanced',\n",
    " 'log__penalty': 'l2',\n",
    " 'log__solver': 'liblinear'}"
   ]
  },
  {
   "cell_type": "code",
   "execution_count": 246,
   "id": "a06c8d19",
   "metadata": {},
   "outputs": [],
   "source": [
    "# log_model_smote.best_score_"
   ]
  },
  {
   "cell_type": "code",
   "execution_count": 264,
   "id": "0dc9153c",
   "metadata": {},
   "outputs": [
    {
     "data": {
      "text/plain": [
       "Pipeline(steps=[('o', SMOTE(sampling_strategy={1: 439})),\n",
       "                ('scaler', MinMaxScaler()),\n",
       "                ('log',\n",
       "                 LogisticRegression(C=23357.21469090121,\n",
       "                                    class_weight='balanced', random_state=42,\n",
       "                                    solver='liblinear'))])"
      ]
     },
     "execution_count": 264,
     "metadata": {},
     "output_type": "execute_result"
    }
   ],
   "source": [
    "operations_log = [('o', over),(\"scaler\", MinMaxScaler()), (\"log\", LogisticRegression(random_state=42,\n",
    "                                                                        C=23357.21469090121, class_weight='balanced',\n",
    "                                                                        penalty='l2', solver='liblinear'))]\n",
    "log_model_smote = imbpipeline(steps=operations_log)\n",
    "log_model_smote.fit(X_train, y_train)"
   ]
  },
  {
   "cell_type": "code",
   "execution_count": 265,
   "id": "e51d43c7",
   "metadata": {},
   "outputs": [
    {
     "name": "stdout",
     "output_type": "stream",
     "text": [
      "Test_Set\n",
      "[[97 13]\n",
      " [19 50]]\n",
      "              precision    recall  f1-score   support\n",
      "\n",
      "           0       0.84      0.88      0.86       110\n",
      "           1       0.79      0.72      0.76        69\n",
      "\n",
      "    accuracy                           0.82       179\n",
      "   macro avg       0.81      0.80      0.81       179\n",
      "weighted avg       0.82      0.82      0.82       179\n",
      "\n",
      "\n",
      "Train_Set\n",
      "[[368  71]\n",
      " [ 77 196]]\n",
      "              precision    recall  f1-score   support\n",
      "\n",
      "           0       0.83      0.84      0.83       439\n",
      "           1       0.73      0.72      0.73       273\n",
      "\n",
      "    accuracy                           0.79       712\n",
      "   macro avg       0.78      0.78      0.78       712\n",
      "weighted avg       0.79      0.79      0.79       712\n",
      "\n"
     ]
    }
   ],
   "source": [
    "eval_metric(log_model_smote, X_train, y_train, X_test, y_test)"
   ]
  },
  {
   "cell_type": "code",
   "execution_count": 266,
   "id": "5a12519a",
   "metadata": {},
   "outputs": [
    {
     "data": {
      "text/plain": [
       "test_precision   0.739\n",
       "test_recall      0.722\n",
       "test_f1          0.727\n",
       "test_accuracy    0.795\n",
       "dtype: float64"
      ]
     },
     "execution_count": 266,
     "metadata": {},
     "output_type": "execute_result"
    }
   ],
   "source": [
    "operations_log = [('o', over),(\"scaler\", MinMaxScaler()), (\"log\", LogisticRegression(random_state=42,\n",
    "                                                                        C=23357.21469090121, class_weight='balanced',\n",
    "                                                                        penalty='l2', solver='liblinear'))]\n",
    "pipe_log_model = imbpipeline(steps=operations_log)\n",
    "\n",
    "scores = cross_validate(pipe_log_model, X_train, y_train, scoring=['precision','recall','f1','accuracy'], cv=10)\n",
    "scores = pd.DataFrame(scores, index=range(1,11))\n",
    "scores.iloc[:, 2:].mean()"
   ]
  },
  {
   "cell_type": "code",
   "execution_count": 267,
   "id": "06501397",
   "metadata": {},
   "outputs": [],
   "source": [
    "y_pred_log_re = log_model_smote.predict(X_test)\n",
    "accuracy_log_re = accuracy_score(y_test, y_pred_log_re)\n",
    "recall_log_re = recall_score(y_test, y_pred_log_re)\n",
    "precision_log_re = precision_score(y_test, y_pred_log_re)\n",
    "f1_log_re = f1_score(y_test, y_pred_log_re)"
   ]
  },
  {
   "cell_type": "markdown",
   "id": "bd941630",
   "metadata": {},
   "source": [
    "### New Comparison"
   ]
  },
  {
   "cell_type": "code",
   "execution_count": 269,
   "id": "c35611bb",
   "metadata": {},
   "outputs": [],
   "source": [
    "compare = pd.DataFrame({\"Model\": [\"Logistic Regression\", \"KNN\", \"SVR\", \"Decision Tree\", \n",
    "                                  \"Random Forest\", \"AdaBoost\", \"XGBoost\", \"Random Forest SMOTE\", \"XGBoost SMOTE\",\n",
    "                                 \"Logistic SMOTE\"],\n",
    "                    \"Accuracy\": [accuracy_log, accuracy_knn, accuracy_svc, accuracy_dt, accuracy_rf, accuracy_ada,\n",
    "                                accuracy_xgb, accuracy_rf_re, accuracy_xgb_re, accuracy_log_re],\n",
    "                    \"Recall\": [recall_log, recall_knn, recall_svc, recall_dt, recall_rf, recall_ada, recall_xgb,\n",
    "                              recall_rf_re, recall_xgb_re, recall_log_re],\n",
    "                    \"Precision\": [precision_log, precision_knn, precision_svc, precision_dt, precision_rf,\n",
    "                                 precision_ada, precision_xgb, precision_rf_re, precision_xgb_re, precision_log_re],\n",
    "                    \"F1-Score\": [f1_log, f1_knn, f1_svc, f1_dt, f1_rf, f1_ada, f1_xgb, f1_rf_re, f1_xgb_re,\n",
    "                                f1_log_re]})"
   ]
  },
  {
   "cell_type": "code",
   "execution_count": 270,
   "id": "fedc16e2",
   "metadata": {},
   "outputs": [
    {
     "data": {
      "image/png": "[encoded data removed]",
      "text/plain": [
       "<Figure size 1152x1440 with 4 Axes>"
      ]
     },
     "metadata": {},
     "output_type": "display_data"
    }
   ],
   "source": [
    "fig, ax = plt.subplots(4,1, figsize=(16,20))\n",
    "\n",
    "def labels(ax, i):\n",
    "    for p in ax[i].patches:\n",
    "        ax[i].annotate(format(p.get_height(), '.3f'), (p.get_x() + p.get_width() / 2., p.get_height()),\n",
    "                       ha='center', va='center', xytext=(1,7), textcoords='offset points', fontsize=11)\n",
    "                \n",
    "sns.barplot(x='Model', y='Accuracy', data=compare.sort_values('Accuracy', ascending=False), palette='rocket', ax = ax[0]), labels(ax,0)\n",
    "sns.barplot(x='Model', y='Recall', data=compare.sort_values('Recall', ascending=False), palette='rocket', ax = ax[1]), labels(ax,1)\n",
    "sns.barplot(x='Model', y='Precision', data=compare.sort_values('Precision', ascending=False), palette='rocket', ax = ax[2]), labels(ax,2)\n",
    "sns.barplot(x='Model', y='F1-Score', data=compare.sort_values('F1-Score', ascending=False), palette='rocket', ax = ax[3]), labels(ax,3)\n",
    "\n",
    "fig.suptitle('MODEL COMPARISONS')\n",
    "fig.tight_layout(); "
   ]
  },
  {
   "cell_type": "markdown",
   "id": "743b9897",
   "metadata": {},
   "source": [
    "### New Predictions"
   ]
  },
  {
   "cell_type": "code",
   "execution_count": 221,
   "id": "4229e194",
   "metadata": {},
   "outputs": [],
   "source": [
    "final_rf_re_model = RandomForestClassifier(random_state=42, max_depth=10, max_features=4, min_samples_leaf=1, \n",
    "                                     min_samples_split=5, n_estimators=64, class_weight='balanced')"
   ]
  },
  {
   "cell_type": "code",
   "execution_count": 222,
   "id": "bdb33758",
   "metadata": {},
   "outputs": [
    {
     "data": {
      "text/plain": [
       "RandomForestClassifier(class_weight='balanced', max_depth=10, max_features=4,\n",
       "                       min_samples_split=5, n_estimators=64, random_state=42)"
      ]
     },
     "execution_count": 222,
     "metadata": {},
     "output_type": "execute_result"
    }
   ],
   "source": [
    "final_rf_re_model.fit(X2, y2)"
   ]
  },
  {
   "cell_type": "code",
   "execution_count": 223,
   "id": "24c44a94",
   "metadata": {},
   "outputs": [],
   "source": [
    "final_pred_rf_re = final_rf_re_model.predict(X_enc)"
   ]
  },
  {
   "cell_type": "code",
   "execution_count": 224,
   "id": "5a34c672",
   "metadata": {},
   "outputs": [],
   "source": [
    "final_xgb_re_model = XGBClassifier(colsample_bytree=0.7, learning_rate=0.1, max_depth=4, max_features=None,\n",
    "                      n_estimators=200, subsample=0.8, random_state=42)"
   ]
  },
  {
   "cell_type": "code",
   "execution_count": 225,
   "id": "ba47ad17",
   "metadata": {},
   "outputs": [
    {
     "name": "stdout",
     "output_type": "stream",
     "text": [
      "[10:55:49] WARNING: ../src/learner.cc:1115: Starting in XGBoost 1.3.0, the default evaluation metric used with the objective 'binary:logistic' was changed from 'error' to 'logloss'. Explicitly set eval_metric if you'd like to restore the old behavior.\n"
     ]
    },
    {
     "data": {
      "text/plain": [
       "XGBClassifier(base_score=0.5, booster='gbtree', colsample_bylevel=1,\n",
       "              colsample_bynode=1, colsample_bytree=0.7,\n",
       "              enable_categorical=False, gamma=0, gpu_id=-1,\n",
       "              importance_type=None, interaction_constraints='',\n",
       "              learning_rate=0.1, max_delta_step=0, max_depth=4,\n",
       "              max_features=None, min_child_weight=1, missing=nan,\n",
       "              monotone_constraints='()', n_estimators=200, n_jobs=4,\n",
       "              num_parallel_tree=1, predictor='auto', random_state=42,\n",
       "              reg_alpha=0, reg_lambda=1, scale_pos_weight=1, subsample=0.8,\n",
       "              tree_method='exact', validate_parameters=1, verbosity=None)"
      ]
     },
     "execution_count": 225,
     "metadata": {},
     "output_type": "execute_result"
    }
   ],
   "source": [
    "final_xgb_re_model.fit(X2, y2)"
   ]
  },
  {
   "cell_type": "code",
   "execution_count": 226,
   "id": "820c456b",
   "metadata": {},
   "outputs": [],
   "source": [
    "final_pred_re_xgb = final_xgb_re_model.predict(X_enc)"
   ]
  },
  {
   "cell_type": "code",
   "execution_count": 227,
   "id": "b105182b",
   "metadata": {},
   "outputs": [],
   "source": [
    "rf_re_df = pd.DataFrame(final_pred_rf_re, columns=['Random Forest SMOTE'])"
   ]
  },
  {
   "cell_type": "code",
   "execution_count": 228,
   "id": "69675495",
   "metadata": {},
   "outputs": [],
   "source": [
    "xgb_re_df = pd.DataFrame(final_pred_re_xgb, columns=['XGBoost SMOTE'])"
   ]
  },
  {
   "cell_type": "code",
   "execution_count": 229,
   "id": "b89f6f42",
   "metadata": {},
   "outputs": [],
   "source": [
    "submission_re = pd.DataFrame(final_pred_rf_re, columns=['Survived'])"
   ]
  },
  {
   "cell_type": "code",
   "execution_count": 230,
   "id": "b054eb7a",
   "metadata": {},
   "outputs": [],
   "source": [
    "submit_re = pd.concat([test_data['PassengerId'], submission_re], axis=1)"
   ]
  },
  {
   "cell_type": "code",
   "execution_count": 231,
   "id": "2ec74aa5",
   "metadata": {},
   "outputs": [],
   "source": [
    "submission_xgb = pd.DataFrame(final_pred_re_xgb, columns=['Survived'])"
   ]
  },
  {
   "cell_type": "code",
   "execution_count": 232,
   "id": "4c06a947",
   "metadata": {},
   "outputs": [],
   "source": [
    "submit_xgb = pd.concat([test_data['PassengerId'], submission_xgb], axis=1)"
   ]
  },
  {
   "cell_type": "code",
   "execution_count": 233,
   "id": "0a87690f",
   "metadata": {},
   "outputs": [],
   "source": [
    "# submit_re.to_csv('submission_re.csv', index=False)"
   ]
  },
  {
   "cell_type": "code",
   "execution_count": 234,
   "id": "47d0d629",
   "metadata": {},
   "outputs": [],
   "source": [
    "# submit_xgb.to_csv('submission_xgb.csv', index=False)"
   ]
  },
  {
   "cell_type": "code",
   "execution_count": null,
   "id": "32944d69",
   "metadata": {},
   "outputs": [],
   "source": []
  }
 ],
 "metadata": {
  "kernelspec": {
   "display_name": "Python 3 (ipykernel)",
   "language": "python",
   "name": "python3"
  },
  "language_info": {
   "codemirror_mode": {
    "name": "ipython",
    "version": 3
   },
   "file_extension": ".py",
   "mimetype": "text/x-python",
   "name": "python",
   "nbconvert_exporter": "python",
   "pygments_lexer": "ipython3",
   "version": "3.9.7"
  }
 },
 "nbformat": 4,
 "nbformat_minor": 5
}
